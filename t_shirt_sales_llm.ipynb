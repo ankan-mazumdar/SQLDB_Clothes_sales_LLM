{
  "cells": [
    {
      "cell_type": "markdown",
      "id": "CXxL_p1dxlyU",
      "metadata": {
        "id": "CXxL_p1dxlyU"
      },
      "source": [
        "SQLite library"
      ]
    },
    {
      "cell_type": "code",
      "execution_count": 2,
      "id": "d7mdKh0exk9m",
      "metadata": {
        "colab": {
          "base_uri": "https://localhost:8080/"
        },
        "collapsed": true,
        "id": "d7mdKh0exk9m",
        "outputId": "4c5710e4-95ff-48a4-c4c8-2056e137f825"
      },
      "outputs": [],
      "source": [
        "# !apt-get install sqlite3\n",
        "# import sqlite3\n",
        "# import pandas as pd"
      ]
    },
    {
      "cell_type": "code",
      "execution_count": 3,
      "id": "MDSF0eNxxuEt",
      "metadata": {
        "id": "MDSF0eNxxuEt"
      },
      "outputs": [],
      "source": [
        "# conn = sqlite3.connect('atliq_tshirts.db')\n",
        "# cursor = conn.cursor()"
      ]
    },
    {
      "cell_type": "code",
      "execution_count": 4,
      "id": "WAHdof45yaHa",
      "metadata": {
        "colab": {
          "base_uri": "https://localhost:8080/"
        },
        "id": "WAHdof45yaHa",
        "outputId": "f15020fb-2a9e-4791-c5d2-e5dcdb265df6"
      },
      "outputs": [],
      "source": [
        "# import sqlite3\n",
        "\n",
        "# # Connect to the database (or create it if it doesn't exist)\n",
        "# conn = sqlite3.connect('atliq_tshirts.db')\n",
        "# cursor = conn.cursor()\n",
        "\n",
        "# # Query to get the list of tables\n",
        "# cursor.execute(\"SELECT name FROM sqlite_master;\")\n",
        "# tables = cursor.fetchall()\n",
        "\n",
        "# # Print the list of tables\n",
        "# print(\"Tables in the database:\")\n",
        "# for table in tables:\n",
        "#     print(table[0])\n",
        "\n"
      ]
    },
    {
      "cell_type": "code",
      "execution_count": 5,
      "id": "Nd2_G5XCyDpH",
      "metadata": {
        "colab": {
          "base_uri": "https://localhost:8080/"
        },
        "id": "Nd2_G5XCyDpH",
        "outputId": "df8ed1df-cff7-4c2a-bcef-9429d48616d3"
      },
      "outputs": [],
      "source": [
        "# def create_t_shirts_table():\n",
        "#     try:\n",
        "#         cursor.execute(\"\"\"\n",
        "#         CREATE TABLE t_shirts (\n",
        "#             t_shirt_id INT PRIMARY KEY,\n",
        "#             brand VARCHAR(20) NOT NULL,\n",
        "#             color VARCHAR(20) NOT NULL,\n",
        "#             size VARCHAR(20) NOT NULL,\n",
        "#             price INT CHECK (price BETWEEN 10 AND 50),\n",
        "#             stock_quantity INT NOT NULL\n",
        "#         )\"\"\"\n",
        "#         )\n",
        "#         conn.commit()\n",
        "#         print(\"Table 't_shirts' created successfully.\")\n",
        "#     except sqlite3.OperationalError as e:\n",
        "#         if 'already exists' in str(e):\n",
        "#             print(\"Table 't_shirts' already exists.\")\n",
        "#             # Optionally, you can drop and recreate the table\n",
        "#             # cursor.execute(\"DROP TABLE IF EXISTS t_shirts\")\n",
        "#             # conn.commit()\n",
        "#             # create_t_shirts_table()\n",
        "#         else:\n",
        "#             raise\n",
        "\n",
        "# # Create the table\n",
        "# create_t_shirts_table()\n",
        "\n",
        "# # Function to create the discounts table\n",
        "# def create_discounts_table():\n",
        "#     try:\n",
        "#         cursor.execute(\"\"\"\n",
        "#         CREATE TABLE discounts (\n",
        "#             discount_id INT PRIMARY KEY,\n",
        "#             t_shirt_id INT NOT NULL,\n",
        "#             pct_discount DECIMAL(5,2) CHECK (pct_discount BETWEEN 0 AND 100),\n",
        "#             FOREIGN KEY (t_shirt_id) REFERENCES t_shirts(t_shirt_id)\n",
        "#         )\"\"\"\n",
        "#         )\n",
        "#         conn.commit()\n",
        "#         print(\"Table 'discounts' created successfully.\")\n",
        "#     except sqlite3.OperationalError as e:\n",
        "#         if 'already exists' in str(e):\n",
        "#             print(\"Table 'discounts' already exists.\")\n",
        "#             # Optionally, you can drop and recreate the table\n",
        "#             # cursor.execute(\"DROP TABLE IF\n",
        "# create_discounts_table()"
      ]
    },
    {
      "cell_type": "code",
      "execution_count": 6,
      "id": "Kdy0HbBR2Sz_",
      "metadata": {
        "id": "Kdy0HbBR2Sz_"
      },
      "outputs": [],
      "source": [
        "# cursor.execute(\"\"\"\n",
        "# INSERT INTO discounts (t_shirt_id, pct_discount)\n",
        "# VALUES\n",
        "# (1, 10.00),\n",
        "# (2, 15.00),\n",
        "# (3, 20.00),\n",
        "# (4, 5.00),\n",
        "# (5, 25.00),\n",
        "# (6, 10.00),\n",
        "# (7, 30.00),\n",
        "# (8, 35.00),\n",
        "# (9, 40.00),\n",
        "# (10, 45.00)\n",
        "# \"\"\")\n",
        "# conn.commit()"
      ]
    },
    {
      "cell_type": "code",
      "execution_count": 7,
      "id": "O0eC6OV72bR0",
      "metadata": {
        "collapsed": true,
        "id": "O0eC6OV72bR0"
      },
      "outputs": [],
      "source": [
        "# cursor.execute(\"\"\"\n",
        "# INSERT INTO t_shirts VALUES\n",
        "#   (1, 'Van Huesen', 'Blue', 'XS', 17, 81),\n",
        "#     (2, 'Levi', 'Black', 'L', 29, 50),\n",
        "#     (3, 'Adidas', 'White', 'M', 14, 14),\n",
        "#     (4, 'Adidas', 'Blue', 'M', 31, 91),\n",
        "#     (5, 'Adidas', 'Black', 'L', 22, 58),\n",
        "#     (6, 'Adidas', 'Blue', 'XS', 43, 71),\n",
        "#     (7, 'Adidas', 'Black', 'XL', 23, 71),\n",
        "#     (8, 'Levi', 'White', 'M', 42, 45),\n",
        "#     (9, 'Nike', 'Black', 'L', 37, 22),\n",
        "#     (10, 'Nike', 'White', 'M', 38, 10),\n",
        "#     (11, 'Adidas', 'White', 'L', 12, 97),\n",
        "#     (12, 'Nike', 'Red', 'XS', 45, 19),\n",
        "#     (13, 'Adidas', 'Red', 'M', 23, 51),\n",
        "#     (14, 'Levi', 'Red', 'L', 11, 25),\n",
        "#     (15, 'Nike', 'Red', 'M', 29, 61),\n",
        "#     (16, 'Levi', 'Black', 'S', 37, 64),\n",
        "#     (17, 'Adidas', 'Red', 'XL', 20, 43),\n",
        "#     (18, 'Van Huesen', 'Blue', 'L', 18, 10),\n",
        "#     (19, 'Levi', 'White', 'S', 17, 83),\n",
        "#     (20, 'Levi', 'White', 'XL', 42, 44),\n",
        "#     (21, 'Nike', 'Black', 'XL', 13, 67),\n",
        "#     (22, 'Adidas', 'White', 'XS', 44, 17),\n",
        "#     (23, 'Adidas', 'Blue', 'L', 46, 23),\n",
        "#     (24, 'Van Huesen', 'White', 'M', 13, 63),\n",
        "#     (26, 'Nike', 'Black', 'XS', 30, 37),\n",
        "#     (27, 'Adidas', 'Red', 'S', 47, 97),\n",
        "#     (29, 'Nike', 'White', 'L', 48, 49),\n",
        "#     (30, 'Levi', 'Blue', 'S', 16, 86),\n",
        "#     (31, 'Nike', 'Red', 'S', 48, 100),\n",
        "#     (32, 'Van Huesen', 'White', 'L', 46, 43),\n",
        "#     (33, 'Van Huesen', 'White', 'XS', 39, 33),\n",
        "#     (34, 'Van Huesen', 'White', 'S', 45, 38),\n",
        "#     (41, 'Adidas', 'Black', 'S', 43, 24),\n",
        "#     (43, 'Nike', 'Black', 'M', 17, 59),\n",
        "#     (44, 'Van Huesen', 'Blue', 'M', 10, 77),\n",
        "#     (45, 'Nike', 'White', 'XL', 49, 90),\n",
        "#     (46, 'Nike', 'White', 'S', 42, 89),\n",
        "#     (47, 'Adidas', 'Blue', 'XL', 14, 14),\n",
        "#     (52, 'Adidas', 'Red', 'XS', 11, 81),\n",
        "#     (53, 'Adidas', 'White', 'XL', 50, 26),\n",
        "#     (55, 'Levi', 'Red', 'XL', 30, 80),\n",
        "#     (57, 'Van Huesen', 'Black', 'XL', 23, 19),\n",
        "#     (58, 'Nike', 'Blue', 'XS', 38, 15),\n",
        "#     (61, 'Van Huesen', 'Blue', 'XL', 27, 44),\n",
        "#     (63, 'Van Huesen', 'Red', 'XS', 24, 53),\n",
        "#     (69, 'Levi', 'Black', 'XS', 44, 82),\n",
        "#     (70, 'Levi', 'White', 'XS', 30, 51),\n",
        "#     (72, 'Nike', 'Black', 'S', 35, 20),\n",
        "#     (74, 'Levi', 'Red', 'XS', 19, 86),\n",
        "#     (77, 'Levi', 'Black', 'M', 25, 44),\n",
        "#     (80, 'Van Huesen', 'Red', 'S', 41, 23),\n",
        "#     (81, 'Levi', 'Black', 'XL', 32, 18),\n",
        "#     (83, 'Van Huesen', 'Red', 'M', 42, 31),\n",
        "#     (84, 'Adidas', 'Blue', 'S', 36, 25),\n",
        "#     (94, 'Nike', 'White', 'XS', 43, 99),\n",
        "#     (100, 'Levi', 'Blue', 'M', 49, 16)\n",
        "# \"\"\")\n",
        "# conn.commit()"
      ]
    },
    {
      "cell_type": "code",
      "execution_count": 8,
      "id": "etEqBT6b4SGM",
      "metadata": {
        "colab": {
          "base_uri": "https://localhost:8080/"
        },
        "collapsed": true,
        "id": "etEqBT6b4SGM",
        "outputId": "9951a019-d462-4745-d1e9-489ad0e841ee"
      },
      "outputs": [],
      "source": [
        "# cursor.execute(\"SELECT * FROM t_shirts\")\n",
        "# rows = cursor.fetchall()\n",
        "# for row in rows:\n",
        "#     print(row)"
      ]
    },
    {
      "cell_type": "code",
      "execution_count": 9,
      "id": "ETrURe3n4vgu",
      "metadata": {
        "colab": {
          "base_uri": "https://localhost:8080/"
        },
        "id": "ETrURe3n4vgu",
        "outputId": "b2833da2-56d7-4397-b035-cf6ace0c69c9"
      },
      "outputs": [],
      "source": [
        "# from google.colab import drive\n",
        "# drive.mount('/content/drive')"
      ]
    },
    {
      "cell_type": "code",
      "execution_count": 10,
      "id": "64WDe2doYVdY",
      "metadata": {
        "colab": {
          "base_uri": "https://localhost:8080/",
          "height": 1000
        },
        "collapsed": true,
        "id": "64WDe2doYVdY",
        "outputId": "9a020d62-3920-4758-c4b4-5321d4171668"
      },
      "outputs": [],
      "source": [
        "# !pip install -r '/content/drive/MyDrive/sqliteDB/requirements.txt'"
      ]
    },
    {
      "cell_type": "markdown",
      "id": "5ff82c00",
      "metadata": {
        "id": "5ff82c00"
      },
      "source": [
        "#### Google Palm LLM & API key setup"
      ]
    },
    {
      "cell_type": "code",
      "execution_count": 11,
      "id": "h24NjEYWRGcI",
      "metadata": {
        "colab": {
          "base_uri": "https://localhost:8080/"
        },
        "collapsed": true,
        "id": "h24NjEYWRGcI",
        "outputId": "aa7693d1-4c98-4155-9b66-2246f1dbc0e9"
      },
      "outputs": [],
      "source": [
        "# !pip install chromadb==0.4.15\n",
        "# !pip install langchain_community"
      ]
    },
    {
      "cell_type": "code",
      "execution_count": 13,
      "id": "6de1952b",
      "metadata": {
        "id": "6de1952b"
      },
      "outputs": [
        {
          "name": "stderr",
          "output_type": "stream",
          "text": [
            "c:\\Python\\Lib\\site-packages\\tqdm\\auto.py:21: TqdmWarning: IProgress not found. Please update jupyter and ipywidgets. See https://ipywidgets.readthedocs.io/en/stable/user_install.html\n",
            "  from .autonotebook import tqdm as notebook_tqdm\n"
          ]
        }
      ],
      "source": [
        "from langchain_community.llms import GooglePalm\n",
        "\n",
        "api_key = ''\n",
        "\n",
        "llm = GooglePalm(google_api_key=api_key, temperature=0.2)"
      ]
    },
    {
      "cell_type": "markdown",
      "id": "e0c0d700",
      "metadata": {
        "id": "e0c0d700"
      },
      "source": [
        "#### Connect with database and ask some basic questions"
      ]
    },
    {
      "cell_type": "code",
      "execution_count": 14,
      "id": "f48fbb53",
      "metadata": {
        "id": "f48fbb53"
      },
      "outputs": [],
      "source": [
        "from langchain.utilities import SQLDatabase\n",
        "from langchain_experimental.sql import SQLDatabaseChain"
      ]
    },
    {
      "cell_type": "code",
      "execution_count": null,
      "id": "993r2Ori6c3E",
      "metadata": {
        "collapsed": true,
        "id": "993r2Ori6c3E"
      },
      "outputs": [],
      "source": [
        "#!pip install langchain sqlalchemy"
      ]
    },
    {
      "cell_type": "code",
      "execution_count": null,
      "id": "23f9ae16",
      "metadata": {
        "colab": {
          "base_uri": "https://localhost:8080/"
        },
        "collapsed": true,
        "id": "23f9ae16",
        "outputId": "b5a609a4-400b-48dd-a1de-2af4de820e17"
      },
      "outputs": [
        {
          "name": "stdout",
          "output_type": "stream",
          "text": [
            "\n",
            "CREATE TABLE discounts (\n",
            "\tdiscount_id INTEGER, \n",
            "\tt_shirt_id INTEGER NOT NULL, \n",
            "\tpct_discount DECIMAL(5, 2), \n",
            "\tPRIMARY KEY (discount_id), \n",
            "\tFOREIGN KEY(t_shirt_id) REFERENCES t_shirts (t_shirt_id), \n",
            "\tCHECK (pct_discount BETWEEN 0 AND 100)\n",
            ")\n",
            "\n",
            "/*\n",
            "3 rows from discounts table:\n",
            "discount_id\tt_shirt_id\tpct_discount\n",
            "None\t1\t10.00\n",
            "None\t2\t15.00\n",
            "None\t3\t20.00\n",
            "*/\n",
            "\n",
            "\n",
            "CREATE TABLE t_shirts (\n",
            "\tt_shirt_id INTEGER, \n",
            "\tbrand VARCHAR(20) NOT NULL, \n",
            "\tcolor VARCHAR(20) NOT NULL, \n",
            "\tsize VARCHAR(20) NOT NULL, \n",
            "\tprice INTEGER, \n",
            "\tstock_quantity INTEGER NOT NULL, \n",
            "\tPRIMARY KEY (t_shirt_id), \n",
            "\tCHECK (price BETWEEN 10 AND 50)\n",
            ")\n",
            "\n",
            "/*\n",
            "3 rows from t_shirts table:\n",
            "t_shirt_id\tbrand\tcolor\tsize\tprice\tstock_quantity\n",
            "1\tVan Huesen\tBlue\tXS\t17\t81\n",
            "2\tLevi\tBlack\tL\t29\t50\n",
            "3\tAdidas\tWhite\tM\t14\t14\n",
            "*/\n"
          ]
        }
      ],
      "source": [
        "# db = SQLDatabase.from_uri(\"sqlite:////content/atliq_tshirts.db\",sample_rows_in_table_info=3)\n",
        "\n",
        "# print(db.table_info)"
      ]
    },
    {
      "cell_type": "code",
      "execution_count": 15,
      "id": "04a55f24",
      "metadata": {},
      "outputs": [
        {
          "name": "stdout",
          "output_type": "stream",
          "text": [
            "\n",
            "CREATE TABLE discounts (\n",
            "\tdiscount_id INTEGER NOT NULL AUTO_INCREMENT, \n",
            "\tt_shirt_id INTEGER NOT NULL, \n",
            "\tpct_discount DECIMAL(5, 2), \n",
            "\tPRIMARY KEY (discount_id), \n",
            "\tCONSTRAINT discounts_ibfk_1 FOREIGN KEY(t_shirt_id) REFERENCES t_shirts (t_shirt_id), \n",
            "\tCONSTRAINT discounts_chk_1 CHECK ((`pct_discount` between 0 and 100))\n",
            ")DEFAULT CHARSET=utf8mb4 COLLATE utf8mb4_0900_ai_ci ENGINE=InnoDB\n",
            "\n",
            "/*\n",
            "3 rows from discounts table:\n",
            "discount_id\tt_shirt_id\tpct_discount\n",
            "11\t1\t10.00\n",
            "12\t2\t15.00\n",
            "13\t3\t20.00\n",
            "*/\n",
            "\n",
            "\n",
            "CREATE TABLE t_shirts (\n",
            "\tt_shirt_id INTEGER NOT NULL AUTO_INCREMENT, \n",
            "\tbrand ENUM('Van Huesen','Levi','Nike','Adidas') NOT NULL, \n",
            "\tcolor ENUM('Red','Blue','Black','White') NOT NULL, \n",
            "\tsize ENUM('XS','S','M','L','XL') NOT NULL, \n",
            "\tprice INTEGER, \n",
            "\tstock_quantity INTEGER NOT NULL, \n",
            "\tPRIMARY KEY (t_shirt_id), \n",
            "\tCONSTRAINT t_shirts_chk_1 CHECK ((`price` between 10 and 50))\n",
            ")DEFAULT CHARSET=utf8mb4 COLLATE utf8mb4_0900_ai_ci ENGINE=InnoDB\n",
            "\n",
            "/*\n",
            "3 rows from t_shirts table:\n",
            "t_shirt_id\tbrand\tcolor\tsize\tprice\tstock_quantity\n",
            "1\tVan Huesen\tBlue\tXS\t17\t81\n",
            "2\tLevi\tBlack\tL\t29\t50\n",
            "3\tAdidas\tWhite\tM\t14\t14\n",
            "*/\n"
          ]
        }
      ],
      "source": [
        "db_user = \"root\"\n",
        "db_password = \"Ankan2020\"\n",
        "db_host = \"localhost\"\n",
        "db_name = \"atliq_tshirts\"\n",
        "\n",
        "db = SQLDatabase.from_uri(f\"mysql+pymysql://{db_user}:{db_password}@{db_host}/{db_name}\",sample_rows_in_table_info=3)\n",
        "\n",
        "print(db.table_info)"
      ]
    },
    {
      "cell_type": "code",
      "execution_count": 16,
      "id": "b0c86dce",
      "metadata": {
        "collapsed": true,
        "id": "b0c86dce"
      },
      "outputs": [],
      "source": [
        "db_chain = SQLDatabaseChain.from_llm(llm, db, verbose=True)\n"
      ]
    },
    {
      "cell_type": "code",
      "execution_count": 17,
      "id": "7by9iPrwjQnw",
      "metadata": {
        "colab": {
          "base_uri": "https://localhost:8080/",
          "height": 156
        },
        "id": "7by9iPrwjQnw",
        "outputId": "47f6eddb-ecc2-40f3-bc4e-4c0bd1d82b6e"
      },
      "outputs": [
        {
          "name": "stderr",
          "output_type": "stream",
          "text": [
            "c:\\Python\\Lib\\site-packages\\langchain_core\\_api\\deprecation.py:119: LangChainDeprecationWarning: The method `Chain.run` was deprecated in langchain 0.1.0 and will be removed in 0.3.0. Use invoke instead.\n",
            "  warn_deprecated(\n"
          ]
        },
        {
          "name": "stdout",
          "output_type": "stream",
          "text": [
            "\n",
            "\n",
            "\u001b[1m> Entering new SQLDatabaseChain chain...\u001b[0m\n",
            "How many t-shirts do we have left for nike in extra small size and white color?\n",
            "SQLQuery:\u001b[32;1m\u001b[1;3mSELECT stock_quantity FROM t_shirts WHERE brand = 'Nike' AND color = 'White' AND size = 'XS'\u001b[0m\n",
            "SQLResult: \u001b[33;1m\u001b[1;3m[(99,)]\u001b[0m\n",
            "Answer:\u001b[32;1m\u001b[1;3m99\u001b[0m\n",
            "\u001b[1m> Finished chain.\u001b[0m\n"
          ]
        }
      ],
      "source": [
        "qns1 = db_chain.run(\"How many t-shirts do we have left for nike in extra small size and white color?\")"
      ]
    },
    {
      "cell_type": "markdown",
      "id": "2d100193",
      "metadata": {
        "id": "2d100193"
      },
      "source": [
        "Above is the correct answer 👍🏼"
      ]
    },
    {
      "cell_type": "code",
      "execution_count": 18,
      "id": "2b436818",
      "metadata": {
        "colab": {
          "base_uri": "https://localhost:8080/",
          "height": 211
        },
        "id": "2b436818",
        "outputId": "aeabf2b4-fe71-4dc2-a939-6352c0e6db83",
        "scrolled": true
      },
      "outputs": [
        {
          "name": "stdout",
          "output_type": "stream",
          "text": [
            "\n",
            "\n",
            "\u001b[1m> Entering new SQLDatabaseChain chain...\u001b[0m\n",
            "How much is the price of the inventory for all small size t-shirts?\n",
            "SQLQuery:\u001b[32;1m\u001b[1;3mSELECT SUM(price) FROM t_shirts WHERE size = 'S'\u001b[0m\n",
            "SQLResult: \u001b[33;1m\u001b[1;3m[(Decimal('407'),)]\u001b[0m\n",
            "Answer:\u001b[32;1m\u001b[1;3m407\u001b[0m\n",
            "\u001b[1m> Finished chain.\u001b[0m\n"
          ]
        }
      ],
      "source": [
        "qns2 = db_chain.run(\"How much is the price of the inventory for all small size t-shirts?\")"
      ]
    },
    {
      "cell_type": "markdown",
      "id": "7632f6dc",
      "metadata": {
        "id": "7632f6dc"
      },
      "source": [
        "It made a mistake here. The price is actually the price per unit but in real life database columns will not have perfect names. We need to tell it somehow that price is price per unit and the actual query should be,\n",
        "\n",
        "SELECT SUM(price*stock_quantity) FROM t_shirts WHERE size = 'S'"
      ]
    },
    {
      "cell_type": "code",
      "execution_count": 19,
      "id": "52d613ed",
      "metadata": {
        "colab": {
          "base_uri": "https://localhost:8080/",
          "height": 156
        },
        "id": "52d613ed",
        "outputId": "49aebb68-6847-4bce-fcb7-b995a169f515"
      },
      "outputs": [
        {
          "name": "stdout",
          "output_type": "stream",
          "text": [
            "\n",
            "\n",
            "\u001b[1m> Entering new SQLDatabaseChain chain...\u001b[0m\n",
            "SELECT SUM(price*stock_quantity) FROM t_shirts WHERE size = 'S'\n",
            "SQLQuery:\u001b[32;1m\u001b[1;3mSELECT SUM(price*stock_quantity) FROM t_shirts WHERE size = 'S'\u001b[0m\n",
            "SQLResult: \u001b[33;1m\u001b[1;3m[(Decimal('23537'),)]\u001b[0m\n",
            "Answer:\u001b[32;1m\u001b[1;3m23537\u001b[0m\n",
            "\u001b[1m> Finished chain.\u001b[0m\n"
          ]
        }
      ],
      "source": [
        "qns2 = db_chain.run(\"SELECT SUM(price*stock_quantity) FROM t_shirts WHERE size = 'S'\")"
      ]
    },
    {
      "cell_type": "markdown",
      "id": "5b9a4e2c",
      "metadata": {
        "id": "5b9a4e2c"
      },
      "source": [
        "we will use qns2 value later on in this notebook. So hold on for now and let's check another query"
      ]
    },
    {
      "cell_type": "code",
      "execution_count": null,
      "id": "7da6c762",
      "metadata": {
        "id": "7da6c762"
      },
      "outputs": [],
      "source": [
        "# qns3 = db_chain.run(\"If we have to sell all the Levi’s T-shirts today with discounts applied. How much revenue our store will generate (post discounts)?\")"
      ]
    },
    {
      "cell_type": "markdown",
      "id": "180f02fd",
      "metadata": {
        "id": "180f02fd"
      },
      "source": [
        "Above, it returned a wrong query which generated an error during query execution. It thinks discount\n",
        "table would have start and end date which is normally true but in our table there is no start or end date column.\n",
        "One thing we can do here is run the query directly."
      ]
    },
    {
      "cell_type": "code",
      "execution_count": 20,
      "id": "28a4b3c3",
      "metadata": {
        "colab": {
          "base_uri": "https://localhost:8080/",
          "height": 260
        },
        "id": "28a4b3c3",
        "outputId": "27dcafa5-7b93-44da-833b-da7509681dca",
        "scrolled": false
      },
      "outputs": [
        {
          "name": "stdout",
          "output_type": "stream",
          "text": [
            "\n",
            "\n",
            "\u001b[1m> Entering new SQLDatabaseChain chain...\u001b[0m\n",
            "\n",
            "select sum(a.total_amount * ((100-COALESCE(discounts.pct_discount,0))/100)) as total_revenue from\n",
            "(select sum(price*stock_quantity) as total_amount, t_shirt_id from t_shirts where brand = 'Levi'\n",
            "group by t_shirt_id) a left join discounts on a.t_shirt_id = discounts.t_shirt_id\n",
            " \n",
            "SQLQuery:\u001b[32;1m\u001b[1;3mselect sum(a.total_amount * ((100-COALESCE(discounts.pct_discount,0))/100)) as total_revenue from\n",
            "(select sum(price*stock_quantity) as total_amount, t_shirt_id from t_shirts where brand = 'Levi'\n",
            "group by t_shirt_id) a left join discounts on a.t_shirt_id = discounts.t_shirt_id\u001b[0m\n",
            "SQLResult: \u001b[33;1m\u001b[1;3m[(Decimal('21371.000000'),)]\u001b[0m\n",
            "Answer:\u001b[32;1m\u001b[1;3m21371\u001b[0m\n",
            "\u001b[1m> Finished chain.\u001b[0m\n"
          ]
        }
      ],
      "source": [
        "sql_code = \"\"\"\n",
        "select sum(a.total_amount * ((100-COALESCE(discounts.pct_discount,0))/100)) as total_revenue from\n",
        "(select sum(price*stock_quantity) as total_amount, t_shirt_id from t_shirts where brand = 'Levi'\n",
        "group by t_shirt_id) a left join discounts on a.t_shirt_id = discounts.t_shirt_id\n",
        " \"\"\"\n",
        "\n",
        "qns3 = db_chain.run(sql_code)"
      ]
    },
    {
      "cell_type": "markdown",
      "id": "18dbf6ca",
      "metadata": {
        "id": "18dbf6ca"
      },
      "source": [
        "It produced a correct answer when explicit query was given. 17462 is the total revenue without discounts. The total discount is 736.6. Hence revenue post discount is 17462-736.6=16725.4\n",
        "\n",
        "Now this is not much interesting because what is the point of giving it the ready made query? Well, we will use this same query later on for few shot learning"
      ]
    },
    {
      "cell_type": "code",
      "execution_count": 21,
      "id": "b04ab6a4",
      "metadata": {
        "colab": {
          "base_uri": "https://localhost:8080/",
          "height": 156
        },
        "id": "b04ab6a4",
        "outputId": "3e2e4c4c-a882-47cd-9abf-88d1f55ad9ad"
      },
      "outputs": [
        {
          "name": "stdout",
          "output_type": "stream",
          "text": [
            "\n",
            "\n",
            "\u001b[1m> Entering new SQLDatabaseChain chain...\u001b[0m\n",
            "SELECT SUM(price * stock_quantity) FROM t_shirts WHERE brand = 'Levi'\n",
            "SQLQuery:\u001b[32;1m\u001b[1;3mSELECT SUM(price * stock_quantity) FROM t_shirts WHERE brand = 'Levi'\u001b[0m\n",
            "SQLResult: \u001b[33;1m\u001b[1;3m[(Decimal('22250'),)]\u001b[0m\n",
            "Answer:\u001b[32;1m\u001b[1;3m22250\u001b[0m\n",
            "\u001b[1m> Finished chain.\u001b[0m\n"
          ]
        }
      ],
      "source": [
        "qns4 = db_chain.run(\"SELECT SUM(price * stock_quantity) FROM t_shirts WHERE brand = 'Levi'\")"
      ]
    },
    {
      "cell_type": "code",
      "execution_count": 22,
      "id": "5e822ee3",
      "metadata": {
        "colab": {
          "base_uri": "https://localhost:8080/",
          "height": 156
        },
        "id": "5e822ee3",
        "outputId": "9b6397ed-ed95-4c05-bd5e-b2c1788e4688",
        "scrolled": true
      },
      "outputs": [
        {
          "name": "stdout",
          "output_type": "stream",
          "text": [
            "\n",
            "\n",
            "\u001b[1m> Entering new SQLDatabaseChain chain...\u001b[0m\n",
            "How many white color Levi's t shirts we have available?\n",
            "SQLQuery:\u001b[32;1m\u001b[1;3mSELECT stock_quantity FROM t_shirts WHERE brand = 'Levi' AND color = 'White'\u001b[0m\n",
            "SQLResult: \u001b[33;1m\u001b[1;3m[(51,), (83,), (45,), (44,)]\u001b[0m\n",
            "Answer:\u001b[32;1m\u001b[1;3m51\u001b[0m\n",
            "\u001b[1m> Finished chain.\u001b[0m\n"
          ]
        }
      ],
      "source": [
        "qns5 = db_chain.run(\"How many white color Levi's t shirts we have available?\")"
      ]
    },
    {
      "cell_type": "markdown",
      "id": "62ee0e11",
      "metadata": {
        "id": "62ee0e11"
      },
      "source": [
        "Once again above is the wrong answer. We need to use SUM(stock_quantity). Let's run the query explicitly. We will use the result of this query later on in the notebook"
      ]
    },
    {
      "cell_type": "code",
      "execution_count": null,
      "id": "30d15ec1",
      "metadata": {
        "colab": {
          "base_uri": "https://localhost:8080/",
          "height": 156
        },
        "id": "30d15ec1",
        "outputId": "724b8369-d50e-4971-9caa-4c7fa9710f98"
      },
      "outputs": [
        {
          "name": "stdout",
          "output_type": "stream",
          "text": [
            "\n",
            "\n",
            "\u001b[1m> Entering new SQLDatabaseChain chain...\u001b[0m\n",
            "SELECT sum(stock_quantity) FROM t_shirts WHERE brand = 'Levi' AND color = 'White'\n",
            "SQLQuery:\u001b[32;1m\u001b[1;3mSELECT sum(stock_quantity) FROM t_shirts WHERE brand = 'Levi' AND color = 'White'\u001b[0m\n",
            "SQLResult: \u001b[33;1m\u001b[1;3m[(Decimal('223'),)]\u001b[0m\n",
            "Answer:\u001b[32;1m\u001b[1;3m223\u001b[0m\n",
            "\u001b[1m> Finished chain.\u001b[0m\n"
          ]
        }
      ],
      "source": [
        "qns5 = db_chain.run(\"SELECT sum(stock_quantity) FROM t_shirts WHERE brand = 'Levi' AND color = 'White'\")"
      ]
    },
    {
      "cell_type": "markdown",
      "id": "afe780d9",
      "metadata": {
        "id": "afe780d9"
      },
      "source": [
        "#### Few shot learning\n",
        "\n",
        "We will use few shot learning to fix issues we have seen so far"
      ]
    },
    {
      "cell_type": "code",
      "execution_count": 24,
      "id": "a75ae546",
      "metadata": {
        "id": "a75ae546"
      },
      "outputs": [],
      "source": [
        "few_shots =     [{'Question' : 'How many t-shirts do we have left for Nike in XS size and white color?',\n",
        "     'SQLQuery' : 'SELECT sum(stock_quantity) FROM t_shirts WHERE brand = \"Nike\" AND color = \"White\" AND size = \"XS\"',\n",
        "     'SQLResult': \"Result of the SQL query\",\n",
        "     'Answer' : qns1}    ,\n",
        "    {'Question': \"How much is the total price of the inventory for all S-size t-shirts?\",\n",
        "     'SQLQuery':\"SELECT SUM(price*stock_quantity) FROM t_shirts WHERE size = 'S'\",\n",
        "     'SQLResult': \"Result of the SQL query\",\n",
        "     'Answer': qns2},\n",
        "    {'Question': \"If we have to sell all the Levi’s T-shirts today with discounts applied. How much revenue  our store will generate (post discounts)?\" ,\n",
        "     'SQLQuery' : \"\"\"SELECT sum(a.total_amount * ((100-COALESCE(discounts.pct_discount,0))/100)) as total_revenue from\n",
        "(select sum(price*stock_quantity) as total_amount, t_shirt_id from t_shirts where brand = 'Levi'\n",
        "group by t_shirt_id) a left join discounts on a.t_shirt_id = discounts.t_shirt_id\n",
        " \"\"\",\n",
        "     'SQLResult': \"Result of the SQL query\",\n",
        "     'Answer': qns3} ,\n",
        "     {'Question' : \"If we have to sell all the Levi’s T-shirts today. How much revenue our store will generate without discount?\" ,\n",
        "      'SQLQuery': \"SELECT SUM(price * stock_quantity) FROM t_shirts WHERE brand = 'Levi'\",\n",
        "      'SQLResult': \"Result of the SQL query\",\n",
        "      'Answer' : qns4},\n",
        "    {'Question': \"How many white color Levi's shirt I have?\",\n",
        "     'SQLQuery' : \"SELECT sum(stock_quantity) FROM t_shirts WHERE brand = 'Levi' AND color = 'White'\",\n",
        "     'SQLResult': \"Result of the SQL query\",\n",
        "     'Answer' : qns5\n",
        "     }\n",
        "]"
      ]
    },
    {
      "cell_type": "code",
      "execution_count": null,
      "id": "1oL7HPFQ6ezN",
      "metadata": {
        "colab": {
          "base_uri": "https://localhost:8080/",
          "height": 35
        },
        "id": "1oL7HPFQ6ezN",
        "outputId": "387fa2aa-c2c9-4b7a-c430-811c0fcda7b9"
      },
      "outputs": [
        {
          "data": {
            "text/plain": [
              "'99'"
            ]
          },
          "execution_count": 17,
          "metadata": {},
          "output_type": "execute_result"
        }
      ],
      "source": [
        "qns1"
      ]
    },
    {
      "cell_type": "markdown",
      "id": "30f7b3c9",
      "metadata": {
        "id": "30f7b3c9"
      },
      "source": [
        "### Creating Semantic Similarity Based example selector\n",
        "\n",
        "- create embedding on the few_shots\n",
        "- Store the embeddings in Chroma DB\n",
        "- Retrieve the the top most Semantically close example from the vector store"
      ]
    },
    {
      "cell_type": "code",
      "execution_count": null,
      "id": "ZfEcO5ToxHkM",
      "metadata": {
        "collapsed": true,
        "id": "ZfEcO5ToxHkM"
      },
      "outputs": [],
      "source": [
        "# pip install chromadb==0.4.15"
      ]
    },
    {
      "cell_type": "code",
      "execution_count": null,
      "id": "qHEny0XLxL-8",
      "metadata": {
        "colab": {
          "base_uri": "https://localhost:8080/"
        },
        "collapsed": true,
        "id": "qHEny0XLxL-8",
        "outputId": "b18b477e-ab54-4ce3-e3b0-147af894f0c0"
      },
      "outputs": [
        {
          "name": "stdout",
          "output_type": "stream",
          "text": [
            "Collecting OpenAI\n",
            "  Downloading openai-1.30.5-py3-none-any.whl (320 kB)\n",
            "\u001b[?25l     \u001b[90m━━━━━━━━━━━━━━━━━━━━━━━━━━━━━━━━━━━━━━━━\u001b[0m \u001b[32m0.0/320.7 kB\u001b[0m \u001b[31m?\u001b[0m eta \u001b[36m-:--:--\u001b[0m\r\u001b[2K     \u001b[91m━━━━━━━━━━━━━━━━━\u001b[0m\u001b[91m╸\u001b[0m\u001b[90m━━━━━━━━━━━━━━━━━━━━━━\u001b[0m \u001b[32m143.4/320.7 kB\u001b[0m \u001b[31m4.0 MB/s\u001b[0m eta \u001b[36m0:00:01\u001b[0m\r\u001b[2K     \u001b[90m━━━━━━━━━━━━━━━━━━━━━━━━━━━━━━━━━━━━━━━━\u001b[0m \u001b[32m320.7/320.7 kB\u001b[0m \u001b[31m5.7 MB/s\u001b[0m eta \u001b[36m0:00:00\u001b[0m\n",
            "\u001b[?25hRequirement already satisfied: anyio<5,>=3.5.0 in /usr/local/lib/python3.10/dist-packages (from OpenAI) (3.7.1)\n",
            "Requirement already satisfied: distro<2,>=1.7.0 in /usr/lib/python3/dist-packages (from OpenAI) (1.7.0)\n",
            "Requirement already satisfied: httpx<1,>=0.23.0 in /usr/local/lib/python3.10/dist-packages (from OpenAI) (0.27.0)\n",
            "Requirement already satisfied: pydantic<3,>=1.9.0 in /usr/local/lib/python3.10/dist-packages (from OpenAI) (2.7.1)\n",
            "Requirement already satisfied: sniffio in /usr/local/lib/python3.10/dist-packages (from OpenAI) (1.3.1)\n",
            "Requirement already satisfied: tqdm>4 in /usr/local/lib/python3.10/dist-packages (from OpenAI) (4.66.4)\n",
            "Requirement already satisfied: typing-extensions<5,>=4.7 in /usr/local/lib/python3.10/dist-packages (from OpenAI) (4.11.0)\n",
            "Requirement already satisfied: idna>=2.8 in /usr/local/lib/python3.10/dist-packages (from anyio<5,>=3.5.0->OpenAI) (3.7)\n",
            "Requirement already satisfied: exceptiongroup in /usr/local/lib/python3.10/dist-packages (from anyio<5,>=3.5.0->OpenAI) (1.2.1)\n",
            "Requirement already satisfied: certifi in /usr/local/lib/python3.10/dist-packages (from httpx<1,>=0.23.0->OpenAI) (2024.2.2)\n",
            "Requirement already satisfied: httpcore==1.* in /usr/local/lib/python3.10/dist-packages (from httpx<1,>=0.23.0->OpenAI) (1.0.5)\n",
            "Requirement already satisfied: h11<0.15,>=0.13 in /usr/local/lib/python3.10/dist-packages (from httpcore==1.*->httpx<1,>=0.23.0->OpenAI) (0.14.0)\n",
            "Requirement already satisfied: annotated-types>=0.4.0 in /usr/local/lib/python3.10/dist-packages (from pydantic<3,>=1.9.0->OpenAI) (0.7.0)\n",
            "Requirement already satisfied: pydantic-core==2.18.2 in /usr/local/lib/python3.10/dist-packages (from pydantic<3,>=1.9.0->OpenAI) (2.18.2)\n",
            "Installing collected packages: OpenAI\n",
            "Successfully installed OpenAI-1.30.5\n"
          ]
        }
      ],
      "source": [
        "# !pip install -U langchain chromadb\n",
        "# !pip install OpenAI"
      ]
    },
    {
      "cell_type": "code",
      "execution_count": 25,
      "id": "54306b8d",
      "metadata": {
        "colab": {
          "base_uri": "https://localhost:8080/"
        },
        "id": "54306b8d",
        "outputId": "c5033702-f296-4897-a364-bf2ced584d7e"
      },
      "outputs": [
        {
          "name": "stdout",
          "output_type": "stream",
          "text": [
            "['How many t-shirts do we have left for Nike in XS size and white color? SELECT sum(stock_quantity) FROM t_shirts WHERE brand = \"Nike\" AND color = \"White\" AND size = \"XS\" Result of the SQL query 99', \"How much is the total price of the inventory for all S-size t-shirts? SELECT SUM(price*stock_quantity) FROM t_shirts WHERE size = 'S' Result of the SQL query 23537\", \"If we have to sell all the Levi’s T-shirts today with discounts applied. How much revenue  our store will generate (post discounts)? SELECT sum(a.total_amount * ((100-COALESCE(discounts.pct_discount,0))/100)) as total_revenue from\\n(select sum(price*stock_quantity) as total_amount, t_shirt_id from t_shirts where brand = 'Levi'\\ngroup by t_shirt_id) a left join discounts on a.t_shirt_id = discounts.t_shirt_id\\n  Result of the SQL query 21371\", \"If we have to sell all the Levi’s T-shirts today. How much revenue our store will generate without discount? SELECT SUM(price * stock_quantity) FROM t_shirts WHERE brand = 'Levi' Result of the SQL query 22250\", \"How many white color Levi's shirt I have? SELECT sum(stock_quantity) FROM t_shirts WHERE brand = 'Levi' AND color = 'White' Result of the SQL query 51\"]\n",
            "How many t-shirts do we have left for Nike in XS size and white color? SELECT sum(stock_quantity) FROM t_shirts WHERE brand = \"Nike\" AND color = \"White\" AND size = \"XS\" Result of the SQL query 99\n",
            "client=SentenceTransformer(\n",
            "  (0): Transformer({'max_seq_length': 256, 'do_lower_case': False}) with Transformer model: BertModel \n",
            "  (1): Pooling({'word_embedding_dimension': 384, 'pooling_mode_cls_token': False, 'pooling_mode_mean_tokens': True, 'pooling_mode_max_tokens': False, 'pooling_mode_mean_sqrt_len_tokens': False})\n",
            "  (2): Normalize()\n",
            ") model_name='sentence-transformers/all-MiniLM-L6-v2' cache_folder=None model_kwargs={} encode_kwargs={} multi_process=False show_progress=False\n",
            "<class 'list'>\n",
            "<class 'list'>\n"
          ]
        }
      ],
      "source": [
        "from langchain.embeddings import HuggingFaceEmbeddings\n",
        "# from langchain.embeddings import OpenAIEmbeddings\n",
        "from langchain.vectorstores import Chroma\n",
        "\n",
        "\n",
        "embeddings = HuggingFaceEmbeddings(model_name='sentence-transformers/all-MiniLM-L6-v2')\n",
        "# embeddings=OpenAIEmbeddings(openai_api_key=\"\")\n",
        "\n",
        "# Function to convert all values in a dictionary to strings\n",
        "def convert_to_string(value):\n",
        "    if isinstance(value, dict):\n",
        "        return \" \".join([convert_to_string(v) for v in value.values()])\n",
        "    return str(value)\n",
        "\n",
        "# Concatenate the values of each dictionary to form a single string per example\n",
        "to_vectorize = [\" \".join([convert_to_string(v) for v in example.values()]) for example in few_shots]\n",
        "\n",
        "# Print the vectorized examples for verification\n",
        "print(to_vectorize)\n",
        "print(to_vectorize[0])\n",
        "print(embeddings)\n",
        "print(type(to_vectorize))\n",
        "print(type(few_shots))\n",
        "\n"
      ]
    },
    {
      "cell_type": "code",
      "execution_count": null,
      "id": "d806f39b",
      "metadata": {
        "colab": {
          "base_uri": "https://localhost:8080/",
          "height": 257
        },
        "id": "d806f39b",
        "outputId": "315cee37-e4fe-442b-ee5d-501e0fd9568d"
      },
      "outputs": [
        {
          "ename": "NameError",
          "evalue": "name 'Chroma' is not defined",
          "output_type": "error",
          "traceback": [
            "\u001b[1;31m---------------------------------------------------------------------------\u001b[0m",
            "\u001b[1;31mNameError\u001b[0m                                 Traceback (most recent call last)",
            "Cell \u001b[1;32mIn[1], line 6\u001b[0m\n\u001b[0;32m      3\u001b[0m \u001b[38;5;66;03m# load it into Chroma\u001b[39;00m\n\u001b[0;32m      4\u001b[0m \u001b[38;5;66;03m# db = Chroma.from_documents(docs, embedding_function)\u001b[39;00m\n\u001b[0;32m      5\u001b[0m \u001b[38;5;28;01mtry\u001b[39;00m:\n\u001b[1;32m----> 6\u001b[0m     vectorstore \u001b[38;5;241m=\u001b[39m \u001b[43mChroma\u001b[49m\u001b[38;5;241m.\u001b[39mfrom_texts(to_vectorize, embeddings,metadatas\u001b[38;5;241m=\u001b[39mfew_shots)\n\u001b[0;32m      7\u001b[0m \u001b[38;5;28;01mexcept\u001b[39;00m InvalidDimensionException:\n\u001b[0;32m      8\u001b[0m     Chroma()\u001b[38;5;241m.\u001b[39mdelete_collection()\n",
            "\u001b[1;31mNameError\u001b[0m: name 'Chroma' is not defined"
          ]
        }
      ],
      "source": [
        "# vectorstore = Chroma.from_texts(to_vectorize, embeddings, metadatas=few_shots) is not working\n",
        "from chromadb.errors import InvalidDimensionException\n",
        "# load it into Chroma\n",
        "# db = Chroma.from_documents(docs, embedding_function)\n",
        "try:\n",
        "    vectorstore = Chroma.from_texts(to_vectorize, embeddings,metadatas=few_shots)\n",
        "except InvalidDimensionException:\n",
        "    Chroma().delete_collection()\n",
        "    vectorstore = Chroma.from_texts(to_vectorize, embeddings,metadatas=few_shots)\n",
        "    # vectorstore = Chroma.from_documents(filter_complex_metadata(documents), embeddings)\n",
        "\n",
        "print(vectorstore)\n",
        "type(vectorstore)"
      ]
    },
    {
      "cell_type": "code",
      "execution_count": null,
      "id": "f9cc4b0e",
      "metadata": {
        "colab": {
          "base_uri": "https://localhost:8080/"
        },
        "id": "f9cc4b0e",
        "outputId": "7d1518d8-ca29-4a90-f544-18042b28d458"
      },
      "outputs": [
        {
          "data": {
            "text/plain": [
              "[{'Answer': '99',\n",
              "  'Question': 'How many t-shirts do we have left for Nike in XS size and white color?',\n",
              "  'SQLQuery': 'SELECT sum(stock_quantity) FROM t_shirts WHERE brand = \"Nike\" AND color = \"White\" AND size = \"XS\"',\n",
              "  'SQLResult': 'Result of the SQL query'},\n",
              " {'Answer': '22250',\n",
              "  'Question': 'If we have to sell all the Levi’s T-shirts today. How much revenue our store will generate without discount?',\n",
              "  'SQLQuery': \"SELECT SUM(price * stock_quantity) FROM t_shirts WHERE brand = 'Levi'\",\n",
              "  'SQLResult': 'Result of the SQL query'}]"
            ]
          },
          "execution_count": 84,
          "metadata": {},
          "output_type": "execute_result"
        }
      ],
      "source": [
        "example_selector = SemanticSimilarityExampleSelector(\n",
        "    vectorstore=vectorstore,\n",
        "    k=2,\n",
        ")\n",
        "\n",
        "example_selector.select_examples({\"Question\": \"How many Adidas T shirts I have left in my store?\"})"
      ]
    },
    {
      "cell_type": "code",
      "execution_count": null,
      "id": "485d270b",
      "metadata": {
        "id": "485d270b"
      },
      "outputs": [],
      "source": [
        "### my sql based instruction prompt\n",
        "mysql_prompt = \"\"\"You are a MySQL expert. Given an input question, first create a syntactically correct MySQL query to run, then look at the results of the query and return the answer to the input question.\n",
        "Unless the user specifies in the question a specific number of examples to obtain, query for at most {top_k} results using the LIMIT clause as per MySQL. You can order the results to return the most informative data in the database.\n",
        "Never query for all columns from a table. You must query only the columns that are needed to answer the question. Wrap each column name in backticks (`) to denote them as delimited identifiers.\n",
        "Pay attention to use only the column names you can see in the tables below. Be careful to not query for columns that do not exist. Also, pay attention to which column is in which table.\n",
        "Pay attention to use CURDATE() function to get the current date, if the question involves \"today\".\n",
        "\n",
        "Use the following format:\n",
        "\n",
        "Question: Question here\n",
        "SQLQuery: Query to run with no pre-amble\n",
        "SQLResult: Result of the SQLQuery\n",
        "Answer: Final answer here\n",
        "\n",
        "No pre-amble.\n",
        "\"\"\""
      ]
    },
    {
      "cell_type": "code",
      "execution_count": null,
      "id": "357ca60f",
      "metadata": {
        "colab": {
          "base_uri": "https://localhost:8080/"
        },
        "id": "357ca60f",
        "outputId": "ec78ca43-2ab2-4d71-9b6f-105608747690",
        "scrolled": true
      },
      "outputs": [
        {
          "name": "stdout",
          "output_type": "stream",
          "text": [
            "Only use the following tables:\n",
            "{table_info}\n",
            "\n",
            "Question: {input}\n"
          ]
        }
      ],
      "source": [
        "from langchain.prompts import FewShotPromptTemplate\n",
        "from langchain.chains.sql_database.prompt import PROMPT_SUFFIX, _mysql_prompt\n",
        "\n",
        "print(PROMPT_SUFFIX)"
      ]
    },
    {
      "cell_type": "markdown",
      "id": "20224496",
      "metadata": {
        "id": "20224496"
      },
      "source": [
        "### Setting up PromptTemplete using input variables"
      ]
    },
    {
      "cell_type": "code",
      "execution_count": null,
      "id": "3337e4a0",
      "metadata": {
        "id": "3337e4a0"
      },
      "outputs": [],
      "source": [
        "from langchain.prompts.prompt import PromptTemplate\n",
        "\n",
        "example_prompt = PromptTemplate(\n",
        "    input_variables=[\"Question\", \"SQLQuery\", \"SQLResult\",\"Answer\",],\n",
        "    template=\"\\nQuestion: {Question}\\nSQLQuery: {SQLQuery}\\nSQLResult: {SQLResult}\\nAnswer: {Answer}\",\n",
        ")"
      ]
    },
    {
      "cell_type": "code",
      "execution_count": null,
      "id": "5157663d",
      "metadata": {
        "colab": {
          "base_uri": "https://localhost:8080/"
        },
        "id": "5157663d",
        "outputId": "58b12f74-8176-4e94-de42-3ec11055e66e"
      },
      "outputs": [
        {
          "name": "stdout",
          "output_type": "stream",
          "text": [
            "You are a MySQL expert. Given an input question, first create a syntactically correct MySQL query to run, then look at the results of the query and return the answer to the input question.\n",
            "Unless the user specifies in the question a specific number of examples to obtain, query for at most {top_k} results using the LIMIT clause as per MySQL. You can order the results to return the most informative data in the database.\n",
            "Never query for all columns from a table. You must query only the columns that are needed to answer the question. Wrap each column name in backticks (`) to denote them as delimited identifiers.\n",
            "Pay attention to use only the column names you can see in the tables below. Be careful to not query for columns that do not exist. Also, pay attention to which column is in which table.\n",
            "Pay attention to use CURDATE() function to get the current date, if the question involves \"today\".\n",
            "\n",
            "Use the following format:\n",
            "\n",
            "Question: Question here\n",
            "SQLQuery: SQL Query to run\n",
            "SQLResult: Result of the SQLQuery\n",
            "Answer: Final answer here\n",
            "\n",
            "\n"
          ]
        }
      ],
      "source": [
        "print(_mysql_prompt)"
      ]
    },
    {
      "cell_type": "code",
      "execution_count": null,
      "id": "5736eb12",
      "metadata": {
        "id": "5736eb12"
      },
      "outputs": [],
      "source": [
        "few_shot_prompt = FewShotPromptTemplate(\n",
        "    example_selector=example_selector,\n",
        "    example_prompt=example_prompt,\n",
        "    prefix=mysql_prompt,\n",
        "    suffix=PROMPT_SUFFIX,\n",
        "    input_variables=[\"input\", \"table_info\", \"top_k\"], #These variables are used in the prefix and suffix\n",
        ")"
      ]
    },
    {
      "cell_type": "code",
      "execution_count": null,
      "id": "c23d156c",
      "metadata": {
        "id": "c23d156c"
      },
      "outputs": [],
      "source": [
        "new_chain = SQLDatabaseChain.from_llm(llm, db, verbose=True, prompt=few_shot_prompt)"
      ]
    },
    {
      "cell_type": "code",
      "execution_count": null,
      "id": "58LdNk6flY5k",
      "metadata": {
        "colab": {
          "base_uri": "https://localhost:8080/",
          "height": 191
        },
        "id": "58LdNk6flY5k",
        "outputId": "30ab4fca-8da6-4219-afcf-f0e5f92aacfa"
      },
      "outputs": [
        {
          "name": "stdout",
          "output_type": "stream",
          "text": [
            "\n",
            "\n",
            "\u001b[1m> Entering new SQLDatabaseChain chain...\u001b[0m\n",
            "How many t-shirts do we have left for Nike in XS size and white color\n",
            "SQLQuery:\u001b[32;1m\u001b[1;3mSELECT sum(stock_quantity) FROM t_shirts WHERE brand = \"Nike\" AND color = \"White\" AND size = \"XS\"\u001b[0m\n",
            "SQLResult: \u001b[33;1m\u001b[1;3m[(99,)]\u001b[0m\n",
            "Answer:\u001b[32;1m\u001b[1;3m99\u001b[0m\n",
            "\u001b[1m> Finished chain.\u001b[0m\n"
          ]
        },
        {
          "data": {
            "text/plain": [
              "{'query': 'How many t-shirts do we have left for Nike in XS size and white color',\n",
              " 'result': '99'}"
            ]
          },
          "execution_count": 91,
          "metadata": {},
          "output_type": "execute_result"
        }
      ],
      "source": [
        "new_chain(\"How many t-shirts do we have left for Nike in XS size and white color\")"
      ]
    },
    {
      "cell_type": "code",
      "execution_count": null,
      "id": "12a32c68",
      "metadata": {
        "colab": {
          "base_uri": "https://localhost:8080/",
          "height": 173
        },
        "id": "12a32c68",
        "outputId": "54150ff3-229c-47e2-d8e1-72fd455fd008"
      },
      "outputs": [
        {
          "name": "stdout",
          "output_type": "stream",
          "text": [
            "\n",
            "\n",
            "\u001b[1m> Entering new SQLDatabaseChain chain...\u001b[0m\n",
            "How many white color Levi's shirt I have?\n",
            "SQLQuery:\u001b[32;1m\u001b[1;3mSELECT sum(stock_quantity) FROM t_shirts WHERE brand = 'Levi' AND color = 'White'\u001b[0m\n",
            "SQLResult: \u001b[33;1m\u001b[1;3m[(223,)]\u001b[0m\n",
            "Answer:\u001b[32;1m\u001b[1;3m223\u001b[0m\n",
            "\u001b[1m> Finished chain.\u001b[0m\n"
          ]
        },
        {
          "data": {
            "text/plain": [
              "{'query': \"How many white color Levi's shirt I have?\", 'result': '223'}"
            ]
          },
          "execution_count": 92,
          "metadata": {},
          "output_type": "execute_result"
        }
      ],
      "source": [
        "new_chain(\"How many white color Levi's shirt I have?\")"
      ]
    },
    {
      "cell_type": "markdown",
      "id": "1127786d",
      "metadata": {
        "id": "1127786d"
      },
      "source": [
        "Now this is working ok. Previously for this same question it was giving wrong answer because it did not use SUM clause around stock_quantity column"
      ]
    },
    {
      "cell_type": "code",
      "execution_count": null,
      "id": "30a05344",
      "metadata": {
        "colab": {
          "base_uri": "https://localhost:8080/",
          "height": 191
        },
        "id": "30a05344",
        "outputId": "fea34fa5-2a77-4774-ffbb-e3f9eeb93922",
        "scrolled": true
      },
      "outputs": [
        {
          "name": "stdout",
          "output_type": "stream",
          "text": [
            "\n",
            "\n",
            "\u001b[1m> Entering new SQLDatabaseChain chain...\u001b[0m\n",
            "How much is the price of the inventory for all small size t-shirts?\n",
            "SQLQuery:\u001b[32;1m\u001b[1;3mSELECT SUM(price*stock_quantity) FROM t_shirts WHERE size = 'S'\u001b[0m\n",
            "SQLResult: \u001b[33;1m\u001b[1;3m[(23537,)]\u001b[0m\n",
            "Answer:\u001b[32;1m\u001b[1;3m23537\u001b[0m\n",
            "\u001b[1m> Finished chain.\u001b[0m\n"
          ]
        },
        {
          "data": {
            "text/plain": [
              "{'query': 'How much is the price of the inventory for all small size t-shirts?',\n",
              " 'result': '23537'}"
            ]
          },
          "execution_count": 93,
          "metadata": {},
          "output_type": "execute_result"
        }
      ],
      "source": [
        "new_chain(\"How much is the price of the inventory for all small size t-shirts?\")"
      ]
    },
    {
      "cell_type": "code",
      "execution_count": null,
      "id": "d38d4cc9",
      "metadata": {
        "colab": {
          "base_uri": "https://localhost:8080/",
          "height": 191
        },
        "id": "d38d4cc9",
        "outputId": "693eed41-6bdc-4622-8b9b-5559edec1f3d"
      },
      "outputs": [
        {
          "name": "stdout",
          "output_type": "stream",
          "text": [
            "\n",
            "\n",
            "\u001b[1m> Entering new SQLDatabaseChain chain...\u001b[0m\n",
            "How much is the price of all white color levi t shirts?\n",
            "SQLQuery:\u001b[32;1m\u001b[1;3mSELECT sum(price*stock_quantity) FROM t_shirts WHERE brand = 'Levi' AND color = 'White'\u001b[0m\n",
            "SQLResult: \u001b[33;1m\u001b[1;3m[(6679,)]\u001b[0m\n",
            "Answer:\u001b[32;1m\u001b[1;3m6679\u001b[0m\n",
            "\u001b[1m> Finished chain.\u001b[0m\n"
          ]
        },
        {
          "data": {
            "text/plain": [
              "{'query': 'How much is the price of all white color levi t shirts?',\n",
              " 'result': '6679'}"
            ]
          },
          "execution_count": 94,
          "metadata": {},
          "output_type": "execute_result"
        }
      ],
      "source": [
        "new_chain(\"How much is the price of all white color levi t shirts?\")"
      ]
    },
    {
      "cell_type": "code",
      "execution_count": null,
      "id": "510f8e47",
      "metadata": {
        "colab": {
          "base_uri": "https://localhost:8080/",
          "height": 225
        },
        "id": "510f8e47",
        "outputId": "37a3df27-bc08-4625-b5c6-383025546edf",
        "scrolled": false
      },
      "outputs": [
        {
          "name": "stdout",
          "output_type": "stream",
          "text": [
            "\n",
            "\n",
            "\u001b[1m> Entering new SQLDatabaseChain chain...\u001b[0m\n",
            "If we have to sell all the Nike’s T-shirts today with discounts applied. How much revenue  our store will generate (post discounts)?\n",
            "SQLQuery:\u001b[32;1m\u001b[1;3mSELECT sum(a.total_amount * ((100-COALESCE(discounts.pct_discount,0))/100)) as total_revenue from\n",
            "(select sum(price*stock_quantity) as total_amount, t_shirt_id from t_shirts where brand = 'Nike'\n",
            "group by t_shirt_id) a left join discounts on a.t_shirt_id = discounts.t_shirt_id\u001b[0m\n",
            "SQLResult: \u001b[33;1m\u001b[1;3m[(26435,)]\u001b[0m\n",
            "Answer:\u001b[32;1m\u001b[1;3m26435\u001b[0m\n",
            "\u001b[1m> Finished chain.\u001b[0m\n"
          ]
        },
        {
          "data": {
            "text/plain": [
              "{'query': 'If we have to sell all the Nike’s T-shirts today with discounts applied. How much revenue  our store will generate (post discounts)?',\n",
              " 'result': '26435'}"
            ]
          },
          "execution_count": 95,
          "metadata": {},
          "output_type": "execute_result"
        }
      ],
      "source": [
        "new_chain(\"If we have to sell all the Nike’s T-shirts today with discounts applied. How much revenue  our store will generate (post discounts)?\")"
      ]
    },
    {
      "cell_type": "code",
      "execution_count": null,
      "id": "3188a887",
      "metadata": {
        "colab": {
          "base_uri": "https://localhost:8080/",
          "height": 225
        },
        "id": "3188a887",
        "outputId": "ae82ae26-5999-45ff-db66-1e5d428ed5e7",
        "scrolled": false
      },
      "outputs": [
        {
          "name": "stdout",
          "output_type": "stream",
          "text": [
            "\n",
            "\n",
            "\u001b[1m> Entering new SQLDatabaseChain chain...\u001b[0m\n",
            "If we have to sell all the Van Heuson T-shirts today with discounts applied. How much revenue  our store will generate (post discounts)?\n",
            "SQLQuery:\u001b[32;1m\u001b[1;3mSELECT sum(a.total_amount * ((100-COALESCE(discounts.pct_discount,0))/100)) as total_revenue from\n",
            "(select sum(price*stock_quantity) as total_amount, t_shirt_id from t_shirts where brand = 'Van Huesen'\n",
            "group by t_shirt_id) a left join discounts on a.t_shirt_id = discounts.t_shirt_id\u001b[0m\n",
            "SQLResult: \u001b[33;1m\u001b[1;3m[(11886,)]\u001b[0m\n",
            "Answer:\u001b[32;1m\u001b[1;3m11886\u001b[0m\n",
            "\u001b[1m> Finished chain.\u001b[0m\n"
          ]
        },
        {
          "data": {
            "text/plain": [
              "{'query': 'If we have to sell all the Van Heuson T-shirts today with discounts applied. How much revenue  our store will generate (post discounts)?',\n",
              " 'result': '11886'}"
            ]
          },
          "execution_count": 96,
          "metadata": {},
          "output_type": "execute_result"
        }
      ],
      "source": [
        "new_chain(\"If we have to sell all the Van Heuson T-shirts today with discounts applied. How much revenue  our store will generate (post discounts)?\")"
      ]
    },
    {
      "cell_type": "code",
      "execution_count": null,
      "id": "9b10fd4d",
      "metadata": {
        "colab": {
          "base_uri": "https://localhost:8080/",
          "height": 174
        },
        "id": "9b10fd4d",
        "outputId": "31c852e0-0a35-4a46-e202-3b07b7d09a3b"
      },
      "outputs": [
        {
          "name": "stdout",
          "output_type": "stream",
          "text": [
            "\n",
            "\n",
            "\u001b[1m> Entering new SQLDatabaseChain chain...\u001b[0m\n",
            "How much revenue  our store will generate by selling all Van Heuson TShirts without discount?\n",
            "SQLQuery:\u001b[32;1m\u001b[1;3mSELECT SUM(price * stock_quantity) FROM t_shirts WHERE brand = 'Van Huesen'\u001b[0m\n",
            "SQLResult: \u001b[33;1m\u001b[1;3m[(13263,)]\u001b[0m\n",
            "Answer:\u001b[32;1m\u001b[1;3m13263\u001b[0m\n",
            "\u001b[1m> Finished chain.\u001b[0m\n"
          ]
        },
        {
          "data": {
            "application/vnd.google.colaboratory.intrinsic+json": {
              "type": "string"
            },
            "text/plain": [
              "'13263'"
            ]
          },
          "execution_count": 97,
          "metadata": {},
          "output_type": "execute_result"
        }
      ],
      "source": [
        "new_chain.run('How much revenue  our store will generate by selling all Van Heuson TShirts without discount?')"
      ]
    }
  ],
  "metadata": {
    "colab": {
      "provenance": []
    },
    "kernelspec": {
      "display_name": "Python 3 (ipykernel)",
      "language": "python",
      "name": "python3"
    },
    "language_info": {
      "codemirror_mode": {
        "name": "ipython",
        "version": 3
      },
      "file_extension": ".py",
      "mimetype": "text/x-python",
      "name": "python",
      "nbconvert_exporter": "python",
      "pygments_lexer": "ipython3",
      "version": "3.12.0"
    }
  },
  "nbformat": 4,
  "nbformat_minor": 5
}
