{
  "cells": [
    {
      "cell_type": "markdown",
      "id": "CXxL_p1dxlyU",
      "metadata": {
        "id": "CXxL_p1dxlyU"
      },
      "source": [
        "SQLite library"
      ]
    },
    {
      "cell_type": "code",
      "execution_count": null,
      "id": "d7mdKh0exk9m",
      "metadata": {
        "colab": {
          "base_uri": "https://localhost:8080/"
        },
        "collapsed": true,
        "id": "d7mdKh0exk9m",
        "outputId": "f4460525-636f-4ad9-e487-d96373687e99"
      },
      "outputs": [
        {
          "name": "stdout",
          "output_type": "stream",
          "text": [
            "Reading package lists... Done\n",
            "Building dependency tree... Done\n",
            "Reading state information... Done\n",
            "Suggested packages:\n",
            "  sqlite3-doc\n",
            "The following NEW packages will be installed:\n",
            "  sqlite3\n",
            "0 upgraded, 1 newly installed, 0 to remove and 45 not upgraded.\n",
            "Need to get 768 kB of archives.\n",
            "After this operation, 1,873 kB of additional disk space will be used.\n",
            "Get:1 http://archive.ubuntu.com/ubuntu jammy-updates/main amd64 sqlite3 amd64 3.37.2-2ubuntu0.3 [768 kB]\n",
            "Fetched 768 kB in 1s (589 kB/s)\n",
            "Selecting previously unselected package sqlite3.\n",
            "(Reading database ... 121918 files and directories currently installed.)\n",
            "Preparing to unpack .../sqlite3_3.37.2-2ubuntu0.3_amd64.deb ...\n",
            "Unpacking sqlite3 (3.37.2-2ubuntu0.3) ...\n",
            "Setting up sqlite3 (3.37.2-2ubuntu0.3) ...\n",
            "Processing triggers for man-db (2.10.2-1) ...\n"
          ]
        }
      ],
      "source": [
        "!apt-get install sqlite3\n",
        "import sqlite3\n",
        "import pandas as pd"
      ]
    },
    {
      "cell_type": "code",
      "execution_count": null,
      "id": "MDSF0eNxxuEt",
      "metadata": {
        "id": "MDSF0eNxxuEt"
      },
      "outputs": [],
      "source": [
        "conn = sqlite3.connect('atliq_tshirts.db')\n",
        "cursor = conn.cursor()"
      ]
    },
    {
      "cell_type": "code",
      "execution_count": null,
      "id": "WAHdof45yaHa",
      "metadata": {
        "colab": {
          "base_uri": "https://localhost:8080/"
        },
        "id": "WAHdof45yaHa",
        "outputId": "4c26348b-a3a8-47ce-cdae-c8e04029f34d"
      },
      "outputs": [
        {
          "name": "stdout",
          "output_type": "stream",
          "text": [
            "Tables in the database:\n"
          ]
        }
      ],
      "source": [
        "# import sqlite3\n",
        "\n",
        "# # Connect to the database (or create it if it doesn't exist)\n",
        "# conn = sqlite3.connect('atliq_tshirts.db')\n",
        "# cursor = conn.cursor()\n",
        "\n",
        "# Query to get the list of tables\n",
        "cursor.execute(\"SELECT name FROM sqlite_master;\")\n",
        "tables = cursor.fetchall()\n",
        "\n",
        "# Print the list of tables\n",
        "print(\"Tables in the database:\")\n",
        "for table in tables:\n",
        "    print(table[0])\n",
        "\n"
      ]
    },
    {
      "cell_type": "code",
      "execution_count": null,
      "id": "Nd2_G5XCyDpH",
      "metadata": {
        "colab": {
          "base_uri": "https://localhost:8080/"
        },
        "id": "Nd2_G5XCyDpH",
        "outputId": "9956ce50-df64-4d56-ab3a-99f5cdd2fc2d"
      },
      "outputs": [
        {
          "name": "stdout",
          "output_type": "stream",
          "text": [
            "Table 't_shirts' created successfully.\n",
            "Table 'discounts' created successfully.\n"
          ]
        }
      ],
      "source": [
        "def create_t_shirts_table():\n",
        "    try:\n",
        "        cursor.execute(\"\"\"\n",
        "        CREATE TABLE t_shirts (\n",
        "            t_shirt_id INT PRIMARY KEY,\n",
        "            brand VARCHAR(20) NOT NULL,\n",
        "            color VARCHAR(20) NOT NULL,\n",
        "            size VARCHAR(20) NOT NULL,\n",
        "            price INT CHECK (price BETWEEN 10 AND 50),\n",
        "            stock_quantity INT NOT NULL\n",
        "        )\"\"\"\n",
        "        )\n",
        "        conn.commit()\n",
        "        print(\"Table 't_shirts' created successfully.\")\n",
        "    except sqlite3.OperationalError as e:\n",
        "        if 'already exists' in str(e):\n",
        "            print(\"Table 't_shirts' already exists.\")\n",
        "            # Optionally, you can drop and recreate the table\n",
        "            # cursor.execute(\"DROP TABLE IF EXISTS t_shirts\")\n",
        "            # conn.commit()\n",
        "            # create_t_shirts_table()\n",
        "        else:\n",
        "            raise\n",
        "\n",
        "# Create the table\n",
        "create_t_shirts_table()\n",
        "\n",
        "# Function to create the discounts table\n",
        "def create_discounts_table():\n",
        "    try:\n",
        "        cursor.execute(\"\"\"\n",
        "        CREATE TABLE discounts (\n",
        "            discount_id INT PRIMARY KEY,\n",
        "            t_shirt_id INT NOT NULL,\n",
        "            pct_discount DECIMAL(5,2) CHECK (pct_discount BETWEEN 0 AND 100),\n",
        "            FOREIGN KEY (t_shirt_id) REFERENCES t_shirts(t_shirt_id)\n",
        "        )\"\"\"\n",
        "        )\n",
        "        conn.commit()\n",
        "        print(\"Table 'discounts' created successfully.\")\n",
        "    except sqlite3.OperationalError as e:\n",
        "        if 'already exists' in str(e):\n",
        "            print(\"Table 'discounts' already exists.\")\n",
        "            # Optionally, you can drop and recreate the table\n",
        "            # cursor.execute(\"DROP TABLE IF\n",
        "create_discounts_table()"
      ]
    },
    {
      "cell_type": "code",
      "execution_count": null,
      "id": "Kdy0HbBR2Sz_",
      "metadata": {
        "id": "Kdy0HbBR2Sz_"
      },
      "outputs": [],
      "source": [
        "cursor.execute(\"\"\"\n",
        "INSERT INTO discounts (t_shirt_id, pct_discount)\n",
        "VALUES\n",
        "(1, 10.00),\n",
        "(2, 15.00),\n",
        "(3, 20.00),\n",
        "(4, 5.00),\n",
        "(5, 25.00),\n",
        "(6, 10.00),\n",
        "(7, 30.00),\n",
        "(8, 35.00),\n",
        "(9, 40.00),\n",
        "(10, 45.00)\n",
        "\"\"\")\n",
        "conn.commit()"
      ]
    },
    {
      "cell_type": "code",
      "execution_count": null,
      "id": "O0eC6OV72bR0",
      "metadata": {
        "collapsed": true,
        "id": "O0eC6OV72bR0"
      },
      "outputs": [],
      "source": [
        "cursor.execute(\"\"\"\n",
        "INSERT INTO t_shirts VALUES\n",
        "  (1, 'Van Huesen', 'Blue', 'XS', 17, 81),\n",
        "    (2, 'Levi', 'Black', 'L', 29, 50),\n",
        "    (3, 'Adidas', 'White', 'M', 14, 14),\n",
        "    (4, 'Adidas', 'Blue', 'M', 31, 91),\n",
        "    (5, 'Adidas', 'Black', 'L', 22, 58),\n",
        "    (6, 'Adidas', 'Blue', 'XS', 43, 71),\n",
        "    (7, 'Adidas', 'Black', 'XL', 23, 71),\n",
        "    (8, 'Levi', 'White', 'M', 42, 45),\n",
        "    (9, 'Nike', 'Black', 'L', 37, 22),\n",
        "    (10, 'Nike', 'White', 'M', 38, 10),\n",
        "    (11, 'Adidas', 'White', 'L', 12, 97),\n",
        "    (12, 'Nike', 'Red', 'XS', 45, 19),\n",
        "    (13, 'Adidas', 'Red', 'M', 23, 51),\n",
        "    (14, 'Levi', 'Red', 'L', 11, 25),\n",
        "    (15, 'Nike', 'Red', 'M', 29, 61),\n",
        "    (16, 'Levi', 'Black', 'S', 37, 64),\n",
        "    (17, 'Adidas', 'Red', 'XL', 20, 43),\n",
        "    (18, 'Van Huesen', 'Blue', 'L', 18, 10),\n",
        "    (19, 'Levi', 'White', 'S', 17, 83),\n",
        "    (20, 'Levi', 'White', 'XL', 42, 44),\n",
        "    (21, 'Nike', 'Black', 'XL', 13, 67),\n",
        "    (22, 'Adidas', 'White', 'XS', 44, 17),\n",
        "    (23, 'Adidas', 'Blue', 'L', 46, 23),\n",
        "    (24, 'Van Huesen', 'White', 'M', 13, 63),\n",
        "    (26, 'Nike', 'Black', 'XS', 30, 37),\n",
        "    (27, 'Adidas', 'Red', 'S', 47, 97),\n",
        "    (29, 'Nike', 'White', 'L', 48, 49),\n",
        "    (30, 'Levi', 'Blue', 'S', 16, 86),\n",
        "    (31, 'Nike', 'Red', 'S', 48, 100),\n",
        "    (32, 'Van Huesen', 'White', 'L', 46, 43),\n",
        "    (33, 'Van Huesen', 'White', 'XS', 39, 33),\n",
        "    (34, 'Van Huesen', 'White', 'S', 45, 38),\n",
        "    (41, 'Adidas', 'Black', 'S', 43, 24),\n",
        "    (43, 'Nike', 'Black', 'M', 17, 59),\n",
        "    (44, 'Van Huesen', 'Blue', 'M', 10, 77),\n",
        "    (45, 'Nike', 'White', 'XL', 49, 90),\n",
        "    (46, 'Nike', 'White', 'S', 42, 89),\n",
        "    (47, 'Adidas', 'Blue', 'XL', 14, 14),\n",
        "    (52, 'Adidas', 'Red', 'XS', 11, 81),\n",
        "    (53, 'Adidas', 'White', 'XL', 50, 26),\n",
        "    (55, 'Levi', 'Red', 'XL', 30, 80),\n",
        "    (57, 'Van Huesen', 'Black', 'XL', 23, 19),\n",
        "    (58, 'Nike', 'Blue', 'XS', 38, 15),\n",
        "    (61, 'Van Huesen', 'Blue', 'XL', 27, 44),\n",
        "    (63, 'Van Huesen', 'Red', 'XS', 24, 53),\n",
        "    (69, 'Levi', 'Black', 'XS', 44, 82),\n",
        "    (70, 'Levi', 'White', 'XS', 30, 51),\n",
        "    (72, 'Nike', 'Black', 'S', 35, 20),\n",
        "    (74, 'Levi', 'Red', 'XS', 19, 86),\n",
        "    (77, 'Levi', 'Black', 'M', 25, 44),\n",
        "    (80, 'Van Huesen', 'Red', 'S', 41, 23),\n",
        "    (81, 'Levi', 'Black', 'XL', 32, 18),\n",
        "    (83, 'Van Huesen', 'Red', 'M', 42, 31),\n",
        "    (84, 'Adidas', 'Blue', 'S', 36, 25),\n",
        "    (94, 'Nike', 'White', 'XS', 43, 99),\n",
        "    (100, 'Levi', 'Blue', 'M', 49, 16)\n",
        "\"\"\")\n",
        "conn.commit()"
      ]
    },
    {
      "cell_type": "code",
      "execution_count": null,
      "id": "etEqBT6b4SGM",
      "metadata": {
        "colab": {
          "base_uri": "https://localhost:8080/"
        },
        "collapsed": true,
        "id": "etEqBT6b4SGM",
        "outputId": "8f38c11e-f167-4332-c4eb-e327e71a8f81"
      },
      "outputs": [
        {
          "name": "stdout",
          "output_type": "stream",
          "text": [
            "(1, 'Van Huesen', 'Blue', 'XS', 17, 81)\n",
            "(2, 'Levi', 'Black', 'L', 29, 50)\n",
            "(3, 'Adidas', 'White', 'M', 14, 14)\n",
            "(4, 'Adidas', 'Blue', 'M', 31, 91)\n",
            "(5, 'Adidas', 'Black', 'L', 22, 58)\n",
            "(6, 'Adidas', 'Blue', 'XS', 43, 71)\n",
            "(7, 'Adidas', 'Black', 'XL', 23, 71)\n",
            "(8, 'Levi', 'White', 'M', 42, 45)\n",
            "(9, 'Nike', 'Black', 'L', 37, 22)\n",
            "(10, 'Nike', 'White', 'M', 38, 10)\n",
            "(11, 'Adidas', 'White', 'L', 12, 97)\n",
            "(12, 'Nike', 'Red', 'XS', 45, 19)\n",
            "(13, 'Adidas', 'Red', 'M', 23, 51)\n",
            "(14, 'Levi', 'Red', 'L', 11, 25)\n",
            "(15, 'Nike', 'Red', 'M', 29, 61)\n",
            "(16, 'Levi', 'Black', 'S', 37, 64)\n",
            "(17, 'Adidas', 'Red', 'XL', 20, 43)\n",
            "(18, 'Van Huesen', 'Blue', 'L', 18, 10)\n",
            "(19, 'Levi', 'White', 'S', 17, 83)\n",
            "(20, 'Levi', 'White', 'XL', 42, 44)\n",
            "(21, 'Nike', 'Black', 'XL', 13, 67)\n",
            "(22, 'Adidas', 'White', 'XS', 44, 17)\n",
            "(23, 'Adidas', 'Blue', 'L', 46, 23)\n",
            "(24, 'Van Huesen', 'White', 'M', 13, 63)\n",
            "(26, 'Nike', 'Black', 'XS', 30, 37)\n",
            "(27, 'Adidas', 'Red', 'S', 47, 97)\n",
            "(29, 'Nike', 'White', 'L', 48, 49)\n",
            "(30, 'Levi', 'Blue', 'S', 16, 86)\n",
            "(31, 'Nike', 'Red', 'S', 48, 100)\n",
            "(32, 'Van Huesen', 'White', 'L', 46, 43)\n",
            "(33, 'Van Huesen', 'White', 'XS', 39, 33)\n",
            "(34, 'Van Huesen', 'White', 'S', 45, 38)\n",
            "(41, 'Adidas', 'Black', 'S', 43, 24)\n",
            "(43, 'Nike', 'Black', 'M', 17, 59)\n",
            "(44, 'Van Huesen', 'Blue', 'M', 10, 77)\n",
            "(45, 'Nike', 'White', 'XL', 49, 90)\n",
            "(46, 'Nike', 'White', 'S', 42, 89)\n",
            "(47, 'Adidas', 'Blue', 'XL', 14, 14)\n",
            "(52, 'Adidas', 'Red', 'XS', 11, 81)\n",
            "(53, 'Adidas', 'White', 'XL', 50, 26)\n",
            "(55, 'Levi', 'Red', 'XL', 30, 80)\n",
            "(57, 'Van Huesen', 'Black', 'XL', 23, 19)\n",
            "(58, 'Nike', 'Blue', 'XS', 38, 15)\n",
            "(61, 'Van Huesen', 'Blue', 'XL', 27, 44)\n",
            "(63, 'Van Huesen', 'Red', 'XS', 24, 53)\n",
            "(69, 'Levi', 'Black', 'XS', 44, 82)\n",
            "(70, 'Levi', 'White', 'XS', 30, 51)\n",
            "(72, 'Nike', 'Black', 'S', 35, 20)\n",
            "(74, 'Levi', 'Red', 'XS', 19, 86)\n",
            "(77, 'Levi', 'Black', 'M', 25, 44)\n",
            "(80, 'Van Huesen', 'Red', 'S', 41, 23)\n",
            "(81, 'Levi', 'Black', 'XL', 32, 18)\n",
            "(83, 'Van Huesen', 'Red', 'M', 42, 31)\n",
            "(84, 'Adidas', 'Blue', 'S', 36, 25)\n",
            "(94, 'Nike', 'White', 'XS', 43, 99)\n",
            "(100, 'Levi', 'Blue', 'M', 49, 16)\n"
          ]
        }
      ],
      "source": [
        "cursor.execute(\"SELECT * FROM t_shirts\")\n",
        "rows = cursor.fetchall()\n",
        "for row in rows:\n",
        "    print(row)"
      ]
    },
    {
      "cell_type": "code",
      "execution_count": null,
      "id": "ETrURe3n4vgu",
      "metadata": {
        "colab": {
          "base_uri": "https://localhost:8080/"
        },
        "id": "ETrURe3n4vgu",
        "outputId": "af73fadc-c15f-49e7-f965-045331a628ff"
      },
      "outputs": [
        {
          "name": "stdout",
          "output_type": "stream",
          "text": [
            "Mounted at /content/drive\n"
          ]
        }
      ],
      "source": [
        "from google.colab import drive\n",
        "drive.mount('/content/drive')"
      ]
    },
    {
      "cell_type": "code",
      "execution_count": null,
      "id": "64WDe2doYVdY",
      "metadata": {
        "colab": {
          "base_uri": "https://localhost:8080/"
        },
        "collapsed": true,
        "id": "64WDe2doYVdY",
        "outputId": "726d0604-f3b3-4595-fd98-8edd9651e92d"
      },
      "outputs": [
        {
          "name": "stdout",
          "output_type": "stream",
          "text": [
            "Collecting langchain==0.0.284 (from -r /content/drive/MyDrive/sqliteDB/requirements.txt (line 1))\n",
            "  Using cached langchain-0.0.284-py3-none-any.whl (1.7 MB)\n",
            "Requirement already satisfied: python-dotenv==1.0.0 in /usr/local/lib/python3.10/dist-packages (from -r /content/drive/MyDrive/sqliteDB/requirements.txt (line 2)) (1.0.0)\n",
            "Requirement already satisfied: streamlit==1.22.0 in /usr/local/lib/python3.10/dist-packages (from -r /content/drive/MyDrive/sqliteDB/requirements.txt (line 3)) (1.22.0)\n",
            "Requirement already satisfied: tiktoken==0.4.0 in /usr/local/lib/python3.10/dist-packages (from -r /content/drive/MyDrive/sqliteDB/requirements.txt (line 4)) (0.4.0)\n",
            "Requirement already satisfied: faiss-cpu==1.7.4 in /usr/local/lib/python3.10/dist-packages (from -r /content/drive/MyDrive/sqliteDB/requirements.txt (line 5)) (1.7.4)\n",
            "Requirement already satisfied: protobuf~=3.19.0 in /usr/local/lib/python3.10/dist-packages (from -r /content/drive/MyDrive/sqliteDB/requirements.txt (line 6)) (3.19.6)\n",
            "Requirement already satisfied: langchain_experimental in /usr/local/lib/python3.10/dist-packages (from -r /content/drive/MyDrive/sqliteDB/requirements.txt (line 7)) (0.0.25)\n",
            "Requirement already satisfied: mysql-connector-python in /usr/local/lib/python3.10/dist-packages (from -r /content/drive/MyDrive/sqliteDB/requirements.txt (line 8)) (8.4.0)\n",
            "Requirement already satisfied: pymysql in /usr/local/lib/python3.10/dist-packages (from -r /content/drive/MyDrive/sqliteDB/requirements.txt (line 9)) (1.1.1)\n",
            "Requirement already satisfied: sentence-transformers in /usr/local/lib/python3.10/dist-packages (from -r /content/drive/MyDrive/sqliteDB/requirements.txt (line 10)) (3.0.0)\n",
            "Requirement already satisfied: chromadb in /usr/local/lib/python3.10/dist-packages (from -r /content/drive/MyDrive/sqliteDB/requirements.txt (line 11)) (0.5.0)\n",
            "Requirement already satisfied: PyYAML>=5.3 in /usr/local/lib/python3.10/dist-packages (from langchain==0.0.284->-r /content/drive/MyDrive/sqliteDB/requirements.txt (line 1)) (6.0.1)\n",
            "Requirement already satisfied: SQLAlchemy<3,>=1.4 in /usr/local/lib/python3.10/dist-packages (from langchain==0.0.284->-r /content/drive/MyDrive/sqliteDB/requirements.txt (line 1)) (2.0.30)\n",
            "Requirement already satisfied: aiohttp<4.0.0,>=3.8.3 in /usr/local/lib/python3.10/dist-packages (from langchain==0.0.284->-r /content/drive/MyDrive/sqliteDB/requirements.txt (line 1)) (3.9.5)\n",
            "Requirement already satisfied: async-timeout<5.0.0,>=4.0.0 in /usr/local/lib/python3.10/dist-packages (from langchain==0.0.284->-r /content/drive/MyDrive/sqliteDB/requirements.txt (line 1)) (4.0.3)\n",
            "Requirement already satisfied: dataclasses-json<0.6.0,>=0.5.7 in /usr/local/lib/python3.10/dist-packages (from langchain==0.0.284->-r /content/drive/MyDrive/sqliteDB/requirements.txt (line 1)) (0.5.14)\n",
            "Collecting langsmith<0.1.0,>=0.0.21 (from langchain==0.0.284->-r /content/drive/MyDrive/sqliteDB/requirements.txt (line 1))\n",
            "  Using cached langsmith-0.0.92-py3-none-any.whl (56 kB)\n",
            "Requirement already satisfied: numexpr<3.0.0,>=2.8.4 in /usr/local/lib/python3.10/dist-packages (from langchain==0.0.284->-r /content/drive/MyDrive/sqliteDB/requirements.txt (line 1)) (2.10.0)\n",
            "Requirement already satisfied: numpy<2,>=1 in /usr/local/lib/python3.10/dist-packages (from langchain==0.0.284->-r /content/drive/MyDrive/sqliteDB/requirements.txt (line 1)) (1.25.2)\n",
            "Requirement already satisfied: pydantic<3,>=1 in /usr/local/lib/python3.10/dist-packages (from langchain==0.0.284->-r /content/drive/MyDrive/sqliteDB/requirements.txt (line 1)) (2.7.1)\n",
            "Requirement already satisfied: requests<3,>=2 in /usr/local/lib/python3.10/dist-packages (from langchain==0.0.284->-r /content/drive/MyDrive/sqliteDB/requirements.txt (line 1)) (2.31.0)\n",
            "Requirement already satisfied: tenacity<9.0.0,>=8.1.0 in /usr/local/lib/python3.10/dist-packages (from langchain==0.0.284->-r /content/drive/MyDrive/sqliteDB/requirements.txt (line 1)) (8.3.0)\n",
            "Requirement already satisfied: altair<5,>=3.2.0 in /usr/local/lib/python3.10/dist-packages (from streamlit==1.22.0->-r /content/drive/MyDrive/sqliteDB/requirements.txt (line 3)) (4.2.2)\n",
            "Requirement already satisfied: blinker>=1.0.0 in /usr/lib/python3/dist-packages (from streamlit==1.22.0->-r /content/drive/MyDrive/sqliteDB/requirements.txt (line 3)) (1.4)\n",
            "Requirement already satisfied: cachetools>=4.0 in /usr/local/lib/python3.10/dist-packages (from streamlit==1.22.0->-r /content/drive/MyDrive/sqliteDB/requirements.txt (line 3)) (5.3.3)\n",
            "Requirement already satisfied: click>=7.0 in /usr/local/lib/python3.10/dist-packages (from streamlit==1.22.0->-r /content/drive/MyDrive/sqliteDB/requirements.txt (line 3)) (8.1.7)\n",
            "Requirement already satisfied: importlib-metadata>=1.4 in /usr/local/lib/python3.10/dist-packages (from streamlit==1.22.0->-r /content/drive/MyDrive/sqliteDB/requirements.txt (line 3)) (7.1.0)\n",
            "Requirement already satisfied: packaging>=14.1 in /usr/local/lib/python3.10/dist-packages (from streamlit==1.22.0->-r /content/drive/MyDrive/sqliteDB/requirements.txt (line 3)) (23.2)\n",
            "Requirement already satisfied: pandas<3,>=0.25 in /usr/local/lib/python3.10/dist-packages (from streamlit==1.22.0->-r /content/drive/MyDrive/sqliteDB/requirements.txt (line 3)) (2.0.3)\n",
            "Requirement already satisfied: pillow>=6.2.0 in /usr/local/lib/python3.10/dist-packages (from streamlit==1.22.0->-r /content/drive/MyDrive/sqliteDB/requirements.txt (line 3)) (9.4.0)\n",
            "Requirement already satisfied: pyarrow>=4.0 in /usr/local/lib/python3.10/dist-packages (from streamlit==1.22.0->-r /content/drive/MyDrive/sqliteDB/requirements.txt (line 3)) (14.0.2)\n",
            "Requirement already satisfied: pympler>=0.9 in /usr/local/lib/python3.10/dist-packages (from streamlit==1.22.0->-r /content/drive/MyDrive/sqliteDB/requirements.txt (line 3)) (1.0.1)\n",
            "Requirement already satisfied: python-dateutil in /usr/local/lib/python3.10/dist-packages (from streamlit==1.22.0->-r /content/drive/MyDrive/sqliteDB/requirements.txt (line 3)) (2.8.2)\n",
            "Requirement already satisfied: rich>=10.11.0 in /usr/local/lib/python3.10/dist-packages (from streamlit==1.22.0->-r /content/drive/MyDrive/sqliteDB/requirements.txt (line 3)) (13.7.1)\n",
            "Requirement already satisfied: toml in /usr/local/lib/python3.10/dist-packages (from streamlit==1.22.0->-r /content/drive/MyDrive/sqliteDB/requirements.txt (line 3)) (0.10.2)\n",
            "Requirement already satisfied: typing-extensions>=3.10.0.0 in /usr/local/lib/python3.10/dist-packages (from streamlit==1.22.0->-r /content/drive/MyDrive/sqliteDB/requirements.txt (line 3)) (4.11.0)\n",
            "Requirement already satisfied: tzlocal>=1.1 in /usr/local/lib/python3.10/dist-packages (from streamlit==1.22.0->-r /content/drive/MyDrive/sqliteDB/requirements.txt (line 3)) (5.2)\n",
            "Requirement already satisfied: validators>=0.2 in /usr/local/lib/python3.10/dist-packages (from streamlit==1.22.0->-r /content/drive/MyDrive/sqliteDB/requirements.txt (line 3)) (0.28.3)\n",
            "Requirement already satisfied: gitpython!=3.1.19 in /usr/local/lib/python3.10/dist-packages (from streamlit==1.22.0->-r /content/drive/MyDrive/sqliteDB/requirements.txt (line 3)) (3.1.43)\n",
            "Requirement already satisfied: pydeck>=0.1.dev5 in /usr/local/lib/python3.10/dist-packages (from streamlit==1.22.0->-r /content/drive/MyDrive/sqliteDB/requirements.txt (line 3)) (0.9.1)\n",
            "Requirement already satisfied: tornado>=6.0.3 in /usr/local/lib/python3.10/dist-packages (from streamlit==1.22.0->-r /content/drive/MyDrive/sqliteDB/requirements.txt (line 3)) (6.3.3)\n",
            "Requirement already satisfied: watchdog in /usr/local/lib/python3.10/dist-packages (from streamlit==1.22.0->-r /content/drive/MyDrive/sqliteDB/requirements.txt (line 3)) (4.0.1)\n",
            "Requirement already satisfied: regex>=2022.1.18 in /usr/local/lib/python3.10/dist-packages (from tiktoken==0.4.0->-r /content/drive/MyDrive/sqliteDB/requirements.txt (line 4)) (2024.5.15)\n",
            "Requirement already satisfied: transformers<5.0.0,>=4.34.0 in /usr/local/lib/python3.10/dist-packages (from sentence-transformers->-r /content/drive/MyDrive/sqliteDB/requirements.txt (line 10)) (4.41.1)\n",
            "Requirement already satisfied: tqdm in /usr/local/lib/python3.10/dist-packages (from sentence-transformers->-r /content/drive/MyDrive/sqliteDB/requirements.txt (line 10)) (4.66.4)\n",
            "Requirement already satisfied: torch>=1.11.0 in /usr/local/lib/python3.10/dist-packages (from sentence-transformers->-r /content/drive/MyDrive/sqliteDB/requirements.txt (line 10)) (2.3.0+cu121)\n",
            "Requirement already satisfied: scikit-learn in /usr/local/lib/python3.10/dist-packages (from sentence-transformers->-r /content/drive/MyDrive/sqliteDB/requirements.txt (line 10)) (1.2.2)\n",
            "Requirement already satisfied: scipy in /usr/local/lib/python3.10/dist-packages (from sentence-transformers->-r /content/drive/MyDrive/sqliteDB/requirements.txt (line 10)) (1.11.4)\n",
            "Requirement already satisfied: huggingface-hub>=0.15.1 in /usr/local/lib/python3.10/dist-packages (from sentence-transformers->-r /content/drive/MyDrive/sqliteDB/requirements.txt (line 10)) (0.23.1)\n",
            "Requirement already satisfied: build>=1.0.3 in /usr/local/lib/python3.10/dist-packages (from chromadb->-r /content/drive/MyDrive/sqliteDB/requirements.txt (line 11)) (1.2.1)\n",
            "Requirement already satisfied: chroma-hnswlib==0.7.3 in /usr/local/lib/python3.10/dist-packages (from chromadb->-r /content/drive/MyDrive/sqliteDB/requirements.txt (line 11)) (0.7.3)\n",
            "Requirement already satisfied: fastapi>=0.95.2 in /usr/local/lib/python3.10/dist-packages (from chromadb->-r /content/drive/MyDrive/sqliteDB/requirements.txt (line 11)) (0.111.0)\n",
            "Requirement already satisfied: uvicorn[standard]>=0.18.3 in /usr/local/lib/python3.10/dist-packages (from chromadb->-r /content/drive/MyDrive/sqliteDB/requirements.txt (line 11)) (0.30.0)\n",
            "Requirement already satisfied: posthog>=2.4.0 in /usr/local/lib/python3.10/dist-packages (from chromadb->-r /content/drive/MyDrive/sqliteDB/requirements.txt (line 11)) (3.5.0)\n",
            "Requirement already satisfied: onnxruntime>=1.14.1 in /usr/local/lib/python3.10/dist-packages (from chromadb->-r /content/drive/MyDrive/sqliteDB/requirements.txt (line 11)) (1.18.0)\n",
            "Requirement already satisfied: opentelemetry-api>=1.2.0 in /usr/local/lib/python3.10/dist-packages (from chromadb->-r /content/drive/MyDrive/sqliteDB/requirements.txt (line 11)) (1.25.0)\n",
            "Requirement already satisfied: opentelemetry-exporter-otlp-proto-grpc>=1.2.0 in /usr/local/lib/python3.10/dist-packages (from chromadb->-r /content/drive/MyDrive/sqliteDB/requirements.txt (line 11)) (1.25.0)\n",
            "Requirement already satisfied: opentelemetry-instrumentation-fastapi>=0.41b0 in /usr/local/lib/python3.10/dist-packages (from chromadb->-r /content/drive/MyDrive/sqliteDB/requirements.txt (line 11)) (0.46b0)\n",
            "Requirement already satisfied: opentelemetry-sdk>=1.2.0 in /usr/local/lib/python3.10/dist-packages (from chromadb->-r /content/drive/MyDrive/sqliteDB/requirements.txt (line 11)) (1.25.0)\n",
            "Requirement already satisfied: tokenizers>=0.13.2 in /usr/local/lib/python3.10/dist-packages (from chromadb->-r /content/drive/MyDrive/sqliteDB/requirements.txt (line 11)) (0.19.1)\n",
            "Requirement already satisfied: pypika>=0.48.9 in /usr/local/lib/python3.10/dist-packages (from chromadb->-r /content/drive/MyDrive/sqliteDB/requirements.txt (line 11)) (0.48.9)\n",
            "Requirement already satisfied: overrides>=7.3.1 in /usr/local/lib/python3.10/dist-packages (from chromadb->-r /content/drive/MyDrive/sqliteDB/requirements.txt (line 11)) (7.7.0)\n",
            "Requirement already satisfied: importlib-resources in /usr/local/lib/python3.10/dist-packages (from chromadb->-r /content/drive/MyDrive/sqliteDB/requirements.txt (line 11)) (6.4.0)\n",
            "Requirement already satisfied: grpcio>=1.58.0 in /usr/local/lib/python3.10/dist-packages (from chromadb->-r /content/drive/MyDrive/sqliteDB/requirements.txt (line 11)) (1.64.0)\n",
            "Requirement already satisfied: bcrypt>=4.0.1 in /usr/local/lib/python3.10/dist-packages (from chromadb->-r /content/drive/MyDrive/sqliteDB/requirements.txt (line 11)) (4.1.3)\n",
            "Requirement already satisfied: typer>=0.9.0 in /usr/local/lib/python3.10/dist-packages (from chromadb->-r /content/drive/MyDrive/sqliteDB/requirements.txt (line 11)) (0.12.3)\n",
            "Requirement already satisfied: kubernetes>=28.1.0 in /usr/local/lib/python3.10/dist-packages (from chromadb->-r /content/drive/MyDrive/sqliteDB/requirements.txt (line 11)) (29.0.0)\n",
            "Requirement already satisfied: mmh3>=4.0.1 in /usr/local/lib/python3.10/dist-packages (from chromadb->-r /content/drive/MyDrive/sqliteDB/requirements.txt (line 11)) (4.1.0)\n",
            "Requirement already satisfied: orjson>=3.9.12 in /usr/local/lib/python3.10/dist-packages (from chromadb->-r /content/drive/MyDrive/sqliteDB/requirements.txt (line 11)) (3.10.3)\n",
            "Requirement already satisfied: aiosignal>=1.1.2 in /usr/local/lib/python3.10/dist-packages (from aiohttp<4.0.0,>=3.8.3->langchain==0.0.284->-r /content/drive/MyDrive/sqliteDB/requirements.txt (line 1)) (1.3.1)\n",
            "Requirement already satisfied: attrs>=17.3.0 in /usr/local/lib/python3.10/dist-packages (from aiohttp<4.0.0,>=3.8.3->langchain==0.0.284->-r /content/drive/MyDrive/sqliteDB/requirements.txt (line 1)) (23.2.0)\n",
            "Requirement already satisfied: frozenlist>=1.1.1 in /usr/local/lib/python3.10/dist-packages (from aiohttp<4.0.0,>=3.8.3->langchain==0.0.284->-r /content/drive/MyDrive/sqliteDB/requirements.txt (line 1)) (1.4.1)\n",
            "Requirement already satisfied: multidict<7.0,>=4.5 in /usr/local/lib/python3.10/dist-packages (from aiohttp<4.0.0,>=3.8.3->langchain==0.0.284->-r /content/drive/MyDrive/sqliteDB/requirements.txt (line 1)) (6.0.5)\n",
            "Requirement already satisfied: yarl<2.0,>=1.0 in /usr/local/lib/python3.10/dist-packages (from aiohttp<4.0.0,>=3.8.3->langchain==0.0.284->-r /content/drive/MyDrive/sqliteDB/requirements.txt (line 1)) (1.9.4)\n",
            "Requirement already satisfied: entrypoints in /usr/local/lib/python3.10/dist-packages (from altair<5,>=3.2.0->streamlit==1.22.0->-r /content/drive/MyDrive/sqliteDB/requirements.txt (line 3)) (0.4)\n",
            "Requirement already satisfied: jinja2 in /usr/local/lib/python3.10/dist-packages (from altair<5,>=3.2.0->streamlit==1.22.0->-r /content/drive/MyDrive/sqliteDB/requirements.txt (line 3)) (3.1.4)\n",
            "Requirement already satisfied: jsonschema>=3.0 in /usr/local/lib/python3.10/dist-packages (from altair<5,>=3.2.0->streamlit==1.22.0->-r /content/drive/MyDrive/sqliteDB/requirements.txt (line 3)) (4.19.2)\n",
            "Requirement already satisfied: toolz in /usr/local/lib/python3.10/dist-packages (from altair<5,>=3.2.0->streamlit==1.22.0->-r /content/drive/MyDrive/sqliteDB/requirements.txt (line 3)) (0.12.1)\n",
            "Requirement already satisfied: pyproject_hooks in /usr/local/lib/python3.10/dist-packages (from build>=1.0.3->chromadb->-r /content/drive/MyDrive/sqliteDB/requirements.txt (line 11)) (1.1.0)\n",
            "Requirement already satisfied: tomli>=1.1.0 in /usr/local/lib/python3.10/dist-packages (from build>=1.0.3->chromadb->-r /content/drive/MyDrive/sqliteDB/requirements.txt (line 11)) (2.0.1)\n",
            "Requirement already satisfied: marshmallow<4.0.0,>=3.18.0 in /usr/local/lib/python3.10/dist-packages (from dataclasses-json<0.6.0,>=0.5.7->langchain==0.0.284->-r /content/drive/MyDrive/sqliteDB/requirements.txt (line 1)) (3.21.2)\n",
            "Requirement already satisfied: typing-inspect<1,>=0.4.0 in /usr/local/lib/python3.10/dist-packages (from dataclasses-json<0.6.0,>=0.5.7->langchain==0.0.284->-r /content/drive/MyDrive/sqliteDB/requirements.txt (line 1)) (0.9.0)\n",
            "Requirement already satisfied: starlette<0.38.0,>=0.37.2 in /usr/local/lib/python3.10/dist-packages (from fastapi>=0.95.2->chromadb->-r /content/drive/MyDrive/sqliteDB/requirements.txt (line 11)) (0.37.2)\n",
            "Requirement already satisfied: fastapi-cli>=0.0.2 in /usr/local/lib/python3.10/dist-packages (from fastapi>=0.95.2->chromadb->-r /content/drive/MyDrive/sqliteDB/requirements.txt (line 11)) (0.0.4)\n",
            "Requirement already satisfied: httpx>=0.23.0 in /usr/local/lib/python3.10/dist-packages (from fastapi>=0.95.2->chromadb->-r /content/drive/MyDrive/sqliteDB/requirements.txt (line 11)) (0.27.0)\n",
            "Requirement already satisfied: python-multipart>=0.0.7 in /usr/local/lib/python3.10/dist-packages (from fastapi>=0.95.2->chromadb->-r /content/drive/MyDrive/sqliteDB/requirements.txt (line 11)) (0.0.9)\n",
            "Requirement already satisfied: ujson!=4.0.2,!=4.1.0,!=4.2.0,!=4.3.0,!=5.0.0,!=5.1.0,>=4.0.1 in /usr/local/lib/python3.10/dist-packages (from fastapi>=0.95.2->chromadb->-r /content/drive/MyDrive/sqliteDB/requirements.txt (line 11)) (5.10.0)\n",
            "Requirement already satisfied: email_validator>=2.0.0 in /usr/local/lib/python3.10/dist-packages (from fastapi>=0.95.2->chromadb->-r /content/drive/MyDrive/sqliteDB/requirements.txt (line 11)) (2.1.1)\n",
            "Requirement already satisfied: gitdb<5,>=4.0.1 in /usr/local/lib/python3.10/dist-packages (from gitpython!=3.1.19->streamlit==1.22.0->-r /content/drive/MyDrive/sqliteDB/requirements.txt (line 3)) (4.0.11)\n",
            "Requirement already satisfied: filelock in /usr/local/lib/python3.10/dist-packages (from huggingface-hub>=0.15.1->sentence-transformers->-r /content/drive/MyDrive/sqliteDB/requirements.txt (line 10)) (3.14.0)\n",
            "Requirement already satisfied: fsspec>=2023.5.0 in /usr/local/lib/python3.10/dist-packages (from huggingface-hub>=0.15.1->sentence-transformers->-r /content/drive/MyDrive/sqliteDB/requirements.txt (line 10)) (2023.6.0)\n",
            "Requirement already satisfied: zipp>=0.5 in /usr/local/lib/python3.10/dist-packages (from importlib-metadata>=1.4->streamlit==1.22.0->-r /content/drive/MyDrive/sqliteDB/requirements.txt (line 3)) (3.18.2)\n",
            "Requirement already satisfied: certifi>=14.05.14 in /usr/local/lib/python3.10/dist-packages (from kubernetes>=28.1.0->chromadb->-r /content/drive/MyDrive/sqliteDB/requirements.txt (line 11)) (2024.2.2)\n",
            "Requirement already satisfied: six>=1.9.0 in /usr/local/lib/python3.10/dist-packages (from kubernetes>=28.1.0->chromadb->-r /content/drive/MyDrive/sqliteDB/requirements.txt (line 11)) (1.16.0)\n",
            "Requirement already satisfied: google-auth>=1.0.1 in /usr/local/lib/python3.10/dist-packages (from kubernetes>=28.1.0->chromadb->-r /content/drive/MyDrive/sqliteDB/requirements.txt (line 11)) (2.27.0)\n",
            "Requirement already satisfied: websocket-client!=0.40.0,!=0.41.*,!=0.42.*,>=0.32.0 in /usr/local/lib/python3.10/dist-packages (from kubernetes>=28.1.0->chromadb->-r /content/drive/MyDrive/sqliteDB/requirements.txt (line 11)) (1.8.0)\n",
            "Requirement already satisfied: requests-oauthlib in /usr/local/lib/python3.10/dist-packages (from kubernetes>=28.1.0->chromadb->-r /content/drive/MyDrive/sqliteDB/requirements.txt (line 11)) (1.3.1)\n",
            "Requirement already satisfied: oauthlib>=3.2.2 in /usr/local/lib/python3.10/dist-packages (from kubernetes>=28.1.0->chromadb->-r /content/drive/MyDrive/sqliteDB/requirements.txt (line 11)) (3.2.2)\n",
            "Requirement already satisfied: urllib3>=1.24.2 in /usr/local/lib/python3.10/dist-packages (from kubernetes>=28.1.0->chromadb->-r /content/drive/MyDrive/sqliteDB/requirements.txt (line 11)) (2.0.7)\n",
            "Requirement already satisfied: coloredlogs in /usr/local/lib/python3.10/dist-packages (from onnxruntime>=1.14.1->chromadb->-r /content/drive/MyDrive/sqliteDB/requirements.txt (line 11)) (15.0.1)\n",
            "Requirement already satisfied: flatbuffers in /usr/local/lib/python3.10/dist-packages (from onnxruntime>=1.14.1->chromadb->-r /content/drive/MyDrive/sqliteDB/requirements.txt (line 11)) (24.3.25)\n",
            "Requirement already satisfied: sympy in /usr/local/lib/python3.10/dist-packages (from onnxruntime>=1.14.1->chromadb->-r /content/drive/MyDrive/sqliteDB/requirements.txt (line 11)) (1.12)\n",
            "Requirement already satisfied: deprecated>=1.2.6 in /usr/local/lib/python3.10/dist-packages (from opentelemetry-api>=1.2.0->chromadb->-r /content/drive/MyDrive/sqliteDB/requirements.txt (line 11)) (1.2.14)\n",
            "Requirement already satisfied: googleapis-common-protos~=1.52 in /usr/local/lib/python3.10/dist-packages (from opentelemetry-exporter-otlp-proto-grpc>=1.2.0->chromadb->-r /content/drive/MyDrive/sqliteDB/requirements.txt (line 11)) (1.63.0)\n",
            "Requirement already satisfied: opentelemetry-exporter-otlp-proto-common==1.25.0 in /usr/local/lib/python3.10/dist-packages (from opentelemetry-exporter-otlp-proto-grpc>=1.2.0->chromadb->-r /content/drive/MyDrive/sqliteDB/requirements.txt (line 11)) (1.25.0)\n",
            "Requirement already satisfied: opentelemetry-proto==1.25.0 in /usr/local/lib/python3.10/dist-packages (from opentelemetry-exporter-otlp-proto-grpc>=1.2.0->chromadb->-r /content/drive/MyDrive/sqliteDB/requirements.txt (line 11)) (1.25.0)\n",
            "Requirement already satisfied: opentelemetry-instrumentation-asgi==0.46b0 in /usr/local/lib/python3.10/dist-packages (from opentelemetry-instrumentation-fastapi>=0.41b0->chromadb->-r /content/drive/MyDrive/sqliteDB/requirements.txt (line 11)) (0.46b0)\n",
            "Requirement already satisfied: opentelemetry-instrumentation==0.46b0 in /usr/local/lib/python3.10/dist-packages (from opentelemetry-instrumentation-fastapi>=0.41b0->chromadb->-r /content/drive/MyDrive/sqliteDB/requirements.txt (line 11)) (0.46b0)\n",
            "Requirement already satisfied: opentelemetry-semantic-conventions==0.46b0 in /usr/local/lib/python3.10/dist-packages (from opentelemetry-instrumentation-fastapi>=0.41b0->chromadb->-r /content/drive/MyDrive/sqliteDB/requirements.txt (line 11)) (0.46b0)\n",
            "Requirement already satisfied: opentelemetry-util-http==0.46b0 in /usr/local/lib/python3.10/dist-packages (from opentelemetry-instrumentation-fastapi>=0.41b0->chromadb->-r /content/drive/MyDrive/sqliteDB/requirements.txt (line 11)) (0.46b0)\n",
            "Requirement already satisfied: setuptools>=16.0 in /usr/local/lib/python3.10/dist-packages (from opentelemetry-instrumentation==0.46b0->opentelemetry-instrumentation-fastapi>=0.41b0->chromadb->-r /content/drive/MyDrive/sqliteDB/requirements.txt (line 11)) (67.7.2)\n",
            "Requirement already satisfied: wrapt<2.0.0,>=1.0.0 in /usr/local/lib/python3.10/dist-packages (from opentelemetry-instrumentation==0.46b0->opentelemetry-instrumentation-fastapi>=0.41b0->chromadb->-r /content/drive/MyDrive/sqliteDB/requirements.txt (line 11)) (1.14.1)\n",
            "Requirement already satisfied: asgiref~=3.0 in /usr/local/lib/python3.10/dist-packages (from opentelemetry-instrumentation-asgi==0.46b0->opentelemetry-instrumentation-fastapi>=0.41b0->chromadb->-r /content/drive/MyDrive/sqliteDB/requirements.txt (line 11)) (3.8.1)\n",
            "Requirement already satisfied: pytz>=2020.1 in /usr/local/lib/python3.10/dist-packages (from pandas<3,>=0.25->streamlit==1.22.0->-r /content/drive/MyDrive/sqliteDB/requirements.txt (line 3)) (2023.4)\n",
            "Requirement already satisfied: tzdata>=2022.1 in /usr/local/lib/python3.10/dist-packages (from pandas<3,>=0.25->streamlit==1.22.0->-r /content/drive/MyDrive/sqliteDB/requirements.txt (line 3)) (2024.1)\n",
            "Requirement already satisfied: monotonic>=1.5 in /usr/local/lib/python3.10/dist-packages (from posthog>=2.4.0->chromadb->-r /content/drive/MyDrive/sqliteDB/requirements.txt (line 11)) (1.6)\n",
            "Requirement already satisfied: backoff>=1.10.0 in /usr/local/lib/python3.10/dist-packages (from posthog>=2.4.0->chromadb->-r /content/drive/MyDrive/sqliteDB/requirements.txt (line 11)) (2.2.1)\n",
            "Requirement already satisfied: annotated-types>=0.4.0 in /usr/local/lib/python3.10/dist-packages (from pydantic<3,>=1->langchain==0.0.284->-r /content/drive/MyDrive/sqliteDB/requirements.txt (line 1)) (0.7.0)\n",
            "Requirement already satisfied: pydantic-core==2.18.2 in /usr/local/lib/python3.10/dist-packages (from pydantic<3,>=1->langchain==0.0.284->-r /content/drive/MyDrive/sqliteDB/requirements.txt (line 1)) (2.18.2)\n",
            "Requirement already satisfied: charset-normalizer<4,>=2 in /usr/local/lib/python3.10/dist-packages (from requests<3,>=2->langchain==0.0.284->-r /content/drive/MyDrive/sqliteDB/requirements.txt (line 1)) (3.3.2)\n",
            "Requirement already satisfied: idna<4,>=2.5 in /usr/local/lib/python3.10/dist-packages (from requests<3,>=2->langchain==0.0.284->-r /content/drive/MyDrive/sqliteDB/requirements.txt (line 1)) (3.7)\n",
            "Requirement already satisfied: markdown-it-py>=2.2.0 in /usr/local/lib/python3.10/dist-packages (from rich>=10.11.0->streamlit==1.22.0->-r /content/drive/MyDrive/sqliteDB/requirements.txt (line 3)) (3.0.0)\n",
            "Requirement already satisfied: pygments<3.0.0,>=2.13.0 in /usr/local/lib/python3.10/dist-packages (from rich>=10.11.0->streamlit==1.22.0->-r /content/drive/MyDrive/sqliteDB/requirements.txt (line 3)) (2.16.1)\n",
            "Requirement already satisfied: greenlet!=0.4.17 in /usr/local/lib/python3.10/dist-packages (from SQLAlchemy<3,>=1.4->langchain==0.0.284->-r /content/drive/MyDrive/sqliteDB/requirements.txt (line 1)) (3.0.3)\n",
            "Requirement already satisfied: networkx in /usr/local/lib/python3.10/dist-packages (from torch>=1.11.0->sentence-transformers->-r /content/drive/MyDrive/sqliteDB/requirements.txt (line 10)) (3.3)\n",
            "Requirement already satisfied: nvidia-cuda-nvrtc-cu12==12.1.105 in /usr/local/lib/python3.10/dist-packages (from torch>=1.11.0->sentence-transformers->-r /content/drive/MyDrive/sqliteDB/requirements.txt (line 10)) (12.1.105)\n",
            "Requirement already satisfied: nvidia-cuda-runtime-cu12==12.1.105 in /usr/local/lib/python3.10/dist-packages (from torch>=1.11.0->sentence-transformers->-r /content/drive/MyDrive/sqliteDB/requirements.txt (line 10)) (12.1.105)\n",
            "Requirement already satisfied: nvidia-cuda-cupti-cu12==12.1.105 in /usr/local/lib/python3.10/dist-packages (from torch>=1.11.0->sentence-transformers->-r /content/drive/MyDrive/sqliteDB/requirements.txt (line 10)) (12.1.105)\n",
            "Requirement already satisfied: nvidia-cudnn-cu12==8.9.2.26 in /usr/local/lib/python3.10/dist-packages (from torch>=1.11.0->sentence-transformers->-r /content/drive/MyDrive/sqliteDB/requirements.txt (line 10)) (8.9.2.26)\n",
            "Requirement already satisfied: nvidia-cublas-cu12==12.1.3.1 in /usr/local/lib/python3.10/dist-packages (from torch>=1.11.0->sentence-transformers->-r /content/drive/MyDrive/sqliteDB/requirements.txt (line 10)) (12.1.3.1)\n",
            "Requirement already satisfied: nvidia-cufft-cu12==11.0.2.54 in /usr/local/lib/python3.10/dist-packages (from torch>=1.11.0->sentence-transformers->-r /content/drive/MyDrive/sqliteDB/requirements.txt (line 10)) (11.0.2.54)\n",
            "Requirement already satisfied: nvidia-curand-cu12==10.3.2.106 in /usr/local/lib/python3.10/dist-packages (from torch>=1.11.0->sentence-transformers->-r /content/drive/MyDrive/sqliteDB/requirements.txt (line 10)) (10.3.2.106)\n",
            "Requirement already satisfied: nvidia-cusolver-cu12==11.4.5.107 in /usr/local/lib/python3.10/dist-packages (from torch>=1.11.0->sentence-transformers->-r /content/drive/MyDrive/sqliteDB/requirements.txt (line 10)) (11.4.5.107)\n",
            "Requirement already satisfied: nvidia-cusparse-cu12==12.1.0.106 in /usr/local/lib/python3.10/dist-packages (from torch>=1.11.0->sentence-transformers->-r /content/drive/MyDrive/sqliteDB/requirements.txt (line 10)) (12.1.0.106)\n",
            "Requirement already satisfied: nvidia-nccl-cu12==2.20.5 in /usr/local/lib/python3.10/dist-packages (from torch>=1.11.0->sentence-transformers->-r /content/drive/MyDrive/sqliteDB/requirements.txt (line 10)) (2.20.5)\n",
            "Requirement already satisfied: nvidia-nvtx-cu12==12.1.105 in /usr/local/lib/python3.10/dist-packages (from torch>=1.11.0->sentence-transformers->-r /content/drive/MyDrive/sqliteDB/requirements.txt (line 10)) (12.1.105)\n",
            "Requirement already satisfied: triton==2.3.0 in /usr/local/lib/python3.10/dist-packages (from torch>=1.11.0->sentence-transformers->-r /content/drive/MyDrive/sqliteDB/requirements.txt (line 10)) (2.3.0)\n",
            "Requirement already satisfied: nvidia-nvjitlink-cu12 in /usr/local/lib/python3.10/dist-packages (from nvidia-cusolver-cu12==11.4.5.107->torch>=1.11.0->sentence-transformers->-r /content/drive/MyDrive/sqliteDB/requirements.txt (line 10)) (12.5.40)\n",
            "Requirement already satisfied: safetensors>=0.4.1 in /usr/local/lib/python3.10/dist-packages (from transformers<5.0.0,>=4.34.0->sentence-transformers->-r /content/drive/MyDrive/sqliteDB/requirements.txt (line 10)) (0.4.3)\n",
            "Requirement already satisfied: shellingham>=1.3.0 in /usr/local/lib/python3.10/dist-packages (from typer>=0.9.0->chromadb->-r /content/drive/MyDrive/sqliteDB/requirements.txt (line 11)) (1.5.4)\n",
            "Requirement already satisfied: h11>=0.8 in /usr/local/lib/python3.10/dist-packages (from uvicorn[standard]>=0.18.3->chromadb->-r /content/drive/MyDrive/sqliteDB/requirements.txt (line 11)) (0.14.0)\n",
            "Requirement already satisfied: httptools>=0.5.0 in /usr/local/lib/python3.10/dist-packages (from uvicorn[standard]>=0.18.3->chromadb->-r /content/drive/MyDrive/sqliteDB/requirements.txt (line 11)) (0.6.1)\n",
            "Requirement already satisfied: uvloop!=0.15.0,!=0.15.1,>=0.14.0 in /usr/local/lib/python3.10/dist-packages (from uvicorn[standard]>=0.18.3->chromadb->-r /content/drive/MyDrive/sqliteDB/requirements.txt (line 11)) (0.19.0)\n",
            "Requirement already satisfied: watchfiles>=0.13 in /usr/local/lib/python3.10/dist-packages (from uvicorn[standard]>=0.18.3->chromadb->-r /content/drive/MyDrive/sqliteDB/requirements.txt (line 11)) (0.22.0)\n",
            "Requirement already satisfied: websockets>=10.4 in /usr/local/lib/python3.10/dist-packages (from uvicorn[standard]>=0.18.3->chromadb->-r /content/drive/MyDrive/sqliteDB/requirements.txt (line 11)) (12.0)\n",
            "Requirement already satisfied: joblib>=1.1.1 in /usr/local/lib/python3.10/dist-packages (from scikit-learn->sentence-transformers->-r /content/drive/MyDrive/sqliteDB/requirements.txt (line 10)) (1.4.2)\n",
            "Requirement already satisfied: threadpoolctl>=2.0.0 in /usr/local/lib/python3.10/dist-packages (from scikit-learn->sentence-transformers->-r /content/drive/MyDrive/sqliteDB/requirements.txt (line 10)) (3.5.0)\n",
            "Requirement already satisfied: dnspython>=2.0.0 in /usr/local/lib/python3.10/dist-packages (from email_validator>=2.0.0->fastapi>=0.95.2->chromadb->-r /content/drive/MyDrive/sqliteDB/requirements.txt (line 11)) (2.6.1)\n",
            "Requirement already satisfied: smmap<6,>=3.0.1 in /usr/local/lib/python3.10/dist-packages (from gitdb<5,>=4.0.1->gitpython!=3.1.19->streamlit==1.22.0->-r /content/drive/MyDrive/sqliteDB/requirements.txt (line 3)) (5.0.1)\n",
            "Requirement already satisfied: pyasn1-modules>=0.2.1 in /usr/local/lib/python3.10/dist-packages (from google-auth>=1.0.1->kubernetes>=28.1.0->chromadb->-r /content/drive/MyDrive/sqliteDB/requirements.txt (line 11)) (0.4.0)\n",
            "Requirement already satisfied: rsa<5,>=3.1.4 in /usr/local/lib/python3.10/dist-packages (from google-auth>=1.0.1->kubernetes>=28.1.0->chromadb->-r /content/drive/MyDrive/sqliteDB/requirements.txt (line 11)) (4.9)\n",
            "Requirement already satisfied: anyio in /usr/local/lib/python3.10/dist-packages (from httpx>=0.23.0->fastapi>=0.95.2->chromadb->-r /content/drive/MyDrive/sqliteDB/requirements.txt (line 11)) (3.7.1)\n",
            "Requirement already satisfied: httpcore==1.* in /usr/local/lib/python3.10/dist-packages (from httpx>=0.23.0->fastapi>=0.95.2->chromadb->-r /content/drive/MyDrive/sqliteDB/requirements.txt (line 11)) (1.0.5)\n",
            "Requirement already satisfied: sniffio in /usr/local/lib/python3.10/dist-packages (from httpx>=0.23.0->fastapi>=0.95.2->chromadb->-r /content/drive/MyDrive/sqliteDB/requirements.txt (line 11)) (1.3.1)\n",
            "Requirement already satisfied: MarkupSafe>=2.0 in /usr/local/lib/python3.10/dist-packages (from jinja2->altair<5,>=3.2.0->streamlit==1.22.0->-r /content/drive/MyDrive/sqliteDB/requirements.txt (line 3)) (2.1.5)\n",
            "Requirement already satisfied: jsonschema-specifications>=2023.03.6 in /usr/local/lib/python3.10/dist-packages (from jsonschema>=3.0->altair<5,>=3.2.0->streamlit==1.22.0->-r /content/drive/MyDrive/sqliteDB/requirements.txt (line 3)) (2023.12.1)\n",
            "Requirement already satisfied: referencing>=0.28.4 in /usr/local/lib/python3.10/dist-packages (from jsonschema>=3.0->altair<5,>=3.2.0->streamlit==1.22.0->-r /content/drive/MyDrive/sqliteDB/requirements.txt (line 3)) (0.35.1)\n",
            "Requirement already satisfied: rpds-py>=0.7.1 in /usr/local/lib/python3.10/dist-packages (from jsonschema>=3.0->altair<5,>=3.2.0->streamlit==1.22.0->-r /content/drive/MyDrive/sqliteDB/requirements.txt (line 3)) (0.18.1)\n",
            "Requirement already satisfied: mdurl~=0.1 in /usr/local/lib/python3.10/dist-packages (from markdown-it-py>=2.2.0->rich>=10.11.0->streamlit==1.22.0->-r /content/drive/MyDrive/sqliteDB/requirements.txt (line 3)) (0.1.2)\n",
            "Requirement already satisfied: mypy-extensions>=0.3.0 in /usr/local/lib/python3.10/dist-packages (from typing-inspect<1,>=0.4.0->dataclasses-json<0.6.0,>=0.5.7->langchain==0.0.284->-r /content/drive/MyDrive/sqliteDB/requirements.txt (line 1)) (1.0.0)\n",
            "Requirement already satisfied: humanfriendly>=9.1 in /usr/local/lib/python3.10/dist-packages (from coloredlogs->onnxruntime>=1.14.1->chromadb->-r /content/drive/MyDrive/sqliteDB/requirements.txt (line 11)) (10.0)\n",
            "Requirement already satisfied: mpmath>=0.19 in /usr/local/lib/python3.10/dist-packages (from sympy->onnxruntime>=1.14.1->chromadb->-r /content/drive/MyDrive/sqliteDB/requirements.txt (line 11)) (1.3.0)\n",
            "Requirement already satisfied: exceptiongroup in /usr/local/lib/python3.10/dist-packages (from anyio->httpx>=0.23.0->fastapi>=0.95.2->chromadb->-r /content/drive/MyDrive/sqliteDB/requirements.txt (line 11)) (1.2.1)\n",
            "Requirement already satisfied: pyasn1<0.7.0,>=0.4.6 in /usr/local/lib/python3.10/dist-packages (from pyasn1-modules>=0.2.1->google-auth>=1.0.1->kubernetes>=28.1.0->chromadb->-r /content/drive/MyDrive/sqliteDB/requirements.txt (line 11)) (0.6.0)\n",
            "Installing collected packages: langsmith, langchain\n",
            "  Attempting uninstall: langsmith\n",
            "    Found existing installation: langsmith 0.1.67\n",
            "    Uninstalling langsmith-0.1.67:\n",
            "      Successfully uninstalled langsmith-0.1.67\n",
            "  Attempting uninstall: langchain\n",
            "    Found existing installation: langchain 0.2.1\n",
            "    Uninstalling langchain-0.2.1:\n",
            "      Successfully uninstalled langchain-0.2.1\n",
            "\u001b[31mERROR: pip's dependency resolver does not currently take into account all the packages that are installed. This behaviour is the source of the following dependency conflicts.\n",
            "langchain-community 0.2.1 requires langchain<0.3.0,>=0.2.0, but you have langchain 0.0.284 which is incompatible.\n",
            "langchain-community 0.2.1 requires langsmith<0.2.0,>=0.1.0, but you have langsmith 0.0.92 which is incompatible.\n",
            "langchain-core 0.2.3 requires langsmith<0.2.0,>=0.1.65, but you have langsmith 0.0.92 which is incompatible.\u001b[0m\u001b[31m\n",
            "\u001b[0mSuccessfully installed langchain-0.0.284 langsmith-0.0.92\n"
          ]
        }
      ],
      "source": [
        "!pip install -r '/content/drive/MyDrive/sqliteDB/requirements.txt'"
      ]
    },
    {
      "cell_type": "markdown",
      "id": "5ff82c00",
      "metadata": {
        "id": "5ff82c00"
      },
      "source": [
        "#### Google Palm LLM & API key setup"
      ]
    },
    {
      "cell_type": "code",
      "execution_count": null,
      "id": "h24NjEYWRGcI",
      "metadata": {
        "colab": {
          "base_uri": "https://localhost:8080/"
        },
        "collapsed": true,
        "id": "h24NjEYWRGcI",
        "outputId": "db3f7dee-504f-4d19-ddb0-dc095a94bf7d"
      },
      "outputs": [
        {
          "name": "stdout",
          "output_type": "stream",
          "text": [
            "Requirement already satisfied: langchain_community in /usr/local/lib/python3.10/dist-packages (0.2.1)\n",
            "Requirement already satisfied: PyYAML>=5.3 in /usr/local/lib/python3.10/dist-packages (from langchain_community) (6.0.1)\n",
            "Requirement already satisfied: SQLAlchemy<3,>=1.4 in /usr/local/lib/python3.10/dist-packages (from langchain_community) (2.0.30)\n",
            "Requirement already satisfied: aiohttp<4.0.0,>=3.8.3 in /usr/local/lib/python3.10/dist-packages (from langchain_community) (3.9.5)\n",
            "Requirement already satisfied: dataclasses-json<0.7,>=0.5.7 in /usr/local/lib/python3.10/dist-packages (from langchain_community) (0.5.14)\n",
            "Collecting langchain<0.3.0,>=0.2.0 (from langchain_community)\n",
            "  Using cached langchain-0.2.1-py3-none-any.whl (973 kB)\n",
            "Requirement already satisfied: langchain-core<0.3.0,>=0.2.0 in /usr/local/lib/python3.10/dist-packages (from langchain_community) (0.2.3)\n",
            "Collecting langsmith<0.2.0,>=0.1.0 (from langchain_community)\n",
            "  Using cached langsmith-0.1.67-py3-none-any.whl (124 kB)\n",
            "Requirement already satisfied: numpy<2,>=1 in /usr/local/lib/python3.10/dist-packages (from langchain_community) (1.25.2)\n",
            "Requirement already satisfied: requests<3,>=2 in /usr/local/lib/python3.10/dist-packages (from langchain_community) (2.31.0)\n",
            "Requirement already satisfied: tenacity<9.0.0,>=8.1.0 in /usr/local/lib/python3.10/dist-packages (from langchain_community) (8.3.0)\n",
            "Requirement already satisfied: aiosignal>=1.1.2 in /usr/local/lib/python3.10/dist-packages (from aiohttp<4.0.0,>=3.8.3->langchain_community) (1.3.1)\n",
            "Requirement already satisfied: attrs>=17.3.0 in /usr/local/lib/python3.10/dist-packages (from aiohttp<4.0.0,>=3.8.3->langchain_community) (23.2.0)\n",
            "Requirement already satisfied: frozenlist>=1.1.1 in /usr/local/lib/python3.10/dist-packages (from aiohttp<4.0.0,>=3.8.3->langchain_community) (1.4.1)\n",
            "Requirement already satisfied: multidict<7.0,>=4.5 in /usr/local/lib/python3.10/dist-packages (from aiohttp<4.0.0,>=3.8.3->langchain_community) (6.0.5)\n",
            "Requirement already satisfied: yarl<2.0,>=1.0 in /usr/local/lib/python3.10/dist-packages (from aiohttp<4.0.0,>=3.8.3->langchain_community) (1.9.4)\n",
            "Requirement already satisfied: async-timeout<5.0,>=4.0 in /usr/local/lib/python3.10/dist-packages (from aiohttp<4.0.0,>=3.8.3->langchain_community) (4.0.3)\n",
            "Requirement already satisfied: marshmallow<4.0.0,>=3.18.0 in /usr/local/lib/python3.10/dist-packages (from dataclasses-json<0.7,>=0.5.7->langchain_community) (3.21.2)\n",
            "Requirement already satisfied: typing-inspect<1,>=0.4.0 in /usr/local/lib/python3.10/dist-packages (from dataclasses-json<0.7,>=0.5.7->langchain_community) (0.9.0)\n",
            "Requirement already satisfied: langchain-text-splitters<0.3.0,>=0.2.0 in /usr/local/lib/python3.10/dist-packages (from langchain<0.3.0,>=0.2.0->langchain_community) (0.2.0)\n",
            "Requirement already satisfied: pydantic<3,>=1 in /usr/local/lib/python3.10/dist-packages (from langchain<0.3.0,>=0.2.0->langchain_community) (2.7.1)\n",
            "Requirement already satisfied: jsonpatch<2.0,>=1.33 in /usr/local/lib/python3.10/dist-packages (from langchain-core<0.3.0,>=0.2.0->langchain_community) (1.33)\n",
            "Requirement already satisfied: packaging<24.0,>=23.2 in /usr/local/lib/python3.10/dist-packages (from langchain-core<0.3.0,>=0.2.0->langchain_community) (23.2)\n",
            "Requirement already satisfied: orjson<4.0.0,>=3.9.14 in /usr/local/lib/python3.10/dist-packages (from langsmith<0.2.0,>=0.1.0->langchain_community) (3.10.3)\n",
            "Requirement already satisfied: charset-normalizer<4,>=2 in /usr/local/lib/python3.10/dist-packages (from requests<3,>=2->langchain_community) (3.3.2)\n",
            "Requirement already satisfied: idna<4,>=2.5 in /usr/local/lib/python3.10/dist-packages (from requests<3,>=2->langchain_community) (3.7)\n",
            "Requirement already satisfied: urllib3<3,>=1.21.1 in /usr/local/lib/python3.10/dist-packages (from requests<3,>=2->langchain_community) (2.0.7)\n",
            "Requirement already satisfied: certifi>=2017.4.17 in /usr/local/lib/python3.10/dist-packages (from requests<3,>=2->langchain_community) (2024.2.2)\n",
            "Requirement already satisfied: typing-extensions>=4.6.0 in /usr/local/lib/python3.10/dist-packages (from SQLAlchemy<3,>=1.4->langchain_community) (4.11.0)\n",
            "Requirement already satisfied: greenlet!=0.4.17 in /usr/local/lib/python3.10/dist-packages (from SQLAlchemy<3,>=1.4->langchain_community) (3.0.3)\n",
            "Requirement already satisfied: jsonpointer>=1.9 in /usr/local/lib/python3.10/dist-packages (from jsonpatch<2.0,>=1.33->langchain-core<0.3.0,>=0.2.0->langchain_community) (2.4)\n",
            "Requirement already satisfied: annotated-types>=0.4.0 in /usr/local/lib/python3.10/dist-packages (from pydantic<3,>=1->langchain<0.3.0,>=0.2.0->langchain_community) (0.7.0)\n",
            "Requirement already satisfied: pydantic-core==2.18.2 in /usr/local/lib/python3.10/dist-packages (from pydantic<3,>=1->langchain<0.3.0,>=0.2.0->langchain_community) (2.18.2)\n",
            "Requirement already satisfied: mypy-extensions>=0.3.0 in /usr/local/lib/python3.10/dist-packages (from typing-inspect<1,>=0.4.0->dataclasses-json<0.7,>=0.5.7->langchain_community) (1.0.0)\n",
            "Installing collected packages: langsmith, langchain\n",
            "  Attempting uninstall: langsmith\n",
            "    Found existing installation: langsmith 0.0.92\n",
            "    Uninstalling langsmith-0.0.92:\n",
            "      Successfully uninstalled langsmith-0.0.92\n",
            "  Attempting uninstall: langchain\n",
            "    Found existing installation: langchain 0.0.284\n",
            "    Uninstalling langchain-0.0.284:\n",
            "      Successfully uninstalled langchain-0.0.284\n",
            "Successfully installed langchain-0.2.1 langsmith-0.1.67\n"
          ]
        }
      ],
      "source": [
        "# !pip install chromadb==0.4.15\n",
        "!pip install langchain_community"
      ]
    },
    {
      "cell_type": "code",
      "execution_count": null,
      "id": "6de1952b",
      "metadata": {
        "id": "6de1952b"
      },
      "outputs": [],
      "source": [
        "from langchain.llms import GooglePalm\n",
        "\n",
        "api_key = ''\n",
        "\n",
        "llm = GooglePalm(google_api_key=api_key, temperature=0.2)"
      ]
    },
    {
      "cell_type": "markdown",
      "id": "e0c0d700",
      "metadata": {
        "id": "e0c0d700"
      },
      "source": [
        "#### Connect with database and ask some basic questions"
      ]
    },
    {
      "cell_type": "code",
      "execution_count": null,
      "id": "f48fbb53",
      "metadata": {
        "id": "f48fbb53"
      },
      "outputs": [],
      "source": [
        "from langchain.utilities import SQLDatabase\n",
        "from langchain_experimental.sql import SQLDatabaseChain"
      ]
    },
    {
      "cell_type": "code",
      "execution_count": null,
      "id": "993r2Ori6c3E",
      "metadata": {
        "collapsed": true,
        "id": "993r2Ori6c3E"
      },
      "outputs": [],
      "source": [
        "#!pip install langchain sqlalchemy"
      ]
    },
    {
      "cell_type": "code",
      "execution_count": null,
      "id": "23f9ae16",
      "metadata": {
        "colab": {
          "base_uri": "https://localhost:8080/"
        },
        "collapsed": true,
        "id": "23f9ae16",
        "outputId": "3d4e889f-8d6d-4819-cc28-486f8bfc56d6"
      },
      "outputs": [
        {
          "name": "stdout",
          "output_type": "stream",
          "text": [
            "\n",
            "CREATE TABLE discounts (\n",
            "\tdiscount_id INTEGER, \n",
            "\tt_shirt_id INTEGER NOT NULL, \n",
            "\tpct_discount DECIMAL(5, 2), \n",
            "\tPRIMARY KEY (discount_id), \n",
            "\tFOREIGN KEY(t_shirt_id) REFERENCES t_shirts (t_shirt_id), \n",
            "\tCHECK (pct_discount BETWEEN 0 AND 100)\n",
            ")\n",
            "\n",
            "/*\n",
            "3 rows from discounts table:\n",
            "discount_id\tt_shirt_id\tpct_discount\n",
            "None\t1\t10.00\n",
            "None\t2\t15.00\n",
            "None\t3\t20.00\n",
            "*/\n",
            "\n",
            "\n",
            "CREATE TABLE t_shirts (\n",
            "\tt_shirt_id INTEGER, \n",
            "\tbrand VARCHAR(20) NOT NULL, \n",
            "\tcolor VARCHAR(20) NOT NULL, \n",
            "\tsize VARCHAR(20) NOT NULL, \n",
            "\tprice INTEGER, \n",
            "\tstock_quantity INTEGER NOT NULL, \n",
            "\tPRIMARY KEY (t_shirt_id), \n",
            "\tCHECK (price BETWEEN 10 AND 50)\n",
            ")\n",
            "\n",
            "/*\n",
            "3 rows from t_shirts table:\n",
            "t_shirt_id\tbrand\tcolor\tsize\tprice\tstock_quantity\n",
            "1\tVan Huesen\tBlue\tXS\t17\t81\n",
            "2\tLevi\tBlack\tL\t29\t50\n",
            "3\tAdidas\tWhite\tM\t14\t14\n",
            "*/\n"
          ]
        }
      ],
      "source": [
        "db = SQLDatabase.from_uri(\"sqlite:////content/atliq_tshirts.db\",sample_rows_in_table_info=3)\n",
        "\n",
        "print(db.table_info)"
      ]
    },
    {
      "cell_type": "code",
      "execution_count": null,
      "id": "b0c86dce",
      "metadata": {
        "collapsed": true,
        "id": "b0c86dce"
      },
      "outputs": [],
      "source": [
        "db_chain = SQLDatabaseChain.from_llm(llm, db, verbose=True)\n"
      ]
    },
    {
      "cell_type": "code",
      "execution_count": null,
      "id": "7by9iPrwjQnw",
      "metadata": {
        "colab": {
          "base_uri": "https://localhost:8080/",
          "height": 191
        },
        "id": "7by9iPrwjQnw",
        "outputId": "41d05953-1926-440c-f2e0-5437435ccc53"
      },
      "outputs": [
        {
          "name": "stdout",
          "output_type": "stream",
          "text": [
            "\n",
            "\n",
            "\u001b[1m> Entering new SQLDatabaseChain chain...\u001b[0m\n",
            "How many t-shirts do we have left for nike in extra small size and white color?\n",
            "SQLQuery:"
          ]
        },
        {
          "name": "stderr",
          "output_type": "stream",
          "text": [
            "2024-06-01 19:12:30.580 200 POST /v1beta/models/text-bison-001:generateText?%24alt=json%3Benum-encoding%3Dint (127.0.0.1) 2356.73ms\n"
          ]
        },
        {
          "name": "stdout",
          "output_type": "stream",
          "text": [
            "\u001b[32;1m\u001b[1;3mSELECT stock_quantity FROM t_shirts WHERE brand = \"Nike\" AND color = \"White\" AND size = \"XS\"\u001b[0m\n",
            "SQLResult: \u001b[33;1m\u001b[1;3m[(99,)]\u001b[0m\n",
            "Answer:"
          ]
        },
        {
          "name": "stderr",
          "output_type": "stream",
          "text": [
            "2024-06-01 19:12:32.593 200 POST /v1beta/models/text-bison-001:generateText?%24alt=json%3Benum-encoding%3Dint (127.0.0.1) 1998.82ms\n"
          ]
        },
        {
          "name": "stdout",
          "output_type": "stream",
          "text": [
            "\u001b[32;1m\u001b[1;3m99\u001b[0m\n",
            "\u001b[1m> Finished chain.\u001b[0m\n"
          ]
        }
      ],
      "source": [
        "qns1 = db_chain.run(\"How many t-shirts do we have left for nike in extra small size and white color?\")"
      ]
    },
    {
      "cell_type": "markdown",
      "id": "2d100193",
      "metadata": {
        "id": "2d100193"
      },
      "source": [
        "Above is the correct answer 👍🏼"
      ]
    },
    {
      "cell_type": "code",
      "execution_count": null,
      "id": "7QHAHIX6MT3E",
      "metadata": {
        "id": "7QHAHIX6MT3E"
      },
      "outputs": [],
      "source": []
    },
    {
      "cell_type": "code",
      "execution_count": null,
      "id": "2b436818",
      "metadata": {
        "colab": {
          "base_uri": "https://localhost:8080/",
          "height": 191
        },
        "id": "2b436818",
        "outputId": "8cdd7ab1-4396-45b3-8a56-1520ac292370",
        "scrolled": true
      },
      "outputs": [
        {
          "name": "stdout",
          "output_type": "stream",
          "text": [
            "\n",
            "\n",
            "\u001b[1m> Entering new SQLDatabaseChain chain...\u001b[0m\n",
            "How much is the price of the inventory for all small size t-shirts?\n",
            "SQLQuery:"
          ]
        },
        {
          "name": "stderr",
          "output_type": "stream",
          "text": [
            "2024-06-01 19:12:34.714 200 POST /v1beta/models/text-bison-001:generateText?%24alt=json%3Benum-encoding%3Dint (127.0.0.1) 2095.64ms\n"
          ]
        },
        {
          "name": "stdout",
          "output_type": "stream",
          "text": [
            "\u001b[32;1m\u001b[1;3mSELECT SUM(price) FROM t_shirts WHERE size = \"XS\"\u001b[0m\n",
            "SQLResult: \u001b[33;1m\u001b[1;3m[(427,)]\u001b[0m\n",
            "Answer:\u001b[32;1m\u001b[1;3m427\u001b[0m\n",
            "\u001b[1m> Finished chain.\u001b[0m\n"
          ]
        },
        {
          "name": "stderr",
          "output_type": "stream",
          "text": [
            "2024-06-01 19:12:36.653 200 POST /v1beta/models/text-bison-001:generateText?%24alt=json%3Benum-encoding%3Dint (127.0.0.1) 1925.59ms\n"
          ]
        }
      ],
      "source": [
        "qns2 = db_chain.run(\"How much is the price of the inventory for all small size t-shirts?\")"
      ]
    },
    {
      "cell_type": "markdown",
      "id": "7632f6dc",
      "metadata": {
        "id": "7632f6dc"
      },
      "source": [
        "It made a mistake here. The price is actually the price per unit but in real life database columns will not have perfect names. We need to tell it somehow that price is price per unit and the actual query should be,\n",
        "\n",
        "SELECT SUM(price*stock_quantity) FROM t_shirts WHERE size = 'S'"
      ]
    },
    {
      "cell_type": "code",
      "execution_count": null,
      "id": "52d613ed",
      "metadata": {
        "colab": {
          "base_uri": "https://localhost:8080/",
          "height": 191
        },
        "id": "52d613ed",
        "outputId": "0c1c59c9-50ea-444a-e531-6661fa5ef9d4"
      },
      "outputs": [
        {
          "name": "stdout",
          "output_type": "stream",
          "text": [
            "\n",
            "\n",
            "\u001b[1m> Entering new SQLDatabaseChain chain...\u001b[0m\n",
            "SELECT SUM(price*stock_quantity) FROM t_shirts WHERE size = 'S'\n",
            "SQLQuery:"
          ]
        },
        {
          "name": "stderr",
          "output_type": "stream",
          "text": [
            "2024-06-01 19:12:39.424 200 POST /v1beta/models/text-bison-001:generateText?%24alt=json%3Benum-encoding%3Dint (127.0.0.1) 2739.32ms\n"
          ]
        },
        {
          "name": "stdout",
          "output_type": "stream",
          "text": [
            "\u001b[32;1m\u001b[1;3mSELECT SUM(price*stock_quantity) FROM t_shirts WHERE size = 'S'\u001b[0m\n",
            "SQLResult: \u001b[33;1m\u001b[1;3m[(23537,)]\u001b[0m\n",
            "Answer:"
          ]
        },
        {
          "name": "stderr",
          "output_type": "stream",
          "text": [
            "2024-06-01 19:12:41.453 200 POST /v1beta/models/text-bison-001:generateText?%24alt=json%3Benum-encoding%3Dint (127.0.0.1) 2024.44ms\n"
          ]
        },
        {
          "name": "stdout",
          "output_type": "stream",
          "text": [
            "\u001b[32;1m\u001b[1;3m23537\u001b[0m\n",
            "\u001b[1m> Finished chain.\u001b[0m\n"
          ]
        }
      ],
      "source": [
        "qns2 = db_chain.run(\"SELECT SUM(price*stock_quantity) FROM t_shirts WHERE size = 'S'\")"
      ]
    },
    {
      "cell_type": "markdown",
      "id": "5b9a4e2c",
      "metadata": {
        "id": "5b9a4e2c"
      },
      "source": [
        "we will use qns2 value later on in this notebook. So hold on for now and let's check another query"
      ]
    },
    {
      "cell_type": "code",
      "execution_count": null,
      "id": "7da6c762",
      "metadata": {
        "id": "7da6c762"
      },
      "outputs": [],
      "source": [
        "# qns3 = db_chain.run(\"If we have to sell all the Levi’s T-shirts today with discounts applied. How much revenue our store will generate (post discounts)?\")"
      ]
    },
    {
      "cell_type": "markdown",
      "id": "180f02fd",
      "metadata": {
        "id": "180f02fd"
      },
      "source": [
        "Above, it returned a wrong query which generated an error during query execution. It thinks discount\n",
        "table would have start and end date which is normally true but in our table there is no start or end date column.\n",
        "One thing we can do here is run the query directly."
      ]
    },
    {
      "cell_type": "code",
      "execution_count": null,
      "id": "28a4b3c3",
      "metadata": {
        "colab": {
          "base_uri": "https://localhost:8080/",
          "height": 295
        },
        "id": "28a4b3c3",
        "outputId": "b701a708-25aa-459c-b56e-9026eff5395e",
        "scrolled": false
      },
      "outputs": [
        {
          "name": "stdout",
          "output_type": "stream",
          "text": [
            "\n",
            "\n",
            "\u001b[1m> Entering new SQLDatabaseChain chain...\u001b[0m\n",
            "\n",
            "select sum(a.total_amount * ((100-COALESCE(discounts.pct_discount,0))/100)) as total_revenue from\n",
            "(select sum(price*stock_quantity) as total_amount, t_shirt_id from t_shirts where brand = 'Levi'\n",
            "group by t_shirt_id) a left join discounts on a.t_shirt_id = discounts.t_shirt_id\n",
            " \n",
            "SQLQuery:"
          ]
        },
        {
          "name": "stderr",
          "output_type": "stream",
          "text": [
            "2024-06-01 19:12:44.148 200 POST /v1beta/models/text-bison-001:generateText?%24alt=json%3Benum-encoding%3Dint (127.0.0.1) 2643.84ms\n"
          ]
        },
        {
          "name": "stdout",
          "output_type": "stream",
          "text": [
            "\u001b[32;1m\u001b[1;3mselect sum(a.total_amount * ((100-COALESCE(discounts.pct_discount,0))/100)) as total_revenue from\n",
            "(select sum(price*stock_quantity) as total_amount, t_shirt_id from t_shirts where brand = 'Levi'\n",
            "group by t_shirt_id) a left join discounts on a.t_shirt_id = discounts.t_shirt_id\u001b[0m\n",
            "SQLResult: \u001b[33;1m\u001b[1;3m[(18910,)]\u001b[0m\n",
            "Answer:\u001b[32;1m\u001b[1;3m18910\u001b[0m\n",
            "\u001b[1m> Finished chain.\u001b[0m\n"
          ]
        },
        {
          "name": "stderr",
          "output_type": "stream",
          "text": [
            "2024-06-01 19:12:46.696 200 POST /v1beta/models/text-bison-001:generateText?%24alt=json%3Benum-encoding%3Dint (127.0.0.1) 2523.36ms\n"
          ]
        }
      ],
      "source": [
        "sql_code = \"\"\"\n",
        "select sum(a.total_amount * ((100-COALESCE(discounts.pct_discount,0))/100)) as total_revenue from\n",
        "(select sum(price*stock_quantity) as total_amount, t_shirt_id from t_shirts where brand = 'Levi'\n",
        "group by t_shirt_id) a left join discounts on a.t_shirt_id = discounts.t_shirt_id\n",
        " \"\"\"\n",
        "\n",
        "qns3 = db_chain.run(sql_code)"
      ]
    },
    {
      "cell_type": "markdown",
      "id": "18dbf6ca",
      "metadata": {
        "id": "18dbf6ca"
      },
      "source": [
        "It produced a correct answer when explicit query was given. 17462 is the total revenue without discounts. The total discount is 736.6. Hence revenue post discount is 17462-736.6=16725.4\n",
        "\n",
        "Now this is not much interesting because what is the point of giving it the ready made query? Well, we will use this same query later on for few shot learning"
      ]
    },
    {
      "cell_type": "code",
      "execution_count": null,
      "id": "b04ab6a4",
      "metadata": {
        "colab": {
          "base_uri": "https://localhost:8080/",
          "height": 191
        },
        "id": "b04ab6a4",
        "outputId": "f27569a4-d9c4-48e3-bbb8-e02e78361c20"
      },
      "outputs": [
        {
          "name": "stdout",
          "output_type": "stream",
          "text": [
            "\n",
            "\n",
            "\u001b[1m> Entering new SQLDatabaseChain chain...\u001b[0m\n",
            "SELECT SUM(price * stock_quantity) FROM t_shirts WHERE brand = 'Levi'\n",
            "SQLQuery:"
          ]
        },
        {
          "name": "stderr",
          "output_type": "stream",
          "text": [
            "2024-06-01 19:12:48.290 200 POST /v1beta/models/text-bison-001:generateText?%24alt=json%3Benum-encoding%3Dint (127.0.0.1) 1528.65ms\n"
          ]
        },
        {
          "name": "stdout",
          "output_type": "stream",
          "text": [
            "\u001b[32;1m\u001b[1;3mSELECT SUM(price * stock_quantity) FROM t_shirts WHERE brand = 'Levi'\u001b[0m\n",
            "SQLResult: \u001b[33;1m\u001b[1;3m[(22250,)]\u001b[0m\n",
            "Answer:"
          ]
        },
        {
          "name": "stderr",
          "output_type": "stream",
          "text": [
            "2024-06-01 19:12:49.808 200 POST /v1beta/models/text-bison-001:generateText?%24alt=json%3Benum-encoding%3Dint (127.0.0.1) 1500.44ms\n"
          ]
        },
        {
          "name": "stdout",
          "output_type": "stream",
          "text": [
            "\u001b[32;1m\u001b[1;3m22250\u001b[0m\n",
            "\u001b[1m> Finished chain.\u001b[0m\n"
          ]
        }
      ],
      "source": [
        "qns4 = db_chain.run(\"SELECT SUM(price * stock_quantity) FROM t_shirts WHERE brand = 'Levi'\")"
      ]
    },
    {
      "cell_type": "code",
      "execution_count": null,
      "id": "5e822ee3",
      "metadata": {
        "colab": {
          "base_uri": "https://localhost:8080/",
          "height": 191
        },
        "id": "5e822ee3",
        "outputId": "047278b7-c2ba-4f54-f0cc-00ed15756db4",
        "scrolled": true
      },
      "outputs": [
        {
          "name": "stdout",
          "output_type": "stream",
          "text": [
            "\n",
            "\n",
            "\u001b[1m> Entering new SQLDatabaseChain chain...\u001b[0m\n",
            "How many white color Levi's t shirts we have available?\n",
            "SQLQuery:"
          ]
        },
        {
          "name": "stderr",
          "output_type": "stream",
          "text": [
            "2024-06-01 19:12:51.399 200 POST /v1beta/models/text-bison-001:generateText?%24alt=json%3Benum-encoding%3Dint (127.0.0.1) 1557.89ms\n"
          ]
        },
        {
          "name": "stdout",
          "output_type": "stream",
          "text": [
            "\u001b[32;1m\u001b[1;3mSELECT stock_quantity FROM t_shirts WHERE color = \"White\" AND brand = \"Levi\"\u001b[0m\n",
            "SQLResult: \u001b[33;1m\u001b[1;3m[(45,), (83,), (44,), (51,)]\u001b[0m\n",
            "Answer:"
          ]
        },
        {
          "name": "stderr",
          "output_type": "stream",
          "text": [
            "2024-06-01 19:12:53.004 200 POST /v1beta/models/text-bison-001:generateText?%24alt=json%3Benum-encoding%3Dint (127.0.0.1) 1575.43ms\n"
          ]
        },
        {
          "name": "stdout",
          "output_type": "stream",
          "text": [
            "\u001b[32;1m\u001b[1;3m45\u001b[0m\n",
            "\u001b[1m> Finished chain.\u001b[0m\n"
          ]
        }
      ],
      "source": [
        "qns5 = db_chain.run(\"How many white color Levi's t shirts we have available?\")"
      ]
    },
    {
      "cell_type": "markdown",
      "id": "62ee0e11",
      "metadata": {
        "id": "62ee0e11"
      },
      "source": [
        "Once again above is the wrong answer. We need to use SUM(stock_quantity). Let's run the query explicitly. We will use the result of this query later on in the notebook"
      ]
    },
    {
      "cell_type": "code",
      "execution_count": null,
      "id": "30d15ec1",
      "metadata": {
        "colab": {
          "base_uri": "https://localhost:8080/",
          "height": 191
        },
        "id": "30d15ec1",
        "outputId": "5bed99e6-d85d-4f48-a5fd-c3665f992efb"
      },
      "outputs": [
        {
          "name": "stdout",
          "output_type": "stream",
          "text": [
            "\n",
            "\n",
            "\u001b[1m> Entering new SQLDatabaseChain chain...\u001b[0m\n",
            "SELECT sum(stock_quantity) FROM t_shirts WHERE brand = 'Levi' AND color = 'White'\n",
            "SQLQuery:"
          ]
        },
        {
          "name": "stderr",
          "output_type": "stream",
          "text": [
            "2024-06-01 19:12:54.796 200 POST /v1beta/models/text-bison-001:generateText?%24alt=json%3Benum-encoding%3Dint (127.0.0.1) 1765.06ms\n"
          ]
        },
        {
          "name": "stdout",
          "output_type": "stream",
          "text": [
            "\u001b[32;1m\u001b[1;3mSELECT sum(stock_quantity) FROM t_shirts WHERE brand = 'Levi' AND color = 'White'\u001b[0m\n",
            "SQLResult: \u001b[33;1m\u001b[1;3m[(223,)]\u001b[0m\n",
            "Answer:"
          ]
        },
        {
          "name": "stderr",
          "output_type": "stream",
          "text": [
            "2024-06-01 19:12:56.070 200 POST /v1beta/models/text-bison-001:generateText?%24alt=json%3Benum-encoding%3Dint (127.0.0.1) 1262.04ms\n"
          ]
        },
        {
          "name": "stdout",
          "output_type": "stream",
          "text": [
            "\u001b[32;1m\u001b[1;3m223\u001b[0m\n",
            "\u001b[1m> Finished chain.\u001b[0m\n"
          ]
        }
      ],
      "source": [
        "qns5 = db_chain.run(\"SELECT sum(stock_quantity) FROM t_shirts WHERE brand = 'Levi' AND color = 'White'\")"
      ]
    },
    {
      "cell_type": "markdown",
      "id": "afe780d9",
      "metadata": {
        "id": "afe780d9"
      },
      "source": [
        "#### Few shot learning\n",
        "\n",
        "We will use few shot learning to fix issues we have seen so far"
      ]
    },
    {
      "cell_type": "code",
      "execution_count": null,
      "id": "a75ae546",
      "metadata": {
        "id": "a75ae546"
      },
      "outputs": [],
      "source": [
        "few_shots =     [{'Question' : 'How many t-shirts do we have left for Nike in XS size and white color?',\n",
        "     'SQLQuery' : 'SELECT sum(stock_quantity) FROM t_shirts WHERE brand = \"Nike\" AND color = \"White\" AND size = \"XS\"',\n",
        "     'SQLResult': \"Result of the SQL query\",\n",
        "     'Answer' : qns1}    ,\n",
        "    {'Question': \"How much is the total price of the inventory for all S-size t-shirts?\",\n",
        "     'SQLQuery':\"SELECT SUM(price*stock_quantity) FROM t_shirts WHERE size = 'S'\",\n",
        "     'SQLResult': \"Result of the SQL query\",\n",
        "     'Answer': qns2},\n",
        "    {'Question': \"If we have to sell all the Levi’s T-shirts today with discounts applied. How much revenue  our store will generate (post discounts)?\" ,\n",
        "     'SQLQuery' : \"\"\"SELECT sum(a.total_amount * ((100-COALESCE(discounts.pct_discount,0))/100)) as total_revenue from\n",
        "(select sum(price*stock_quantity) as total_amount, t_shirt_id from t_shirts where brand = 'Levi'\n",
        "group by t_shirt_id) a left join discounts on a.t_shirt_id = discounts.t_shirt_id\n",
        " \"\"\",\n",
        "     'SQLResult': \"Result of the SQL query\",\n",
        "     'Answer': qns3} ,\n",
        "     {'Question' : \"If we have to sell all the Levi’s T-shirts today. How much revenue our store will generate without discount?\" ,\n",
        "      'SQLQuery': \"SELECT SUM(price * stock_quantity) FROM t_shirts WHERE brand = 'Levi'\",\n",
        "      'SQLResult': \"Result of the SQL query\",\n",
        "      'Answer' : qns4},\n",
        "    {'Question': \"How many white color Levi's shirt I have?\",\n",
        "     'SQLQuery' : \"SELECT sum(stock_quantity) FROM t_shirts WHERE brand = 'Levi' AND color = 'White'\",\n",
        "     'SQLResult': \"Result of the SQL query\",\n",
        "     'Answer' : qns5\n",
        "     }\n",
        "]"
      ]
    },
    {
      "cell_type": "code",
      "execution_count": null,
      "id": "1oL7HPFQ6ezN",
      "metadata": {
        "colab": {
          "base_uri": "https://localhost:8080/",
          "height": 35
        },
        "id": "1oL7HPFQ6ezN",
        "outputId": "2e4cfc76-039f-4a81-dfff-eb9d6e36da74"
      },
      "outputs": [
        {
          "data": {
            "application/vnd.google.colaboratory.intrinsic+json": {
              "type": "string"
            },
            "text/plain": [
              "'99'"
            ]
          },
          "execution_count": 91,
          "metadata": {},
          "output_type": "execute_result"
        }
      ],
      "source": [
        "qns1"
      ]
    },
    {
      "cell_type": "markdown",
      "id": "30f7b3c9",
      "metadata": {
        "id": "30f7b3c9"
      },
      "source": [
        "### Creating Semantic Similarity Based example selector\n",
        "\n",
        "- create embedding on the few_shots\n",
        "- Store the embeddings in Chroma DB\n",
        "- Retrieve the the top most Semantically close example from the vector store"
      ]
    },
    {
      "cell_type": "code",
      "execution_count": null,
      "id": "ZfEcO5ToxHkM",
      "metadata": {
        "collapsed": true,
        "id": "ZfEcO5ToxHkM"
      },
      "outputs": [],
      "source": [
        "# pip install chromadb==0.4.15"
      ]
    },
    {
      "cell_type": "code",
      "execution_count": null,
      "id": "qHEny0XLxL-8",
      "metadata": {
        "collapsed": true,
        "id": "qHEny0XLxL-8"
      },
      "outputs": [],
      "source": [
        "# !pip install -U langchain chromadb\n",
        "# !pip install OpenAI"
      ]
    },
    {
      "cell_type": "code",
      "execution_count": null,
      "id": "54306b8d",
      "metadata": {
        "colab": {
          "base_uri": "https://localhost:8080/"
        },
        "id": "54306b8d",
        "outputId": "2e18f91e-4cf2-49bc-bd10-62e5e64a82e9"
      },
      "outputs": [
        {
          "name": "stderr",
          "output_type": "stream",
          "text": [
            "/usr/local/lib/python3.10/dist-packages/huggingface_hub/file_download.py:1132: FutureWarning: `resume_download` is deprecated and will be removed in version 1.0.0. Downloads always resume when possible. If you want to force a new download, use `force_download=True`.\n",
            "  warnings.warn(\n"
          ]
        },
        {
          "name": "stdout",
          "output_type": "stream",
          "text": [
            "['How many t-shirts do we have left for Nike in XS size and white color? SELECT sum(stock_quantity) FROM t_shirts WHERE brand = \"Nike\" AND color = \"White\" AND size = \"XS\" Result of the SQL query 99', \"How much is the total price of the inventory for all S-size t-shirts? SELECT SUM(price*stock_quantity) FROM t_shirts WHERE size = 'S' Result of the SQL query 23537\", \"If we have to sell all the Levi’s T-shirts today with discounts applied. How much revenue  our store will generate (post discounts)? SELECT sum(a.total_amount * ((100-COALESCE(discounts.pct_discount,0))/100)) as total_revenue from\\n(select sum(price*stock_quantity) as total_amount, t_shirt_id from t_shirts where brand = 'Levi'\\ngroup by t_shirt_id) a left join discounts on a.t_shirt_id = discounts.t_shirt_id\\n  Result of the SQL query 18910\", \"If we have to sell all the Levi’s T-shirts today. How much revenue our store will generate without discount? SELECT SUM(price * stock_quantity) FROM t_shirts WHERE brand = 'Levi' Result of the SQL query 22250\", \"How many white color Levi's shirt I have? SELECT sum(stock_quantity) FROM t_shirts WHERE brand = 'Levi' AND color = 'White' Result of the SQL query 223\"]\n",
            "How many t-shirts do we have left for Nike in XS size and white color? SELECT sum(stock_quantity) FROM t_shirts WHERE brand = \"Nike\" AND color = \"White\" AND size = \"XS\" Result of the SQL query 99\n",
            "client=SentenceTransformer(\n",
            "  (0): Transformer({'max_seq_length': 256, 'do_lower_case': False}) with Transformer model: BertModel \n",
            "  (1): Pooling({'word_embedding_dimension': 384, 'pooling_mode_cls_token': False, 'pooling_mode_mean_tokens': True, 'pooling_mode_max_tokens': False, 'pooling_mode_mean_sqrt_len_tokens': False, 'pooling_mode_weightedmean_tokens': False, 'pooling_mode_lasttoken': False, 'include_prompt': True})\n",
            "  (2): Normalize()\n",
            ") model_name='sentence-transformers/all-MiniLM-L6-v2' cache_folder=None model_kwargs={} encode_kwargs={} multi_process=False show_progress=False\n",
            "<class 'list'>\n",
            "<class 'list'>\n"
          ]
        }
      ],
      "source": [
        "from langchain.prompts import SemanticSimilarityExampleSelector\n",
        "from langchain.embeddings import HuggingFaceEmbeddings\n",
        "from langchain.embeddings import OpenAIEmbeddings\n",
        "from langchain.vectorstores import Chroma\n",
        "\n",
        "\n",
        "embeddings = HuggingFaceEmbeddings(model_name='sentence-transformers/all-MiniLM-L6-v2')\n",
        "# embeddings=OpenAIEmbeddings(openai_api_key=\"sk-proj-jsYbGTkC8nxpeH9mYey2T3BlbkFJAjWOzpx9EC606UYxvUMB\")\n",
        "\n",
        "# Function to convert all values in a dictionary to strings\n",
        "def convert_to_string(value):\n",
        "    if isinstance(value, dict):\n",
        "        return \" \".join([convert_to_string(v) for v in value.values()])\n",
        "    return str(value)\n",
        "\n",
        "# Concatenate the values of each dictionary to form a single string per example\n",
        "to_vectorize = [\" \".join([convert_to_string(v) for v in example.values()]) for example in few_shots]\n",
        "\n",
        "# Print the vectorized examples for verification\n",
        "print(to_vectorize)\n",
        "print(to_vectorize[0])\n",
        "print(embeddings)\n",
        "print(type(to_vectorize))\n",
        "print(type(few_shots))\n",
        "\n"
      ]
    },
    {
      "cell_type": "code",
      "execution_count": null,
      "id": "d806f39b",
      "metadata": {
        "colab": {
          "base_uri": "https://localhost:8080/",
          "height": 257
        },
        "id": "d806f39b",
        "outputId": "a35ade8e-e6fb-45f5-9f4e-f470072dbedf"
      },
      "outputs": [
        {
          "name": "stdout",
          "output_type": "stream",
          "text": [
            "<langchain_community.vectorstores.chroma.Chroma object at 0x7ff1e5dac220>\n"
          ]
        },
        {
          "data": {
            "text/html": [
              "<div style=\"max-width:800px; border: 1px solid var(--colab-border-color);\"><style>\n",
              "      pre.function-repr-contents {\n",
              "        overflow-x: auto;\n",
              "        padding: 8px 12px;\n",
              "        max-height: 500px;\n",
              "      }\n",
              "\n",
              "      pre.function-repr-contents.function-repr-contents-collapsed {\n",
              "        cursor: pointer;\n",
              "        max-height: 100px;\n",
              "      }\n",
              "    </style>\n",
              "    <pre style=\"white-space: initial; background:\n",
              "         var(--colab-secondary-surface-color); padding: 8px 12px;\n",
              "         border-bottom: 1px solid var(--colab-border-color);\"><b>langchain_community.vectorstores.chroma.Chroma</b><br/>def __init__(collection_name: str=_LANGCHAIN_DEFAULT_COLLECTION_NAME, embedding_function: Optional[Embeddings]=None, persist_directory: Optional[str]=None, client_settings: Optional[chromadb.config.Settings]=None, collection_metadata: Optional[Dict]=None, client: Optional[chromadb.Client]=None, relevance_score_fn: Optional[Callable[[float], float]]=None) -&gt; None</pre><pre class=\"function-repr-contents function-repr-contents-collapsed\" style=\"\"><a class=\"filepath\" style=\"display:none\" href=\"#\">/usr/local/lib/python3.10/dist-packages/langchain_community/vectorstores/chroma.py</a>`ChromaDB` vector store.\n",
              "\n",
              "To use, you should have the ``chromadb`` python package installed.\n",
              "\n",
              "Example:\n",
              "    .. code-block:: python\n",
              "\n",
              "            from langchain_community.vectorstores import Chroma\n",
              "            from langchain_community.embeddings.openai import OpenAIEmbeddings\n",
              "\n",
              "            embeddings = OpenAIEmbeddings()\n",
              "            vectorstore = Chroma(&quot;langchain_store&quot;, embeddings)</pre>\n",
              "      <script>\n",
              "      if (google.colab.kernel.accessAllowed && google.colab.files && google.colab.files.view) {\n",
              "        for (const element of document.querySelectorAll('.filepath')) {\n",
              "          element.style.display = 'block'\n",
              "          element.onclick = (event) => {\n",
              "            event.preventDefault();\n",
              "            event.stopPropagation();\n",
              "            google.colab.files.view(element.textContent, 53);\n",
              "          };\n",
              "        }\n",
              "      }\n",
              "      for (const element of document.querySelectorAll('.function-repr-contents')) {\n",
              "        element.onclick = (event) => {\n",
              "          event.preventDefault();\n",
              "          event.stopPropagation();\n",
              "          element.classList.toggle('function-repr-contents-collapsed');\n",
              "        };\n",
              "      }\n",
              "      </script>\n",
              "      </div>"
            ],
            "text/plain": [
              "langchain_community.vectorstores.chroma.Chroma"
            ]
          },
          "execution_count": 95,
          "metadata": {},
          "output_type": "execute_result"
        }
      ],
      "source": [
        "# vectorstore = Chroma.from_texts(to_vectorize, embeddings, metadatas=few_shots) is not working\n",
        "from chromadb.errors import InvalidDimensionException\n",
        "from langchain_community.vectorstores.utils import filter_complex_metadata\n",
        "# load it into Chroma\n",
        "# db = Chroma.from_documents(docs, embedding_function)\n",
        "try:\n",
        "    vectorstore = Chroma.from_texts(to_vectorize, embeddings,metadatas=few_shots)\n",
        "except InvalidDimensionException:\n",
        "    Chroma().delete_collection()\n",
        "    vectorstore = Chroma.from_texts(to_vectorize, embeddings,metadatas=few_shots)\n",
        "    # vectorstore = Chroma.from_documents(filter_complex_metadata(documents), embeddings)\n",
        "\n",
        "print(vectorstore)\n",
        "type(vectorstore)"
      ]
    },
    {
      "cell_type": "code",
      "execution_count": null,
      "id": "f9cc4b0e",
      "metadata": {
        "colab": {
          "base_uri": "https://localhost:8080/"
        },
        "id": "f9cc4b0e",
        "outputId": "a598d391-ba76-48da-a966-33a7e964e25d"
      },
      "outputs": [
        {
          "data": {
            "text/plain": [
              "[{'Answer': '99',\n",
              "  'Question': 'How many t-shirts do we have left for Nike in XS size and white color?',\n",
              "  'SQLQuery': 'SELECT sum(stock_quantity) FROM t_shirts WHERE brand = \"Nike\" AND color = \"White\" AND size = \"XS\"',\n",
              "  'SQLResult': 'Result of the SQL query'},\n",
              " {'Answer': '99',\n",
              "  'Question': 'How many t-shirts do we have left for Nike in XS size and white color?',\n",
              "  'SQLQuery': 'SELECT sum(stock_quantity) FROM t_shirts WHERE brand = \"Nike\" AND color = \"White\" AND size = \"XS\"',\n",
              "  'SQLResult': 'Result of the SQL query'}]"
            ]
          },
          "execution_count": 96,
          "metadata": {},
          "output_type": "execute_result"
        }
      ],
      "source": [
        "example_selector = SemanticSimilarityExampleSelector(\n",
        "    vectorstore=vectorstore,\n",
        "    k=2,\n",
        ")\n",
        "\n",
        "example_selector.select_examples({\"Question\": \"How many Adidas T shirts I have left in my store?\"})"
      ]
    },
    {
      "cell_type": "code",
      "execution_count": null,
      "id": "485d270b",
      "metadata": {
        "id": "485d270b"
      },
      "outputs": [],
      "source": [
        "### my sql based instruction prompt\n",
        "mysql_prompt = \"\"\"You are a MySQL expert. Given an input question, first create a syntactically correct MySQL query to run, then look at the results of the query and return the answer to the input question.\n",
        "Unless the user specifies in the question a specific number of examples to obtain, query for at most {top_k} results using the LIMIT clause as per MySQL. You can order the results to return the most informative data in the database.\n",
        "Never query for all columns from a table. You must query only the columns that are needed to answer the question. Wrap each column name in backticks (`) to denote them as delimited identifiers.\n",
        "Pay attention to use only the column names you can see in the tables below. Be careful to not query for columns that do not exist. Also, pay attention to which column is in which table.\n",
        "Pay attention to use CURDATE() function to get the current date, if the question involves \"today\".\n",
        "\n",
        "Use the following format:\n",
        "\n",
        "Question: Question here\n",
        "SQLQuery: Query to run with no pre-amble\n",
        "SQLResult: Result of the SQLQuery\n",
        "Answer: Final answer here\n",
        "\n",
        "No pre-amble.\n",
        "\"\"\""
      ]
    },
    {
      "cell_type": "code",
      "execution_count": null,
      "id": "357ca60f",
      "metadata": {
        "colab": {
          "base_uri": "https://localhost:8080/"
        },
        "id": "357ca60f",
        "outputId": "fe097c7c-c083-4f4d-cbe8-d6a774078468",
        "scrolled": true
      },
      "outputs": [
        {
          "name": "stdout",
          "output_type": "stream",
          "text": [
            "Only use the following tables:\n",
            "{table_info}\n",
            "\n",
            "Question: {input}\n"
          ]
        }
      ],
      "source": [
        "from langchain.prompts import FewShotPromptTemplate\n",
        "from langchain.chains.sql_database.prompt import PROMPT_SUFFIX, _mysql_prompt\n",
        "\n",
        "print(PROMPT_SUFFIX)"
      ]
    },
    {
      "cell_type": "markdown",
      "id": "20224496",
      "metadata": {
        "id": "20224496"
      },
      "source": [
        "### Setting up PromptTemplete using input variables"
      ]
    },
    {
      "cell_type": "code",
      "execution_count": null,
      "id": "3337e4a0",
      "metadata": {
        "id": "3337e4a0"
      },
      "outputs": [],
      "source": [
        "from langchain.prompts.prompt import PromptTemplate\n",
        "\n",
        "example_prompt = PromptTemplate(\n",
        "    input_variables=[\"Question\", \"SQLQuery\", \"SQLResult\",\"Answer\",],\n",
        "    template=\"\\nQuestion: {Question}\\nSQLQuery: {SQLQuery}\\nSQLResult: {SQLResult}\\nAnswer: {Answer}\",\n",
        ")"
      ]
    },
    {
      "cell_type": "code",
      "execution_count": null,
      "id": "5157663d",
      "metadata": {
        "colab": {
          "base_uri": "https://localhost:8080/"
        },
        "id": "5157663d",
        "outputId": "fbdeef1b-96b6-4096-bccd-eb0a381eed7a"
      },
      "outputs": [
        {
          "name": "stdout",
          "output_type": "stream",
          "text": [
            "You are a MySQL expert. Given an input question, first create a syntactically correct MySQL query to run, then look at the results of the query and return the answer to the input question.\n",
            "Unless the user specifies in the question a specific number of examples to obtain, query for at most {top_k} results using the LIMIT clause as per MySQL. You can order the results to return the most informative data in the database.\n",
            "Never query for all columns from a table. You must query only the columns that are needed to answer the question. Wrap each column name in backticks (`) to denote them as delimited identifiers.\n",
            "Pay attention to use only the column names you can see in the tables below. Be careful to not query for columns that do not exist. Also, pay attention to which column is in which table.\n",
            "Pay attention to use CURDATE() function to get the current date, if the question involves \"today\".\n",
            "\n",
            "Use the following format:\n",
            "\n",
            "Question: Question here\n",
            "SQLQuery: SQL Query to run\n",
            "SQLResult: Result of the SQLQuery\n",
            "Answer: Final answer here\n",
            "\n",
            "\n"
          ]
        }
      ],
      "source": [
        "print(_mysql_prompt)"
      ]
    },
    {
      "cell_type": "code",
      "execution_count": null,
      "id": "5736eb12",
      "metadata": {
        "id": "5736eb12"
      },
      "outputs": [],
      "source": [
        "few_shot_prompt = FewShotPromptTemplate(\n",
        "    example_selector=example_selector,\n",
        "    example_prompt=example_prompt,\n",
        "    prefix=mysql_prompt,\n",
        "    suffix=PROMPT_SUFFIX,\n",
        "    input_variables=[\"input\", \"table_info\", \"top_k\"], #These variables are used in the prefix and suffix\n",
        ")"
      ]
    },
    {
      "cell_type": "code",
      "execution_count": null,
      "id": "c23d156c",
      "metadata": {
        "id": "c23d156c"
      },
      "outputs": [],
      "source": [
        "new_chain = SQLDatabaseChain.from_llm(llm, db, verbose=True, prompt=few_shot_prompt)"
      ]
    },
    {
      "cell_type": "code",
      "execution_count": null,
      "id": "58LdNk6flY5k",
      "metadata": {
        "colab": {
          "base_uri": "https://localhost:8080/",
          "height": 225
        },
        "id": "58LdNk6flY5k",
        "outputId": "343427a7-f33c-4903-95f7-e1fa404d39fc"
      },
      "outputs": [
        {
          "name": "stdout",
          "output_type": "stream",
          "text": [
            "\n",
            "\n",
            "\u001b[1m> Entering new SQLDatabaseChain chain...\u001b[0m\n",
            "How many t-shirts do we have left for Nike in XS size and white color\n",
            "SQLQuery:"
          ]
        },
        {
          "name": "stderr",
          "output_type": "stream",
          "text": [
            "2024-06-01 19:13:01.449 200 POST /v1beta/models/text-bison-001:generateText?%24alt=json%3Benum-encoding%3Dint (127.0.0.1) 1921.74ms\n"
          ]
        },
        {
          "name": "stdout",
          "output_type": "stream",
          "text": [
            "\u001b[32;1m\u001b[1;3mSELECT sum(stock_quantity) FROM t_shirts WHERE brand = \"Nike\" AND color = \"White\" AND size = \"XS\"\u001b[0m\n",
            "SQLResult: \u001b[33;1m\u001b[1;3m[(99,)]\u001b[0m\n",
            "Answer:"
          ]
        },
        {
          "name": "stderr",
          "output_type": "stream",
          "text": [
            "2024-06-01 19:13:03.105 200 POST /v1beta/models/text-bison-001:generateText?%24alt=json%3Benum-encoding%3Dint (127.0.0.1) 1515.33ms\n"
          ]
        },
        {
          "name": "stdout",
          "output_type": "stream",
          "text": [
            "\u001b[32;1m\u001b[1;3m99\u001b[0m\n",
            "\u001b[1m> Finished chain.\u001b[0m\n"
          ]
        },
        {
          "data": {
            "text/plain": [
              "{'query': 'How many t-shirts do we have left for Nike in XS size and white color',\n",
              " 'result': '99'}"
            ]
          },
          "execution_count": 103,
          "metadata": {},
          "output_type": "execute_result"
        }
      ],
      "source": [
        "new_chain(\"How many t-shirts do we have left for Nike in XS size and white color\")"
      ]
    },
    {
      "cell_type": "code",
      "execution_count": null,
      "id": "12a32c68",
      "metadata": {
        "colab": {
          "base_uri": "https://localhost:8080/",
          "height": 208
        },
        "id": "12a32c68",
        "outputId": "22c45322-7d71-4102-d3c2-bf3368bde8b6"
      },
      "outputs": [
        {
          "name": "stdout",
          "output_type": "stream",
          "text": [
            "\n",
            "\n",
            "\u001b[1m> Entering new SQLDatabaseChain chain...\u001b[0m\n",
            "How many white color Levi's shirt I have?\n",
            "SQLQuery:"
          ]
        },
        {
          "name": "stderr",
          "output_type": "stream",
          "text": [
            "2024-06-01 19:13:04.865 200 POST /v1beta/models/text-bison-001:generateText?%24alt=json%3Benum-encoding%3Dint (127.0.0.1) 1614.52ms\n"
          ]
        },
        {
          "name": "stdout",
          "output_type": "stream",
          "text": [
            "\u001b[32;1m\u001b[1;3mSELECT sum(stock_quantity) FROM t_shirts WHERE brand = 'Levi' AND color = 'White'\u001b[0m\n",
            "SQLResult: \u001b[33;1m\u001b[1;3m[(223,)]\u001b[0m\n",
            "Answer:"
          ]
        },
        {
          "name": "stderr",
          "output_type": "stream",
          "text": [
            "2024-06-01 19:13:06.563 200 POST /v1beta/models/text-bison-001:generateText?%24alt=json%3Benum-encoding%3Dint (127.0.0.1) 1564.41ms\n"
          ]
        },
        {
          "name": "stdout",
          "output_type": "stream",
          "text": [
            "\u001b[32;1m\u001b[1;3m223\u001b[0m\n",
            "\u001b[1m> Finished chain.\u001b[0m\n"
          ]
        },
        {
          "data": {
            "text/plain": [
              "{'query': \"How many white color Levi's shirt I have?\", 'result': '223'}"
            ]
          },
          "execution_count": 104,
          "metadata": {},
          "output_type": "execute_result"
        }
      ],
      "source": [
        "new_chain(\"How many white color Levi's shirt I have?\")"
      ]
    },
    {
      "cell_type": "markdown",
      "id": "1127786d",
      "metadata": {
        "id": "1127786d"
      },
      "source": [
        "Now this is working ok. Previously for this same question it was giving wrong answer because it did not use SUM clause around stock_quantity column"
      ]
    },
    {
      "cell_type": "code",
      "execution_count": null,
      "id": "30a05344",
      "metadata": {
        "colab": {
          "base_uri": "https://localhost:8080/",
          "height": 225
        },
        "id": "30a05344",
        "outputId": "6393d0fb-5c59-4276-89e5-c38374565a54",
        "scrolled": true
      },
      "outputs": [
        {
          "name": "stdout",
          "output_type": "stream",
          "text": [
            "\n",
            "\n",
            "\u001b[1m> Entering new SQLDatabaseChain chain...\u001b[0m\n",
            "How much is the price of the inventory for all small size t-shirts?\n",
            "SQLQuery:"
          ]
        },
        {
          "name": "stderr",
          "output_type": "stream",
          "text": [
            "2024-06-01 19:13:08.969 200 POST /v1beta/models/text-bison-001:generateText?%24alt=json%3Benum-encoding%3Dint (127.0.0.1) 2246.36ms\n"
          ]
        },
        {
          "name": "stdout",
          "output_type": "stream",
          "text": [
            "\u001b[32;1m\u001b[1;3mSELECT sum(price*stock_quantity) as total_price from t_shirts where size = 'XS'\u001b[0m\n",
            "SQLResult: \u001b[33;1m\u001b[1;3m[(22192,)]\u001b[0m\n",
            "Answer:"
          ]
        },
        {
          "name": "stderr",
          "output_type": "stream",
          "text": [
            "2024-06-01 19:13:10.770 200 POST /v1beta/models/text-bison-001:generateText?%24alt=json%3Benum-encoding%3Dint (127.0.0.1) 1665.99ms\n"
          ]
        },
        {
          "name": "stdout",
          "output_type": "stream",
          "text": [
            "\u001b[32;1m\u001b[1;3m22192\u001b[0m\n",
            "\u001b[1m> Finished chain.\u001b[0m\n"
          ]
        },
        {
          "data": {
            "text/plain": [
              "{'query': 'How much is the price of the inventory for all small size t-shirts?',\n",
              " 'result': '22192'}"
            ]
          },
          "execution_count": 105,
          "metadata": {},
          "output_type": "execute_result"
        }
      ],
      "source": [
        "new_chain(\"How much is the price of the inventory for all small size t-shirts?\")"
      ]
    },
    {
      "cell_type": "code",
      "execution_count": null,
      "id": "d38d4cc9",
      "metadata": {
        "colab": {
          "base_uri": "https://localhost:8080/",
          "height": 225
        },
        "id": "d38d4cc9",
        "outputId": "7b3287c8-ba4b-43d5-cca7-8970325bf391"
      },
      "outputs": [
        {
          "name": "stdout",
          "output_type": "stream",
          "text": [
            "\n",
            "\n",
            "\u001b[1m> Entering new SQLDatabaseChain chain...\u001b[0m\n",
            "How much is the price of all white color levi t shirts?\n",
            "SQLQuery:"
          ]
        },
        {
          "name": "stderr",
          "output_type": "stream",
          "text": [
            "2024-06-01 19:13:12.814 200 POST /v1beta/models/text-bison-001:generateText?%24alt=json%3Benum-encoding%3Dint (127.0.0.1) 1897.13ms\n"
          ]
        },
        {
          "name": "stdout",
          "output_type": "stream",
          "text": [
            "\u001b[32;1m\u001b[1;3mSELECT sum(price) FROM t_shirts WHERE brand = 'Levi' AND color = 'White'\u001b[0m\n",
            "SQLResult: \u001b[33;1m\u001b[1;3m[(131,)]\u001b[0m\n",
            "Answer:"
          ]
        },
        {
          "name": "stderr",
          "output_type": "stream",
          "text": [
            "2024-06-01 19:13:14.495 200 POST /v1beta/models/text-bison-001:generateText?%24alt=json%3Benum-encoding%3Dint (127.0.0.1) 1467.22ms\n"
          ]
        },
        {
          "name": "stdout",
          "output_type": "stream",
          "text": [
            "\u001b[32;1m\u001b[1;3m131\u001b[0m\n",
            "\u001b[1m> Finished chain.\u001b[0m\n"
          ]
        },
        {
          "data": {
            "text/plain": [
              "{'query': 'How much is the price of all white color levi t shirts?',\n",
              " 'result': '131'}"
            ]
          },
          "execution_count": 106,
          "metadata": {},
          "output_type": "execute_result"
        }
      ],
      "source": [
        "new_chain(\"How much is the price of all white color levi t shirts?\")"
      ]
    },
    {
      "cell_type": "code",
      "execution_count": null,
      "id": "510f8e47",
      "metadata": {
        "colab": {
          "base_uri": "https://localhost:8080/",
          "height": 260
        },
        "id": "510f8e47",
        "outputId": "85b488f2-f7ab-4c88-9bb7-0d410e45d0bf",
        "scrolled": false
      },
      "outputs": [
        {
          "name": "stdout",
          "output_type": "stream",
          "text": [
            "\n",
            "\n",
            "\u001b[1m> Entering new SQLDatabaseChain chain...\u001b[0m\n",
            "If we have to sell all the Nike’s T-shirts today with discounts applied. How much revenue  our store will generate (post discounts)?\n",
            "SQLQuery:"
          ]
        },
        {
          "name": "stderr",
          "output_type": "stream",
          "text": [
            "2024-06-01 19:13:16.972 200 POST /v1beta/models/text-bison-001:generateText?%24alt=json%3Benum-encoding%3Dint (127.0.0.1) 2323.48ms\n"
          ]
        },
        {
          "name": "stdout",
          "output_type": "stream",
          "text": [
            "\u001b[32;1m\u001b[1;3mSELECT sum(a.total_amount * ((100-COALESCE(discounts.pct_discount,0))/100)) as total_revenue from\n",
            "(select sum(price*stock_quantity) as total_amount, t_shirt_id from t_shirts where brand = 'Nike'\n",
            "group by t_shirt_id) a left join discounts on a.t_shirt_id = discounts.t_shirt_id\u001b[0m\n",
            "SQLResult: \u001b[33;1m\u001b[1;3m[(26435,)]\u001b[0m\n",
            "Answer:"
          ]
        },
        {
          "name": "stderr",
          "output_type": "stream",
          "text": [
            "2024-06-01 19:13:18.916 200 POST /v1beta/models/text-bison-001:generateText?%24alt=json%3Benum-encoding%3Dint (127.0.0.1) 1815.24ms\n"
          ]
        },
        {
          "name": "stdout",
          "output_type": "stream",
          "text": [
            "\u001b[32;1m\u001b[1;3m26435\u001b[0m\n",
            "\u001b[1m> Finished chain.\u001b[0m\n"
          ]
        },
        {
          "data": {
            "text/plain": [
              "{'query': 'If we have to sell all the Nike’s T-shirts today with discounts applied. How much revenue  our store will generate (post discounts)?',\n",
              " 'result': '26435'}"
            ]
          },
          "execution_count": 107,
          "metadata": {},
          "output_type": "execute_result"
        }
      ],
      "source": [
        "new_chain(\"If we have to sell all the Nike’s T-shirts today with discounts applied. How much revenue  our store will generate (post discounts)?\")"
      ]
    },
    {
      "cell_type": "code",
      "execution_count": null,
      "id": "3188a887",
      "metadata": {
        "colab": {
          "base_uri": "https://localhost:8080/",
          "height": 260
        },
        "id": "3188a887",
        "outputId": "429710d9-bb29-40c7-ba51-2a40b5ca4732",
        "scrolled": false
      },
      "outputs": [
        {
          "name": "stdout",
          "output_type": "stream",
          "text": [
            "\n",
            "\n",
            "\u001b[1m> Entering new SQLDatabaseChain chain...\u001b[0m\n",
            "If we have to sell all the Van Heuson T-shirts today with discounts applied. How much revenue  our store will generate (post discounts)?\n",
            "SQLQuery:"
          ]
        },
        {
          "name": "stderr",
          "output_type": "stream",
          "text": [
            "2024-06-01 19:13:21.400 200 POST /v1beta/models/text-bison-001:generateText?%24alt=json%3Benum-encoding%3Dint (127.0.0.1) 2322.22ms\n"
          ]
        },
        {
          "name": "stdout",
          "output_type": "stream",
          "text": [
            "\u001b[32;1m\u001b[1;3mSELECT sum(a.total_amount * ((100-COALESCE(discounts.pct_discount,0))/100)) as total_revenue from\n",
            "(select sum(price*stock_quantity) as total_amount, t_shirt_id from t_shirts where brand = 'Van Huesen'\n",
            "group by t_shirt_id) a left join discounts on a.t_shirt_id = discounts.t_shirt_id\u001b[0m\n",
            "SQLResult: \u001b[33;1m\u001b[1;3m[(11886,)]\u001b[0m\n",
            "Answer:\u001b[32;1m\u001b[1;3m11886\u001b[0m\n",
            "\u001b[1m> Finished chain.\u001b[0m\n"
          ]
        },
        {
          "name": "stderr",
          "output_type": "stream",
          "text": [
            "2024-06-01 19:13:23.282 200 POST /v1beta/models/text-bison-001:generateText?%24alt=json%3Benum-encoding%3Dint (127.0.0.1) 1740.91ms\n"
          ]
        },
        {
          "data": {
            "text/plain": [
              "{'query': 'If we have to sell all the Van Heuson T-shirts today with discounts applied. How much revenue  our store will generate (post discounts)?',\n",
              " 'result': '11886'}"
            ]
          },
          "execution_count": 108,
          "metadata": {},
          "output_type": "execute_result"
        }
      ],
      "source": [
        "new_chain(\"If we have to sell all the Van Heuson T-shirts today with discounts applied. How much revenue  our store will generate (post discounts)?\")"
      ]
    },
    {
      "cell_type": "code",
      "execution_count": null,
      "id": "9b10fd4d",
      "metadata": {
        "colab": {
          "base_uri": "https://localhost:8080/",
          "height": 209
        },
        "id": "9b10fd4d",
        "outputId": "d16acce1-b26b-4469-c63a-1fafc6c7e398"
      },
      "outputs": [
        {
          "name": "stdout",
          "output_type": "stream",
          "text": [
            "\n",
            "\n",
            "\u001b[1m> Entering new SQLDatabaseChain chain...\u001b[0m\n",
            "How much revenue  our store will generate by selling all Van Heuson TShirts without discount?\n",
            "SQLQuery:"
          ]
        },
        {
          "name": "stderr",
          "output_type": "stream",
          "text": [
            "2024-06-01 19:13:25.232 200 POST /v1beta/models/text-bison-001:generateText?%24alt=json%3Benum-encoding%3Dint (127.0.0.1) 1798.77ms\n"
          ]
        },
        {
          "name": "stdout",
          "output_type": "stream",
          "text": [
            "\u001b[32;1m\u001b[1;3mSELECT sum(price*stock_quantity) as total_revenue from t_shirts where brand = 'Van Huesen'\u001b[0m\n",
            "SQLResult: \u001b[33;1m\u001b[1;3m[(13263,)]\u001b[0m\n",
            "Answer:"
          ]
        },
        {
          "name": "stderr",
          "output_type": "stream",
          "text": [
            "2024-06-01 19:13:26.835 200 POST /v1beta/models/text-bison-001:generateText?%24alt=json%3Benum-encoding%3Dint (127.0.0.1) 1393.31ms\n"
          ]
        },
        {
          "name": "stdout",
          "output_type": "stream",
          "text": [
            "\u001b[32;1m\u001b[1;3m13263\u001b[0m\n",
            "\u001b[1m> Finished chain.\u001b[0m\n"
          ]
        },
        {
          "data": {
            "application/vnd.google.colaboratory.intrinsic+json": {
              "type": "string"
            },
            "text/plain": [
              "'13263'"
            ]
          },
          "execution_count": 109,
          "metadata": {},
          "output_type": "execute_result"
        }
      ],
      "source": [
        "new_chain.run('How much revenue  our store will generate by selling all Van Heuson TShirts without discount?')"
      ]
    },
    {
      "cell_type": "markdown",
      "id": "Q6TjQ1WGXpVR",
      "metadata": {
        "id": "Q6TjQ1WGXpVR"
      },
      "source": [
        "# Streamlit UI implementation"
      ]
    },
    {
      "cell_type": "code",
      "execution_count": null,
      "id": "tvRWvhfGZB4N",
      "metadata": {
        "colab": {
          "base_uri": "https://localhost:8080/"
        },
        "collapsed": true,
        "id": "tvRWvhfGZB4N",
        "outputId": "d256792e-567c-4f82-826e-d4817625cb25"
      },
      "outputs": [
        {
          "name": "stdout",
          "output_type": "stream",
          "text": [
            "\u001b[2K     \u001b[90m━━━━━━━━━━━━━━━━━━━━━━━━━━━━━━━━━━━━━━━━\u001b[0m \u001b[32m8.6/8.6 MB\u001b[0m \u001b[31m22.5 MB/s\u001b[0m eta \u001b[36m0:00:00\u001b[0m\n",
            "\u001b[2K     \u001b[90m━━━━━━━━━━━━━━━━━━━━━━━━━━━━━━━━━━━━━━━━\u001b[0m \u001b[32m207.3/207.3 kB\u001b[0m \u001b[31m19.4 MB/s\u001b[0m eta \u001b[36m0:00:00\u001b[0m\n",
            "\u001b[2K     \u001b[90m━━━━━━━━━━━━━━━━━━━━━━━━━━━━━━━━━━━━━━━━\u001b[0m \u001b[32m6.9/6.9 MB\u001b[0m \u001b[31m59.8 MB/s\u001b[0m eta \u001b[36m0:00:00\u001b[0m\n",
            "\u001b[2K     \u001b[90m━━━━━━━━━━━━━━━━━━━━━━━━━━━━━━━━━━━━━━━━\u001b[0m \u001b[32m83.0/83.0 kB\u001b[0m \u001b[31m8.8 MB/s\u001b[0m eta \u001b[36m0:00:00\u001b[0m\n",
            "\u001b[2K     \u001b[90m━━━━━━━━━━━━━━━━━━━━━━━━━━━━━━━━━━━━━━━━\u001b[0m \u001b[32m62.7/62.7 kB\u001b[0m \u001b[31m5.9 MB/s\u001b[0m eta \u001b[36m0:00:00\u001b[0m\n",
            "\u001b[?25h"
          ]
        }
      ],
      "source": [
        "!pip install streamlit -q\n",
        "# Install the necessary libraries\n",
        "# !pip install streamlit pyngrok"
      ]
    },
    {
      "cell_type": "code",
      "execution_count": null,
      "id": "0Z_NOo3kSw5t",
      "metadata": {
        "colab": {
          "base_uri": "https://localhost:8080/"
        },
        "collapsed": true,
        "id": "0Z_NOo3kSw5t",
        "outputId": "4eab7f6a-d62b-4dc0-ce1a-390e0d33c92e"
      },
      "outputs": [
        {
          "name": "stdout",
          "output_type": "stream",
          "text": [
            "\u001b[2K     \u001b[90m━━━━━━━━━━━━━━━━━━━━━━━━━━━━━━━━━━━━━━━━\u001b[0m \u001b[32m310.2/310.2 kB\u001b[0m \u001b[31m6.1 MB/s\u001b[0m eta \u001b[36m0:00:00\u001b[0m\n",
            "\u001b[2K     \u001b[90m━━━━━━━━━━━━━━━━━━━━━━━━━━━━━━━━━━━━━━━━\u001b[0m \u001b[32m124.4/124.4 kB\u001b[0m \u001b[31m8.2 MB/s\u001b[0m eta \u001b[36m0:00:00\u001b[0m\n",
            "\u001b[2K     \u001b[90m━━━━━━━━━━━━━━━━━━━━━━━━━━━━━━━━━━━━━━━━\u001b[0m \u001b[32m53.0/53.0 kB\u001b[0m \u001b[31m4.3 MB/s\u001b[0m eta \u001b[36m0:00:00\u001b[0m\n",
            "\u001b[2K     \u001b[90m━━━━━━━━━━━━━━━━━━━━━━━━━━━━━━━━━━━━━━━━\u001b[0m \u001b[32m142.5/142.5 kB\u001b[0m \u001b[31m5.8 MB/s\u001b[0m eta \u001b[36m0:00:00\u001b[0m\n",
            "\u001b[?25h"
          ]
        }
      ],
      "source": [
        "!pip install --upgrade --quiet langchain-google-genai\n",
        "!pip install -q -U google-generativeai"
      ]
    },
    {
      "cell_type": "code",
      "execution_count": null,
      "id": "zmH0OvDrS1MZ",
      "metadata": {
        "colab": {
          "base_uri": "https://localhost:8080/"
        },
        "collapsed": true,
        "id": "zmH0OvDrS1MZ",
        "outputId": "56cd05ed-a107-4dc6-a1dd-31a6cd57d7dd"
      },
      "outputs": [
        {
          "name": "stdout",
          "output_type": "stream",
          "text": [
            "Requirement already satisfied: protobuf in /usr/local/lib/python3.10/dist-packages (3.20.3)\n",
            "Collecting protobuf\n",
            "  Downloading protobuf-5.27.0-cp38-abi3-manylinux2014_x86_64.whl (309 kB)\n",
            "\u001b[2K     \u001b[90m━━━━━━━━━━━━━━━━━━━━━━━━━━━━━━━━━━━━━━━━\u001b[0m \u001b[32m309.2/309.2 kB\u001b[0m \u001b[31m4.5 MB/s\u001b[0m eta \u001b[36m0:00:00\u001b[0m\n",
            "\u001b[?25hInstalling collected packages: protobuf\n",
            "  Attempting uninstall: protobuf\n",
            "    Found existing installation: protobuf 3.20.3\n",
            "    Uninstalling protobuf-3.20.3:\n",
            "      Successfully uninstalled protobuf-3.20.3\n",
            "\u001b[31mERROR: pip's dependency resolver does not currently take into account all the packages that are installed. This behaviour is the source of the following dependency conflicts.\n",
            "cudf-cu12 24.4.1 requires protobuf<5,>=3.20, but you have protobuf 5.27.0 which is incompatible.\n",
            "google-ai-generativelanguage 0.6.4 requires protobuf!=3.20.0,!=3.20.1,!=4.21.0,!=4.21.1,!=4.21.2,!=4.21.3,!=4.21.4,!=4.21.5,<5.0.0dev,>=3.19.5, but you have protobuf 5.27.0 which is incompatible.\n",
            "google-api-core 2.11.1 requires protobuf!=3.20.0,!=3.20.1,!=4.21.0,!=4.21.1,!=4.21.2,!=4.21.3,!=4.21.4,!=4.21.5,<5.0.0.dev0,>=3.19.5, but you have protobuf 5.27.0 which is incompatible.\n",
            "google-cloud-aiplatform 1.52.0 requires protobuf!=3.20.0,!=3.20.1,!=4.21.0,!=4.21.1,!=4.21.2,!=4.21.3,!=4.21.4,!=4.21.5,<5.0.0dev,>=3.19.5, but you have protobuf 5.27.0 which is incompatible.\n",
            "google-cloud-bigquery-connection 1.12.1 requires protobuf!=3.20.0,!=3.20.1,!=4.21.0,!=4.21.1,!=4.21.2,!=4.21.3,!=4.21.4,!=4.21.5,<5.0.0dev,>=3.19.5, but you have protobuf 5.27.0 which is incompatible.\n",
            "google-cloud-bigquery-storage 2.25.0 requires protobuf!=3.20.0,!=3.20.1,!=4.21.0,!=4.21.1,!=4.21.2,!=4.21.3,!=4.21.4,!=4.21.5,<5.0.0dev,>=3.19.5, but you have protobuf 5.27.0 which is incompatible.\n",
            "google-cloud-datastore 2.15.2 requires protobuf!=3.20.0,!=3.20.1,!=4.21.0,!=4.21.1,!=4.21.2,!=4.21.3,!=4.21.4,!=4.21.5,<5.0.0dev,>=3.19.5, but you have protobuf 5.27.0 which is incompatible.\n",
            "google-cloud-firestore 2.11.1 requires protobuf!=3.20.0,!=3.20.1,!=4.21.0,!=4.21.1,!=4.21.2,!=4.21.3,!=4.21.4,!=4.21.5,<5.0.0dev,>=3.19.5, but you have protobuf 5.27.0 which is incompatible.\n",
            "google-cloud-functions 1.13.3 requires protobuf!=3.20.0,!=3.20.1,!=4.21.0,!=4.21.1,!=4.21.2,!=4.21.3,!=4.21.4,!=4.21.5,<5.0.0dev,>=3.19.5, but you have protobuf 5.27.0 which is incompatible.\n",
            "google-cloud-iam 2.15.0 requires protobuf!=3.20.0,!=3.20.1,!=4.21.0,!=4.21.1,!=4.21.2,!=4.21.3,!=4.21.4,!=4.21.5,<5.0.0dev,>=3.19.5, but you have protobuf 5.27.0 which is incompatible.\n",
            "google-cloud-language 2.13.3 requires protobuf!=3.20.0,!=3.20.1,!=4.21.0,!=4.21.1,!=4.21.2,!=4.21.3,!=4.21.4,!=4.21.5,<5.0.0dev,>=3.19.5, but you have protobuf 5.27.0 which is incompatible.\n",
            "google-cloud-resource-manager 1.12.3 requires protobuf!=3.20.0,!=3.20.1,!=4.21.0,!=4.21.1,!=4.21.2,!=4.21.3,!=4.21.4,!=4.21.5,<5.0.0dev,>=3.19.5, but you have protobuf 5.27.0 which is incompatible.\n",
            "google-cloud-translate 3.11.3 requires protobuf!=3.20.0,!=3.20.1,!=4.21.0,!=4.21.1,!=4.21.2,!=4.21.3,!=4.21.4,!=4.21.5,<5.0.0dev,>=3.19.5, but you have protobuf 5.27.0 which is incompatible.\n",
            "googleapis-common-protos 1.63.0 requires protobuf!=3.20.0,!=3.20.1,!=4.21.1,!=4.21.2,!=4.21.3,!=4.21.4,!=4.21.5,<5.0.0.dev0,>=3.19.5, but you have protobuf 5.27.0 which is incompatible.\n",
            "grpc-google-iam-v1 0.13.0 requires protobuf!=3.20.0,!=3.20.1,!=4.21.1,!=4.21.2,!=4.21.3,!=4.21.4,!=4.21.5,<5.0.0dev,>=3.19.5, but you have protobuf 5.27.0 which is incompatible.\n",
            "proto-plus 1.23.0 requires protobuf<5.0.0dev,>=3.19.0, but you have protobuf 5.27.0 which is incompatible.\n",
            "streamlit 1.35.0 requires protobuf<5,>=3.20, but you have protobuf 5.27.0 which is incompatible.\n",
            "tensorflow 2.15.0 requires protobuf!=4.21.0,!=4.21.1,!=4.21.2,!=4.21.3,!=4.21.4,!=4.21.5,<5.0.0dev,>=3.20.3, but you have protobuf 5.27.0 which is incompatible.\n",
            "tensorflow-metadata 1.15.0 requires protobuf<4.21,>=3.20.3; python_version < \"3.11\", but you have protobuf 5.27.0 which is incompatible.\u001b[0m\u001b[31m\n",
            "\u001b[0mSuccessfully installed protobuf-5.27.0\n"
          ]
        }
      ],
      "source": [
        "!pip install --upgrade protobuf"
      ]
    },
    {
      "cell_type": "code",
      "execution_count": null,
      "id": "sHXA9PV5WAgL",
      "metadata": {
        "id": "sHXA9PV5WAgL"
      },
      "outputs": [],
      "source": [
        "!cp /usr/local/lib/python3.10/dist-packages/google/protobuf/internal/builder.py builder.py"
      ]
    },
    {
      "cell_type": "code",
      "execution_count": null,
      "id": "4GjjgjyBW1eF",
      "metadata": {
        "colab": {
          "base_uri": "https://localhost:8080/"
        },
        "id": "4GjjgjyBW1eF",
        "outputId": "449a511b-3dcf-419a-e89d-14fb6e39e168"
      },
      "outputs": [
        {
          "name": "stdout",
          "output_type": "stream",
          "text": [
            "/content\n"
          ]
        }
      ],
      "source": [
        "!pwd"
      ]
    },
    {
      "cell_type": "code",
      "execution_count": null,
      "id": "9Qi6Ah60W4Zx",
      "metadata": {
        "colab": {
          "base_uri": "https://localhost:8080/"
        },
        "id": "9Qi6Ah60W4Zx",
        "outputId": "756b3399-298b-4d61-a4d9-4849890c201e"
      },
      "outputs": [
        {
          "name": "stdout",
          "output_type": "stream",
          "text": [
            "total 16\n",
            "-rw-r--r-- 1 root root 5084 Jun  2 02:00 app.py\n",
            "-rw-r--r-- 1 root root 4082 Jun  2 02:01 builder.py\n",
            "drwxr-xr-x 1 root root 4096 May 30 13:36 sample_data\n"
          ]
        }
      ],
      "source": [
        "!ls -l"
      ]
    },
    {
      "cell_type": "code",
      "execution_count": null,
      "id": "fSRWQUwiW7lD",
      "metadata": {
        "colab": {
          "base_uri": "https://localhost:8080/",
          "height": 651
        },
        "collapsed": true,
        "id": "fSRWQUwiW7lD",
        "outputId": "7058e92f-6634-485d-fc5b-6573f143c327"
      },
      "outputs": [
        {
          "name": "stdout",
          "output_type": "stream",
          "text": [
            "Collecting protobuf==3.19.4\n",
            "  Downloading protobuf-3.19.4-cp310-cp310-manylinux_2_17_x86_64.manylinux2014_x86_64.whl (1.1 MB)\n",
            "\u001b[2K     \u001b[90m━━━━━━━━━━━━━━━━━━━━━━━━━━━━━━━━━━━━━━━━\u001b[0m \u001b[32m1.1/1.1 MB\u001b[0m \u001b[31m7.7 MB/s\u001b[0m eta \u001b[36m0:00:00\u001b[0m\n",
            "\u001b[?25hInstalling collected packages: protobuf\n",
            "  Attempting uninstall: protobuf\n",
            "    Found existing installation: protobuf 5.27.0\n",
            "    Uninstalling protobuf-5.27.0:\n",
            "      Successfully uninstalled protobuf-5.27.0\n",
            "\u001b[31mERROR: pip's dependency resolver does not currently take into account all the packages that are installed. This behaviour is the source of the following dependency conflicts.\n",
            "cudf-cu12 24.4.1 requires protobuf<5,>=3.20, but you have protobuf 3.19.4 which is incompatible.\n",
            "google-ai-generativelanguage 0.6.4 requires protobuf!=3.20.0,!=3.20.1,!=4.21.0,!=4.21.1,!=4.21.2,!=4.21.3,!=4.21.4,!=4.21.5,<5.0.0dev,>=3.19.5, but you have protobuf 3.19.4 which is incompatible.\n",
            "google-api-core 2.11.1 requires protobuf!=3.20.0,!=3.20.1,!=4.21.0,!=4.21.1,!=4.21.2,!=4.21.3,!=4.21.4,!=4.21.5,<5.0.0.dev0,>=3.19.5, but you have protobuf 3.19.4 which is incompatible.\n",
            "google-cloud-aiplatform 1.52.0 requires protobuf!=3.20.0,!=3.20.1,!=4.21.0,!=4.21.1,!=4.21.2,!=4.21.3,!=4.21.4,!=4.21.5,<5.0.0dev,>=3.19.5, but you have protobuf 3.19.4 which is incompatible.\n",
            "google-cloud-bigquery-connection 1.12.1 requires protobuf!=3.20.0,!=3.20.1,!=4.21.0,!=4.21.1,!=4.21.2,!=4.21.3,!=4.21.4,!=4.21.5,<5.0.0dev,>=3.19.5, but you have protobuf 3.19.4 which is incompatible.\n",
            "google-cloud-bigquery-storage 2.25.0 requires protobuf!=3.20.0,!=3.20.1,!=4.21.0,!=4.21.1,!=4.21.2,!=4.21.3,!=4.21.4,!=4.21.5,<5.0.0dev,>=3.19.5, but you have protobuf 3.19.4 which is incompatible.\n",
            "google-cloud-datastore 2.15.2 requires protobuf!=3.20.0,!=3.20.1,!=4.21.0,!=4.21.1,!=4.21.2,!=4.21.3,!=4.21.4,!=4.21.5,<5.0.0dev,>=3.19.5, but you have protobuf 3.19.4 which is incompatible.\n",
            "google-cloud-firestore 2.11.1 requires protobuf!=3.20.0,!=3.20.1,!=4.21.0,!=4.21.1,!=4.21.2,!=4.21.3,!=4.21.4,!=4.21.5,<5.0.0dev,>=3.19.5, but you have protobuf 3.19.4 which is incompatible.\n",
            "google-cloud-functions 1.13.3 requires protobuf!=3.20.0,!=3.20.1,!=4.21.0,!=4.21.1,!=4.21.2,!=4.21.3,!=4.21.4,!=4.21.5,<5.0.0dev,>=3.19.5, but you have protobuf 3.19.4 which is incompatible.\n",
            "google-cloud-iam 2.15.0 requires protobuf!=3.20.0,!=3.20.1,!=4.21.0,!=4.21.1,!=4.21.2,!=4.21.3,!=4.21.4,!=4.21.5,<5.0.0dev,>=3.19.5, but you have protobuf 3.19.4 which is incompatible.\n",
            "google-cloud-language 2.13.3 requires protobuf!=3.20.0,!=3.20.1,!=4.21.0,!=4.21.1,!=4.21.2,!=4.21.3,!=4.21.4,!=4.21.5,<5.0.0dev,>=3.19.5, but you have protobuf 3.19.4 which is incompatible.\n",
            "google-cloud-resource-manager 1.12.3 requires protobuf!=3.20.0,!=3.20.1,!=4.21.0,!=4.21.1,!=4.21.2,!=4.21.3,!=4.21.4,!=4.21.5,<5.0.0dev,>=3.19.5, but you have protobuf 3.19.4 which is incompatible.\n",
            "google-cloud-translate 3.11.3 requires protobuf!=3.20.0,!=3.20.1,!=4.21.0,!=4.21.1,!=4.21.2,!=4.21.3,!=4.21.4,!=4.21.5,<5.0.0dev,>=3.19.5, but you have protobuf 3.19.4 which is incompatible.\n",
            "googleapis-common-protos 1.63.0 requires protobuf!=3.20.0,!=3.20.1,!=4.21.1,!=4.21.2,!=4.21.3,!=4.21.4,!=4.21.5,<5.0.0.dev0,>=3.19.5, but you have protobuf 3.19.4 which is incompatible.\n",
            "grpc-google-iam-v1 0.13.0 requires protobuf!=3.20.0,!=3.20.1,!=4.21.1,!=4.21.2,!=4.21.3,!=4.21.4,!=4.21.5,<5.0.0dev,>=3.19.5, but you have protobuf 3.19.4 which is incompatible.\n",
            "streamlit 1.35.0 requires protobuf<5,>=3.20, but you have protobuf 3.19.4 which is incompatible.\n",
            "tensorboard 2.15.2 requires protobuf!=4.24.0,>=3.19.6, but you have protobuf 3.19.4 which is incompatible.\n",
            "tensorflow 2.15.0 requires protobuf!=4.21.0,!=4.21.1,!=4.21.2,!=4.21.3,!=4.21.4,!=4.21.5,<5.0.0dev,>=3.20.3, but you have protobuf 3.19.4 which is incompatible.\n",
            "tensorflow-datasets 4.9.4 requires protobuf>=3.20, but you have protobuf 3.19.4 which is incompatible.\n",
            "tensorflow-hub 0.16.1 requires protobuf>=3.19.6, but you have protobuf 3.19.4 which is incompatible.\n",
            "tensorflow-metadata 1.15.0 requires protobuf<4.21,>=3.20.3; python_version < \"3.11\", but you have protobuf 3.19.4 which is incompatible.\u001b[0m\u001b[31m\n",
            "\u001b[0mSuccessfully installed protobuf-3.19.4\n"
          ]
        },
        {
          "data": {
            "application/vnd.colab-display-data+json": {
              "id": "905babeb7eab4507a34abb91ee29b5b2",
              "pip_warning": {
                "packages": [
                  "google"
                ]
              }
            }
          },
          "metadata": {},
          "output_type": "display_data"
        }
      ],
      "source": [
        "!pip install protobuf==3.19.4"
      ]
    },
    {
      "cell_type": "code",
      "execution_count": null,
      "id": "DCx0eyOJXHaa",
      "metadata": {
        "id": "DCx0eyOJXHaa"
      },
      "outputs": [],
      "source": [
        "!cp builder.py /usr/local/lib/python3.10/dist-packages/google/protobuf/internal/builder.py"
      ]
    },
    {
      "cell_type": "code",
      "execution_count": null,
      "id": "HiQfKEl6XZ7Z",
      "metadata": {
        "colab": {
          "base_uri": "https://localhost:8080/"
        },
        "id": "HiQfKEl6XZ7Z",
        "outputId": "b2458961-0d2a-4c96-d124-551acc6ee638"
      },
      "outputs": [
        {
          "name": "stdout",
          "output_type": "stream",
          "text": [
            "-rw-r--r-- 1 root root 4082 Jun  2 02:02 /usr/local/lib/python3.10/dist-packages/google/protobuf/internal/builder.py\n"
          ]
        }
      ],
      "source": [
        "!ls -l /usr/local/lib/python3.10/dist-packages/google/protobuf/internal/builder.py"
      ]
    },
    {
      "cell_type": "code",
      "execution_count": null,
      "id": "Ukcdr-hesvf5",
      "metadata": {
        "colab": {
          "base_uri": "https://localhost:8080/"
        },
        "collapsed": true,
        "id": "Ukcdr-hesvf5",
        "outputId": "d13710dc-1d8c-481a-93bf-fd625bfae702"
      },
      "outputs": [
        {
          "name": "stdout",
          "output_type": "stream",
          "text": [
            "Requirement already satisfied: sqlalchemy in /usr/local/lib/python3.10/dist-packages (2.0.30)\n",
            "Requirement already satisfied: typing-extensions>=4.6.0 in /usr/local/lib/python3.10/dist-packages (from sqlalchemy) (4.11.0)\n",
            "Requirement already satisfied: greenlet!=0.4.17 in /usr/local/lib/python3.10/dist-packages (from sqlalchemy) (3.0.3)\n"
          ]
        }
      ],
      "source": [
        "!pip install -U langchain\n",
        "!pip install -U langchain_community\n",
        "!pip install -U langchain_experimental\n",
        "!pip install -U langchain_google_genai\n",
        "!pip install -U sentence-transformers\n",
        "!pip install chromadb\n",
        "!pip install sqlalchemy\n",
        "!apt-get install sqlite3"
      ]
    },
    {
      "cell_type": "code",
      "execution_count": null,
      "id": "HtvRdauX4B6z",
      "metadata": {
        "colab": {
          "base_uri": "https://localhost:8080/",
          "height": 332
        },
        "collapsed": true,
        "id": "HtvRdauX4B6z",
        "outputId": "4974549d-afc3-4dba-a4e5-94ba43fa9341"
      },
      "outputs": [
        {
          "name": "stdout",
          "output_type": "stream",
          "text": [
            "Tables in the database:\n",
            "t_shirts\n",
            "sqlite_autoindex_t_shirts_1\n",
            "discounts\n",
            "sqlite_autoindex_discounts_1\n",
            "Table 't_shirts' already exists.\n",
            "Table 'discounts' already exists.\n"
          ]
        },
        {
          "ename": "IntegrityError",
          "evalue": "UNIQUE constraint failed: t_shirts.t_shirt_id",
          "output_type": "error",
          "traceback": [
            "\u001b[0;31m---------------------------------------------------------------------------\u001b[0m",
            "\u001b[0;31mIntegrityError\u001b[0m                            Traceback (most recent call last)",
            "\u001b[0;32m/content/drive/MyDrive/sqliteDB/sqlite.py\u001b[0m in \u001b[0;36m<module>\u001b[0;34m\u001b[0m\n\u001b[1;32m     76\u001b[0m \u001b[0mconn\u001b[0m\u001b[0;34m.\u001b[0m\u001b[0mcommit\u001b[0m\u001b[0;34m(\u001b[0m\u001b[0;34m)\u001b[0m\u001b[0;34m\u001b[0m\u001b[0;34m\u001b[0m\u001b[0m\n\u001b[1;32m     77\u001b[0m \u001b[0;34m\u001b[0m\u001b[0m\n\u001b[0;32m---> 78\u001b[0;31m cursor.execute(\"\"\"\n\u001b[0m\u001b[1;32m     79\u001b[0m \u001b[0mINSERT\u001b[0m \u001b[0mINTO\u001b[0m \u001b[0mt_shirts\u001b[0m \u001b[0mVALUES\u001b[0m\u001b[0;34m\u001b[0m\u001b[0;34m\u001b[0m\u001b[0m\n\u001b[1;32m     80\u001b[0m   \u001b[0;34m(\u001b[0m\u001b[0;36m1\u001b[0m\u001b[0;34m,\u001b[0m \u001b[0;34m'Van Huesen'\u001b[0m\u001b[0;34m,\u001b[0m \u001b[0;34m'Blue'\u001b[0m\u001b[0;34m,\u001b[0m \u001b[0;34m'XS'\u001b[0m\u001b[0;34m,\u001b[0m \u001b[0;36m17\u001b[0m\u001b[0;34m,\u001b[0m \u001b[0;36m81\u001b[0m\u001b[0;34m)\u001b[0m\u001b[0;34m,\u001b[0m\u001b[0;34m\u001b[0m\u001b[0;34m\u001b[0m\u001b[0m\n",
            "\u001b[0;31mIntegrityError\u001b[0m: UNIQUE constraint failed: t_shirts.t_shirt_id"
          ]
        }
      ],
      "source": [
        "%run /content/drive/MyDrive/sqliteDB/sqlite.py"
      ]
    },
    {
      "cell_type": "code",
      "execution_count": null,
      "id": "ZKyQppG7XqYF",
      "metadata": {
        "colab": {
          "base_uri": "https://localhost:8080/"
        },
        "id": "ZKyQppG7XqYF",
        "outputId": "f3752168-a951-496d-9623-a71515de49bb"
      },
      "outputs": [
        {
          "name": "stdout",
          "output_type": "stream",
          "text": [
            "Overwriting app.py\n"
          ]
        }
      ],
      "source": [
        "# Write the Streamlit app to a file\n",
        "%%writefile app.py\n",
        "import streamlit as st\n",
        "from langchain_google_genai import GoogleGenerativeAI\n",
        "from langchain_community.utilities import SQLDatabase\n",
        "from langchain_experimental.sql import SQLDatabaseChain\n",
        "from langchain.prompts import SemanticSimilarityExampleSelector\n",
        "from langchain_community.embeddings import HuggingFaceEmbeddings\n",
        "from langchain_community.vectorstores import Chroma\n",
        "from langchain.prompts import FewShotPromptTemplate\n",
        "from langchain.chains.sql_database.prompt import PROMPT_SUFFIX, _mysql_prompt\n",
        "from langchain.prompts.prompt import PromptTemplate\n",
        "from sqlalchemy.exc import OperationalError\n",
        "st.title(\"AtliQ T Shirts: Database Q&A 👕\")\n",
        "\n",
        "question = st.text_input(\"Question: \")\n",
        "\n",
        "# from few_shots import few_shots\n",
        "\n",
        "# import os\n",
        "# from dotenv import load_dotenv\n",
        "# load_dotenv()  # take environment variables from .env (especially openai api key)\n",
        "\n",
        "import sqlite3\n",
        "# Connect to the database (or create it if it doesn't exist)\n",
        "conn = sqlite3.connect('atliq_tshirts.db')\n",
        "cursor = conn.cursor()\n",
        "\n",
        "few_shots =     [{'Question' : 'How many t-shirts do we have left for Nike in XS size and white color?',\n",
        "     'SQLQuery' : 'SELECT sum(stock_quantity) FROM t_shirts WHERE brand = \"Nike\" AND color = \"White\" AND size = \"XS\"',\n",
        "     'SQLResult': \"Result of the SQL query\",\n",
        "     'Answer' : '99'}    ,\n",
        "    {'Question': \"How much is the total price of the inventory for all S-size t-shirts?\",\n",
        "     'SQLQuery':\"SELECT SUM(price*stock_quantity) FROM t_shirts WHERE size = 'S'\",\n",
        "     'SQLResult': \"Result of the SQL query\",\n",
        "     'Answer': '427'},\n",
        "    {'Question': \"If we have to sell all the Levi’s T-shirts today with discounts applied. How much revenue  our store will generate (post discounts)?\" ,\n",
        "     'SQLQuery' : \"\"\"SELECT sum(a.total_amount * ((100-COALESCE(discounts.pct_discount,0))/100)) as total_revenue from\n",
        "(select sum(price*stock_quantity) as total_amount, t_shirt_id from t_shirts where brand = 'Levi'\n",
        "group by t_shirt_id) a left join discounts on a.t_shirt_id = discounts.t_shirt_id\n",
        " \"\"\",\n",
        "     'SQLResult': \"Result of the SQL query\",\n",
        "     'Answer': '18910'} ,\n",
        "     {'Question' : \"If we have to sell all the Levi’s T-shirts today. How much revenue our store will generate without discount?\" ,\n",
        "      'SQLQuery': \"SELECT SUM(price * stock_quantity) FROM t_shirts WHERE brand = 'Levi'\",\n",
        "      'SQLResult': \"Result of the SQL query\",\n",
        "      'Answer' : '22250'},\n",
        "    {'Question': \"How many white color Levi's shirt I have?\",\n",
        "     'SQLQuery' : \"SELECT sum(stock_quantity) FROM t_shirts WHERE brand = 'Levi' AND color = 'White'\",\n",
        "     'SQLResult': \"Result of the SQL query\",\n",
        "     'Answer' : '223'\n",
        "     }\n",
        "]\n",
        "\n",
        "def get_few_shot_db_chain():\n",
        "    db = SQLDatabase.from_uri(\"sqlite:////content/atliq_tshirts.db\",sample_rows_in_table_info=3)\n",
        "    llm = GoogleGenerativeAI(model=\"models/text-bison-001\", google_api_key='', temperature=0.1)\n",
        "\n",
        "    embeddings = HuggingFaceEmbeddings(model_name='sentence-transformers/all-MiniLM-L6-v2')\n",
        "    to_vectorize = [\" \".join(example.values()) for example in few_shots]\n",
        "    vectorstore = Chroma.from_texts(to_vectorize, embeddings, metadatas=few_shots)\n",
        "    example_selector = SemanticSimilarityExampleSelector(\n",
        "        vectorstore=vectorstore,\n",
        "        k=2,\n",
        "    )\n",
        "    mysql_prompt = \"\"\"You are a MySQL expert. Given an input question, first create a syntactically correct MySQL query to run, then look at the results of the query and return the answer to the input question.\n",
        "    Unless the user specifies in the question a specific number of examples to obtain, query for at most {top_k} results using the LIMIT clause as per MySQL. You can order the results to return the most informative data in the database.\n",
        "    Never query for all columns from a table. You must query only the columns that are needed to answer the question. Wrap each column name in backticks (`) to denote them as delimited identifiers.\n",
        "    Pay attention to use only the column names you can see in the tables below. Be careful to not query for columns that do not exist. Also, pay attention to which column is in which table.\n",
        "    Pay attention to use CURDATE() function to get the current date, if the question involves \"today\".\n",
        "\n",
        "    Use the following format:\n",
        "\n",
        "    Question: Question here\n",
        "    SQLQuery: Query to run with no pre-amble\n",
        "    SQLResult: Result of the SQLQuery\n",
        "    Answer: Final answer here\n",
        "\n",
        "    No pre-amble.\n",
        "    \"\"\"\n",
        "\n",
        "    example_prompt = PromptTemplate(\n",
        "        input_variables=[\"Question\", \"SQLQuery\", \"SQLResult\",\"Answer\",],\n",
        "        template=\"\\nQuestion: {Question}\\nSQLQuery: {SQLQuery}\\nSQLResult: {SQLResult}\\nAnswer: {Answer}\",\n",
        "    )\n",
        "\n",
        "    few_shot_prompt = FewShotPromptTemplate(\n",
        "        example_selector=example_selector,\n",
        "        example_prompt=example_prompt,\n",
        "        prefix=mysql_prompt,\n",
        "        suffix=PROMPT_SUFFIX,\n",
        "        input_variables=[\"input\", \"table_info\", \"top_k\"], #These variables are used in the prefix and suffix\n",
        "    )\n",
        "    chain = SQLDatabaseChain.from_llm(llm, db, verbose=True, prompt=few_shot_prompt)\n",
        "    return chain\n",
        "if question:\n",
        "  try:\n",
        "    chain = get_few_shot_db_chain()\n",
        "    response = chain.run(question)\n",
        "    st.header(\"Answer\")\n",
        "    st.write(response)\n",
        "  # except OperationalError as oe:\n",
        "  #       st.error(\"Please provide a question prompt relevant to the records in the database.\")\n",
        "  except Exception as e:\n",
        "      st.error(f\"An error occurred: {str(e)}\")\n"
      ]
    },
    {
      "cell_type": "code",
      "execution_count": null,
      "id": "2t48KmuQ0gdz",
      "metadata": {
        "colab": {
          "base_uri": "https://localhost:8080/"
        },
        "id": "2t48KmuQ0gdz",
        "outputId": "d1dac0a5-b751-408f-c7c2-71a27c716ade"
      },
      "outputs": [
        {
          "name": "stdout",
          "output_type": "stream",
          "text": [
            "\n",
            "Collecting usage statistics. To deactivate, set browser.gatherUsageStats to false.\n",
            "\u001b[0m\n",
            "\u001b[0m\n",
            "\u001b[34m\u001b[1m  You can now view your Streamlit app in your browser.\u001b[0m\n",
            "\u001b[0m\n",
            "\u001b[34m  Local URL: \u001b[0m\u001b[1mhttp://localhost:8501\u001b[0m\n",
            "\u001b[34m  Network URL: \u001b[0m\u001b[1mhttp://172.28.0.12:8501\u001b[0m\n",
            "\u001b[34m  External URL: \u001b[0m\u001b[1mhttp://35.230.65.149:8501\u001b[0m\n",
            "\u001b[0m\n",
            "\u001b[K\u001b[?25hnpx: installed 22 in 2.385s\n",
            "your url is: https://clear-tips-stare.loca.lt\n",
            "2024-06-02 02:39:27.158402: E external/local_xla/xla/stream_executor/cuda/cuda_dnn.cc:9261] Unable to register cuDNN factory: Attempting to register factory for plugin cuDNN when one has already been registered\n",
            "2024-06-02 02:39:27.158461: E external/local_xla/xla/stream_executor/cuda/cuda_fft.cc:607] Unable to register cuFFT factory: Attempting to register factory for plugin cuFFT when one has already been registered\n",
            "2024-06-02 02:39:27.160401: E external/local_xla/xla/stream_executor/cuda/cuda_blas.cc:1515] Unable to register cuBLAS factory: Attempting to register factory for plugin cuBLAS when one has already been registered\n",
            "2024-06-02 02:39:27.172483: I tensorflow/core/platform/cpu_feature_guard.cc:182] This TensorFlow binary is optimized to use available CPU instructions in performance-critical operations.\n",
            "To enable the following instructions: AVX2 FMA, in other operations, rebuild TensorFlow with the appropriate compiler flags.\n",
            "2024-06-02 02:39:28.368297: W tensorflow/compiler/tf2tensorrt/utils/py_utils.cc:38] TF-TRT Warning: Could not find TensorRT\n",
            "/usr/local/lib/python3.10/dist-packages/huggingface_hub/file_download.py:1132: FutureWarning: `resume_download` is deprecated and will be removed in version 1.0.0. Downloads always resume when possible. If you want to force a new download, use `force_download=True`.\n",
            "  warnings.warn(\n",
            "/usr/local/lib/python3.10/dist-packages/langchain_core/_api/deprecation.py:119: LangChainDeprecationWarning: The method `Chain.run` was deprecated in langchain 0.1.0 and will be removed in 0.3.0. Use invoke instead.\n",
            "  warn_deprecated(\n",
            "\n",
            "\n",
            "\u001b[1m> Entering new SQLDatabaseChain chain...\u001b[0m\n",
            "Number of Levi's T_shirts\n",
            "SQLQuery:\u001b[32;1m\u001b[1;3mSELECT count(*) FROM t_shirts WHERE brand = 'Levi'\u001b[0m\n",
            "SQLResult: \u001b[33;1m\u001b[1;3m[(14,)]\u001b[0m\n",
            "Answer:\u001b[32;1m\u001b[1;3m14\u001b[0m\n",
            "\u001b[1m> Finished chain.\u001b[0m\n",
            "/usr/local/lib/python3.10/dist-packages/huggingface_hub/file_download.py:1132: FutureWarning: `resume_download` is deprecated and will be removed in version 1.0.0. Downloads always resume when possible. If you want to force a new download, use `force_download=True`.\n",
            "  warnings.warn(\n",
            "\n",
            "\n",
            "\u001b[1m> Entering new SQLDatabaseChain chain...\u001b[0m\n",
            "He\n",
            "SQLQuery:\u001b[32;1m\u001b[1;3mSELECT * FROM t_shirts\u001b[0m\n",
            "SQLResult: \u001b[33;1m\u001b[1;3m[(1, 'Van Huesen', 'Blue', 'XS', 17, 81), (2, 'Levi', 'Black', 'L', 29, 50), (3, 'Adidas', 'White', 'M', 14, 14), (4, 'Adidas', 'Blue', 'M', 31, 91), (5, 'Adidas', 'Black', 'L', 22, 58), (6, 'Adidas', 'Blue', 'XS', 43, 71), (7, 'Adidas', 'Black', 'XL', 23, 71), (8, 'Levi', 'White', 'M', 42, 45), (9, 'Nike', 'Black', 'L', 37, 22), (10, 'Nike', 'White', 'M', 38, 10), (11, 'Adidas', 'White', 'L', 12, 97), (12, 'Nike', 'Red', 'XS', 45, 19), (13, 'Adidas', 'Red', 'M', 23, 51), (14, 'Levi', 'Red', 'L', 11, 25), (15, 'Nike', 'Red', 'M', 29, 61), (16, 'Levi', 'Black', 'S', 37, 64), (17, 'Adidas', 'Red', 'XL', 20, 43), (18, 'Van Huesen', 'Blue', 'L', 18, 10), (19, 'Levi', 'White', 'S', 17, 83), (20, 'Levi', 'White', 'XL', 42, 44), (21, 'Nike', 'Black', 'XL', 13, 67), (22, 'Adidas', 'White', 'XS', 44, 17), (23, 'Adidas', 'Blue', 'L', 46, 23), (24, 'Van Huesen', 'White', 'M', 13, 63), (26, 'Nike', 'Black', 'XS', 30, 37), (27, 'Adidas', 'Red', 'S', 47, 97), (29, 'Nike', 'White', 'L', 48, 49), (30, 'Levi', 'Blue', 'S', 16, 86), (31, 'Nike', 'Red', 'S', 48, 100), (32, 'Van Huesen', 'White', 'L', 46, 43), (33, 'Van Huesen', 'White', 'XS', 39, 33), (34, 'Van Huesen', 'White', 'S', 45, 38), (41, 'Adidas', 'Black', 'S', 43, 24), (43, 'Nike', 'Black', 'M', 17, 59), (44, 'Van Huesen', 'Blue', 'M', 10, 77), (45, 'Nike', 'White', 'XL', 49, 90), (46, 'Nike', 'White', 'S', 42, 89), (47, 'Adidas', 'Blue', 'XL', 14, 14), (52, 'Adidas', 'Red', 'XS', 11, 81), (53, 'Adidas', 'White', 'XL', 50, 26), (55, 'Levi', 'Red', 'XL', 30, 80), (57, 'Van Huesen', 'Black', 'XL', 23, 19), (58, 'Nike', 'Blue', 'XS', 38, 15), (61, 'Van Huesen', 'Blue', 'XL', 27, 44), (63, 'Van Huesen', 'Red', 'XS', 24, 53), (69, 'Levi', 'Black', 'XS', 44, 82), (70, 'Levi', 'White', 'XS', 30, 51), (72, 'Nike', 'Black', 'S', 35, 20), (74, 'Levi', 'Red', 'XS', 19, 86), (77, 'Levi', 'Black', 'M', 25, 44), (80, 'Van Huesen', 'Red', 'S', 41, 23), (81, 'Levi', 'Black', 'XL', 32, 18), (83, 'Van Huesen', 'Red', 'M', 42, 31), (84, 'Adidas', 'Blue', 'S', 36, 25), (94, 'Nike', 'White', 'XS', 43, 99), (100, 'Levi', 'Blue', 'M', 49, 16)]\u001b[0m\n",
            "Answer:/usr/local/lib/python3.10/dist-packages/huggingface_hub/file_download.py:1132: FutureWarning: `resume_download` is deprecated and will be removed in version 1.0.0. Downloads always resume when possible. If you want to force a new download, use `force_download=True`.\n",
            "  warnings.warn(\n",
            "\n",
            "\n",
            "\u001b[1m> Entering new SQLDatabaseChain chain...\u001b[0m\n",
            "Numer \n",
            "SQLQuery:\u001b[32;1m\u001b[1;3mSELECT * FROM t_shirts\u001b[0m\n",
            "SQLResult: \u001b[33;1m\u001b[1;3m[(1, 'Van Huesen', 'Blue', 'XS', 17, 81), (2, 'Levi', 'Black', 'L', 29, 50), (3, 'Adidas', 'White', 'M', 14, 14), (4, 'Adidas', 'Blue', 'M', 31, 91), (5, 'Adidas', 'Black', 'L', 22, 58), (6, 'Adidas', 'Blue', 'XS', 43, 71), (7, 'Adidas', 'Black', 'XL', 23, 71), (8, 'Levi', 'White', 'M', 42, 45), (9, 'Nike', 'Black', 'L', 37, 22), (10, 'Nike', 'White', 'M', 38, 10), (11, 'Adidas', 'White', 'L', 12, 97), (12, 'Nike', 'Red', 'XS', 45, 19), (13, 'Adidas', 'Red', 'M', 23, 51), (14, 'Levi', 'Red', 'L', 11, 25), (15, 'Nike', 'Red', 'M', 29, 61), (16, 'Levi', 'Black', 'S', 37, 64), (17, 'Adidas', 'Red', 'XL', 20, 43), (18, 'Van Huesen', 'Blue', 'L', 18, 10), (19, 'Levi', 'White', 'S', 17, 83), (20, 'Levi', 'White', 'XL', 42, 44), (21, 'Nike', 'Black', 'XL', 13, 67), (22, 'Adidas', 'White', 'XS', 44, 17), (23, 'Adidas', 'Blue', 'L', 46, 23), (24, 'Van Huesen', 'White', 'M', 13, 63), (26, 'Nike', 'Black', 'XS', 30, 37), (27, 'Adidas', 'Red', 'S', 47, 97), (29, 'Nike', 'White', 'L', 48, 49), (30, 'Levi', 'Blue', 'S', 16, 86), (31, 'Nike', 'Red', 'S', 48, 100), (32, 'Van Huesen', 'White', 'L', 46, 43), (33, 'Van Huesen', 'White', 'XS', 39, 33), (34, 'Van Huesen', 'White', 'S', 45, 38), (41, 'Adidas', 'Black', 'S', 43, 24), (43, 'Nike', 'Black', 'M', 17, 59), (44, 'Van Huesen', 'Blue', 'M', 10, 77), (45, 'Nike', 'White', 'XL', 49, 90), (46, 'Nike', 'White', 'S', 42, 89), (47, 'Adidas', 'Blue', 'XL', 14, 14), (52, 'Adidas', 'Red', 'XS', 11, 81), (53, 'Adidas', 'White', 'XL', 50, 26), (55, 'Levi', 'Red', 'XL', 30, 80), (57, 'Van Huesen', 'Black', 'XL', 23, 19), (58, 'Nike', 'Blue', 'XS', 38, 15), (61, 'Van Huesen', 'Blue', 'XL', 27, 44), (63, 'Van Huesen', 'Red', 'XS', 24, 53), (69, 'Levi', 'Black', 'XS', 44, 82), (70, 'Levi', 'White', 'XS', 30, 51), (72, 'Nike', 'Black', 'S', 35, 20), (74, 'Levi', 'Red', 'XS', 19, 86), (77, 'Levi', 'Black', 'M', 25, 44), (80, 'Van Huesen', 'Red', 'S', 41, 23), (81, 'Levi', 'Black', 'XL', 32, 18), (83, 'Van Huesen', 'Red', 'M', 42, 31), (84, 'Adidas', 'Blue', 'S', 36, 25), (94, 'Nike', 'White', 'XS', 43, 99), (100, 'Levi', 'Blue', 'M', 49, 16)]\u001b[0m\n",
            "Answer:/usr/local/lib/python3.10/dist-packages/huggingface_hub/file_download.py:1132: FutureWarning: `resume_download` is deprecated and will be removed in version 1.0.0. Downloads always resume when possible. If you want to force a new download, use `force_download=True`.\n",
            "  warnings.warn(\n",
            "\n",
            "\n",
            "\u001b[1m> Entering new SQLDatabaseChain chain...\u001b[0m\n",
            "Van Huesen Blue t_shirts\n",
            "SQLQuery:\u001b[32;1m\u001b[1;3mSELECT * FROM t_shirts WHERE brand = 'Van Huesen' AND color = 'Blue'\u001b[0m\n",
            "SQLResult: \u001b[33;1m\u001b[1;3m[(1, 'Van Huesen', 'Blue', 'XS', 17, 81), (18, 'Van Huesen', 'Blue', 'L', 18, 10), (44, 'Van Huesen', 'Blue', 'M', 10, 77), (61, 'Van Huesen', 'Blue', 'XL', 27, 44)]\u001b[0m\n",
            "Answer:\u001b[32;1m\u001b[1;3m1, 18, 44, 61\u001b[0m\n",
            "\u001b[1m> Finished chain.\u001b[0m\n",
            "/usr/local/lib/python3.10/dist-packages/huggingface_hub/file_download.py:1132: FutureWarning: `resume_download` is deprecated and will be removed in version 1.0.0. Downloads always resume when possible. If you want to force a new download, use `force_download=True`.\n",
            "  warnings.warn(\n",
            "\n",
            "\n",
            "\u001b[1m> Entering new SQLDatabaseChain chain...\u001b[0m\n",
            "Show all records in discounts table\n",
            "SQLQuery:\u001b[32;1m\u001b[1;3mSELECT * FROM discounts\u001b[0m\n",
            "SQLResult: \u001b[33;1m\u001b[1;3m[(None, 1, 10), (None, 2, 15), (None, 3, 20), (None, 4, 5), (None, 5, 25), (None, 6, 10), (None, 7, 30), (None, 8, 35), (None, 9, 40), (None, 10, 45)]\u001b[0m\n",
            "Answer:\u001b[32;1m\u001b[1;3m10 rows\u001b[0m\n",
            "\u001b[1m> Finished chain.\u001b[0m\n",
            "\u001b[34m  Stopping...\u001b[0m\n",
            "^C\n"
          ]
        }
      ],
      "source": [
        "!streamlit run app.py & npx localtunnel --port  8501"
      ]
    }
  ],
  "metadata": {
    "colab": {
      "provenance": []
    },
    "kernelspec": {
      "display_name": "Python 3 (ipykernel)",
      "language": "python",
      "name": "python3"
    },
    "language_info": {
      "codemirror_mode": {
        "name": "ipython",
        "version": 3
      },
      "file_extension": ".py",
      "mimetype": "text/x-python",
      "name": "python",
      "nbconvert_exporter": "python",
      "pygments_lexer": "ipython3",
      "version": "3.10.11"
    }
  },
  "nbformat": 4,
  "nbformat_minor": 5
}
